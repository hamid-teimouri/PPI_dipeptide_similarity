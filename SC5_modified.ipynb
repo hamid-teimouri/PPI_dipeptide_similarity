{
 "cells": [
  {
   "cell_type": "markdown",
   "id": "025cee49-6b48-4b51-95ae-f863502128e4",
   "metadata": {},
   "source": [
    "# PPI prediction for SC5 network"
   ]
  },
  {
   "cell_type": "code",
   "execution_count": 1,
   "id": "ae0d0e09-6b50-4354-87f8-dae38cd5cbac",
   "metadata": {},
   "outputs": [
    {
     "name": "stderr",
     "output_type": "stream",
     "text": [
      "<frozen importlib._bootstrap>:228: RuntimeWarning: scipy._lib.messagestream.MessageStream size changed, may indicate binary incompatibility. Expected 56 from C header, got 64 from PyObject\n"
     ]
    },
    {
     "name": "stdout",
     "output_type": "stream",
     "text": [
      "1.25.2\n",
      "1.4.4\n",
      "3.9.15 (main, Nov 24 2022, 08:29:02) \n",
      "[Clang 14.0.6 ]\n",
      "importing Jupyter notebook from PPI_functions.ipynb\n",
      "1.25.2\n",
      "1.4.4\n",
      "3.9.15 (main, Nov 24 2022, 08:29:02) \n",
      "[Clang 14.0.6 ]\n"
     ]
    }
   ],
   "source": [
    "import numpy as np\n",
    "import pandas as pd\n",
    "import seaborn as sns\n",
    "from sklearn import datasets\n",
    "from sklearn import svm\n",
    "import matplotlib.pyplot as plt\n",
    "#%matplotlib inline\n",
    "from sklearn.preprocessing import MinMaxScaler\n",
    "import matplotlib.patches as mpatches\n",
    "from sklearn.preprocessing import StandardScaler\n",
    "from sklearn.manifold import TSNE\n",
    "from sklearn.model_selection import train_test_split\n",
    "from sklearn.linear_model import LogisticRegression\n",
    "from sklearn.svm import SVC\n",
    "from sklearn.metrics import recall_score, matthews_corrcoef, f1_score\n",
    "from sklearn.model_selection import cross_val_score\n",
    "import logging\n",
    "import matplotlib.pyplot as plt\n",
    "import seaborn as sns\n",
    "sns.set_style('whitegrid')\n",
    "print(np.__version__)\n",
    "print(pd.__version__)\n",
    "import sys\n",
    "print(sys.version)\n",
    "import sklearn\n",
    "from scipy.stats import ttest_ind\n",
    "import scipy.stats  as stats\n",
    "import networkx as nx\n",
    "from joblib import dump, load\n",
    "from sklearn.metrics import f1_score\n",
    "from sklearn.model_selection import StratifiedShuffleSplit\n",
    "import pickle\n",
    "import xgboost as xgb\n",
    "#print(sklearn.__version__)\n",
    "import import_ipynb\n",
    "from PPI_functions import *\n",
    "network_name='SC5'\n"
   ]
  },
  {
   "cell_type": "markdown",
   "id": "48e00ddc-6d99-41a3-9280-ecf51dc90210",
   "metadata": {},
   "source": [
    "## source of data\n",
    "## https://github.com/mlbioinfolab/ppi-metago/blob/master/protein_pair/EC2/EC2_pair.txt\n",
    "\n",
    "## publication: https://bmcbioinformatics.biomedcentral.com/articles/10.1186/s12859-019-2907-1"
   ]
  },
  {
   "cell_type": "code",
   "execution_count": 2,
   "id": "c93b5d4b-fcb6-4978-ba6a-de247fa36838",
   "metadata": {},
   "outputs": [],
   "source": [
    "#path_h=\"/Users/temih/Dropbox/PPI_similarity_new/data/\"   # windows\n",
    "path_h=\"/Users/hamidteimouri/Dropbox/PPI_similarity_new/data/\" # mac\n"
   ]
  },
  {
   "cell_type": "markdown",
   "id": "c53bae78-afdd-4c29-ba4e-43ea2fbaa899",
   "metadata": {},
   "source": [
    "# Step0: Visualization of the network"
   ]
  },
  {
   "cell_type": "code",
   "execution_count": 3,
   "id": "3e42bd3d-dbd7-4c21-9185-ed704ab4b20b",
   "metadata": {},
   "outputs": [],
   "source": [
    "#G4=network_vis('EC2',path_h)\n",
    "#!pip install xgboost scikit-learn\n"
   ]
  },
  {
   "cell_type": "markdown",
   "id": "79f7c410-c080-41b0-b9cf-88e9a6111689",
   "metadata": {},
   "source": [
    "# Step 1: Feature extraction using propy\n"
   ]
  },
  {
   "cell_type": "markdown",
   "id": "bac48d5d-fc23-425b-9519-a3cbd99bf72d",
   "metadata": {},
   "source": [
    "#Descriptors_complete('EC2_sequence_fasta.txt','EC2_descriptors.csv')"
   ]
  },
  {
   "cell_type": "markdown",
   "id": "0202da57-fa8b-4f17-9dcd-958b5f95b502",
   "metadata": {},
   "source": [
    "# Step 2: Calculate PP distance"
   ]
  },
  {
   "cell_type": "code",
   "execution_count": 4,
   "id": "579b6533-d61f-4da5-80c9-8c32e96de410",
   "metadata": {},
   "outputs": [],
   "source": [
    "# distance_PP('EC2')"
   ]
  },
  {
   "cell_type": "markdown",
   "id": "63315621-60e8-48a2-9900-89b4becd1597",
   "metadata": {},
   "source": [
    "# Step 3: Upload data and train/test spilit"
   ]
  },
  {
   "cell_type": "code",
   "execution_count": 5,
   "id": "596f36e5-79fa-4471-ba1a-acdbedb19c71",
   "metadata": {},
   "outputs": [],
   "source": [
    "X,y,klist,df3=load_network_data(network_name, path_h)\n",
    "\n"
   ]
  },
  {
   "cell_type": "code",
   "execution_count": 6,
   "id": "d1580096-c6ff-433e-98f5-05df5233a896",
   "metadata": {},
   "outputs": [],
   "source": [
    "ns = 15\n",
    "Xtrain_cv, Xtest_cv, Ytrain_cv, Ytest_cv=cross_val_split(X,y,ns)"
   ]
  },
  {
   "cell_type": "markdown",
   "id": "d1b7b193-2a9a-4ac8-85a0-f2b1f714090a",
   "metadata": {},
   "source": [
    "# Step 4: Train logistic and SVM models using all features"
   ]
  },
  {
   "cell_type": "code",
   "execution_count": 7,
   "id": "a1410df6-514e-4724-815d-f4a005afd878",
   "metadata": {},
   "outputs": [
    {
     "name": "stderr",
     "output_type": "stream",
     "text": [
      "/Users/hamidteimouri/opt/anaconda3/lib/python3.9/site-packages/sklearn/linear_model/_logistic.py:814: ConvergenceWarning: lbfgs failed to converge (status=1):\n",
      "STOP: TOTAL NO. of ITERATIONS REACHED LIMIT.\n",
      "\n",
      "Increase the number of iterations (max_iter) or scale the data as shown in:\n",
      "    https://scikit-learn.org/stable/modules/preprocessing.html\n",
      "Please also refer to the documentation for alternative solver options:\n",
      "    https://scikit-learn.org/stable/modules/linear_model.html#logistic-regression\n",
      "  n_iter_i = _check_optimize_result(\n",
      "/Users/hamidteimouri/opt/anaconda3/lib/python3.9/site-packages/sklearn/linear_model/_logistic.py:814: ConvergenceWarning: lbfgs failed to converge (status=1):\n",
      "STOP: TOTAL NO. of ITERATIONS REACHED LIMIT.\n",
      "\n",
      "Increase the number of iterations (max_iter) or scale the data as shown in:\n",
      "    https://scikit-learn.org/stable/modules/preprocessing.html\n",
      "Please also refer to the documentation for alternative solver options:\n",
      "    https://scikit-learn.org/stable/modules/linear_model.html#logistic-regression\n",
      "  n_iter_i = _check_optimize_result(\n"
     ]
    }
   ],
   "source": [
    "all_features_traning_results = models_crossval(Xtrain_cv,Ytrain_cv,ns)\n"
   ]
  },
  {
   "cell_type": "code",
   "execution_count": 8,
   "id": "c142caa1-8503-4d17-a343-58909311dcba",
   "metadata": {},
   "outputs": [
    {
     "data": {
      "text/plain": [
       "{'average logistic regression accuracy:': 0.9831666666666664,\n",
       " 'average SVM accuracy:': 0.9493333333333334,\n",
       " 'average logistic regression recall:': 0.9831666666666667,\n",
       " 'average SVM recall:': 0.9493333333333334,\n",
       " 'average logistic regression matthews_corrcoef:': 0.9665680512377084,\n",
       " 'average SVM matthews_corrcoef:': 0.900931900146896,\n",
       " 'average logistic regression f1 score:': 0.9665680512377084,\n",
       " 'average SVM f1 score:': 0.900931900146896}"
      ]
     },
     "execution_count": 8,
     "metadata": {},
     "output_type": "execute_result"
    }
   ],
   "source": [
    "all_features_traning_results"
   ]
  },
  {
   "cell_type": "code",
   "execution_count": 9,
   "id": "85141936-9ebc-4e3c-ab6a-cacf380ba610",
   "metadata": {},
   "outputs": [],
   "source": [
    "\n",
    "## Save dat into pickle file\n",
    "data_save = {}\n",
    "data_save['all_features_traning_results']=all_features_traning_results"
   ]
  },
  {
   "cell_type": "markdown",
   "id": "cc1e9cc1-473a-45fa-8bb4-33d9f8abce0e",
   "metadata": {},
   "source": [
    "## now we check if model overfits"
   ]
  },
  {
   "cell_type": "code",
   "execution_count": 10,
   "id": "50e29563-c1fb-40c7-a234-7bc19776c5db",
   "metadata": {},
   "outputs": [
    {
     "name": "stdout",
     "output_type": "stream",
     "text": [
      "Processing cross validation for fold: 1\n",
      "Logistic Regression train_accuracy: 0.9775\n",
      "Logistic Regression test_accuracy: 0.7150\n",
      "Logistic Regression train_recall: 0.9775\n",
      "Logistic Regression test_recall: 0.7150\n",
      "Logistic Regression train_mcc: 0.9552\n",
      "Logistic Regression test_mcc: 0.4441\n",
      "Logistic Regression train_f1: 0.9777\n",
      "Logistic Regression test_f1: 0.7467\n",
      "\n",
      "\n",
      "SVC train_accuracy: 0.9537\n",
      "SVC test_accuracy: 0.7350\n",
      "SVC train_recall: 0.9538\n",
      "SVC test_recall: 0.7350\n",
      "SVC train_mcc: 0.9090\n",
      "SVC test_mcc: 0.4769\n",
      "SVC train_f1: 0.9550\n",
      "SVC test_f1: 0.7558\n",
      "\n",
      "\n",
      "Processing cross validation for fold: 2\n",
      "Logistic Regression train_accuracy: 0.9875\n",
      "Logistic Regression test_accuracy: 0.7400\n",
      "Logistic Regression train_recall: 0.9875\n",
      "Logistic Regression test_recall: 0.7400\n",
      "Logistic Regression train_mcc: 0.9752\n",
      "Logistic Regression test_mcc: 0.4804\n",
      "Logistic Regression train_f1: 0.9876\n",
      "Logistic Regression test_f1: 0.7451\n",
      "\n",
      "\n",
      "SVC train_accuracy: 0.9425\n",
      "SVC test_accuracy: 0.7050\n",
      "SVC train_recall: 0.9425\n",
      "SVC test_recall: 0.7050\n",
      "SVC train_mcc: 0.8886\n",
      "SVC test_mcc: 0.4213\n",
      "SVC train_f1: 0.9450\n",
      "SVC test_f1: 0.7354\n",
      "\n",
      "\n",
      "Processing cross validation for fold: 3\n",
      "Logistic Regression train_accuracy: 0.9812\n",
      "Logistic Regression test_accuracy: 0.7250\n",
      "Logistic Regression train_recall: 0.9812\n",
      "Logistic Regression test_recall: 0.7250\n",
      "Logistic Regression train_mcc: 0.9629\n",
      "Logistic Regression test_mcc: 0.4566\n",
      "Logistic Regression train_f1: 0.9815\n",
      "Logistic Regression test_f1: 0.7465\n",
      "\n",
      "\n",
      "SVC train_accuracy: 0.9475\n",
      "SVC test_accuracy: 0.7200\n",
      "SVC train_recall: 0.9475\n",
      "SVC test_recall: 0.7200\n",
      "SVC train_mcc: 0.8979\n",
      "SVC test_mcc: 0.4557\n",
      "SVC train_f1: 0.9495\n",
      "SVC test_f1: 0.7522\n",
      "\n",
      "\n",
      "Processing cross validation for fold: 4\n",
      "Logistic Regression train_accuracy: 0.9875\n",
      "Logistic Regression test_accuracy: 0.7550\n",
      "Logistic Regression train_recall: 0.9875\n",
      "Logistic Regression test_recall: 0.7550\n",
      "Logistic Regression train_mcc: 0.9752\n",
      "Logistic Regression test_mcc: 0.5131\n",
      "Logistic Regression train_f1: 0.9876\n",
      "Logistic Regression test_f1: 0.7678\n",
      "\n",
      "\n",
      "SVC train_accuracy: 0.9525\n",
      "SVC test_accuracy: 0.7450\n",
      "SVC train_recall: 0.9525\n",
      "SVC test_recall: 0.7450\n",
      "SVC train_mcc: 0.9076\n",
      "SVC test_mcc: 0.4956\n",
      "SVC train_f1: 0.9542\n",
      "SVC test_f1: 0.7628\n",
      "\n",
      "\n",
      "Processing cross validation for fold: 5\n",
      "Logistic Regression train_accuracy: 0.9862\n",
      "Logistic Regression test_accuracy: 0.7400\n",
      "Logistic Regression train_recall: 0.9863\n",
      "Logistic Regression test_recall: 0.7400\n",
      "Logistic Regression train_mcc: 0.9726\n",
      "Logistic Regression test_mcc: 0.4835\n",
      "Logistic Regression train_f1: 0.9864\n",
      "Logistic Regression test_f1: 0.7547\n",
      "\n",
      "\n",
      "SVC train_accuracy: 0.9537\n",
      "SVC test_accuracy: 0.7700\n",
      "SVC train_recall: 0.9537\n",
      "SVC test_recall: 0.7700\n",
      "SVC train_mcc: 0.9083\n",
      "SVC test_mcc: 0.5536\n",
      "SVC train_f1: 0.9547\n",
      "SVC test_f1: 0.7928\n",
      "\n",
      "\n"
     ]
    }
   ],
   "source": [
    "from sklearn.model_selection import StratifiedShuffleSplit\n",
    "# Your initial setup\n",
    "ns=5\n",
    "Y = y\n",
    "cv = StratifiedShuffleSplit(n_splits=ns, test_size=0.2, random_state=999)\n",
    "fold_num=0\n",
    "# Splitting\n",
    "for train_index, test_index in cv.split(X, y):\n",
    "    X_train, X_test = X[train_index], X[test_index]\n",
    "    Y_train, Y_test = Y[train_index], Y[test_index]\n",
    "    # Now you have a train-test split, you can proceed with your analysis\n",
    "    # For instance, \n",
    "    fold_num += 1  # Increment the fold counter\n",
    "    print('Processing cross validation for fold:', fold_num)\n",
    "    results = models_overfitting(X_train, Y_train, X_test, Y_test)\n"
   ]
  },
  {
   "cell_type": "markdown",
   "id": "3f891fd1-b92a-4841-a6f9-8613bc64d5ed",
   "metadata": {},
   "source": [
    "# Step 5: Feature Selection Using Lasso Regression"
   ]
  },
  {
   "cell_type": "code",
   "execution_count": 11,
   "id": "e740548d-d75b-4538-98ca-70e299bded77",
   "metadata": {},
   "outputs": [
    {
     "name": "stdout",
     "output_type": "stream",
     "text": [
      "NR -0.19095658011436448\n",
      "NF -0.08024610941067638\n",
      "DG -0.11402221719388896\n",
      "EI 0.18166794540657305\n",
      "GR -0.39441592205641446\n",
      "HI -0.08069616942548109\n",
      "IH -0.17985420906818608\n",
      "KT -0.0799800912573882\n",
      "MF 0.05503061179207761\n",
      "TR -0.08250589319374634\n",
      "TY 0.20827345448878856\n",
      "VH -0.1098981785427081\n",
      "MoranAuto_ResidueASA18 -0.08333252339935511\n",
      "_SolventAccessibilityC1 -0.20053953367281352\n",
      "_ChargeC1 -0.5048243787656488\n",
      "PAAC2 -0.11695879429166789\n"
     ]
    },
    {
     "data": {
      "text/plain": [
       "{'NR': -0.19095658011436448,\n",
       " 'NF': -0.08024610941067638,\n",
       " 'DG': -0.11402221719388896,\n",
       " 'EI': 0.18166794540657305,\n",
       " 'GR': -0.39441592205641446,\n",
       " 'HI': -0.08069616942548109,\n",
       " 'IH': -0.17985420906818608,\n",
       " 'KT': -0.0799800912573882,\n",
       " 'MF': 0.05503061179207761,\n",
       " 'TR': -0.08250589319374634,\n",
       " 'TY': 0.20827345448878856,\n",
       " 'VH': -0.1098981785427081,\n",
       " 'MoranAuto_ResidueASA18': -0.08333252339935511,\n",
       " '_SolventAccessibilityC1': -0.20053953367281352,\n",
       " '_ChargeC1': -0.5048243787656488,\n",
       " 'PAAC2': -0.11695879429166789}"
      ]
     },
     "execution_count": 11,
     "metadata": {},
     "output_type": "execute_result"
    }
   ],
   "source": [
    "AA=0.004\n",
    "ns = 15\n",
    "Xtrain_cv, Xtest_cv, Ytrain_cv, Ytest_cv=cross_val_split(X,y,ns)\n",
    "featuredict_lasso = lasso_feature_selection(Xtrain_cv,Ytrain_cv,AA,ns,klist)\n",
    "featuredict_lasso"
   ]
  },
  {
   "cell_type": "code",
   "execution_count": 12,
   "id": "5c2fc0ba-5602-4758-b315-70531cea5751",
   "metadata": {},
   "outputs": [],
   "source": [
    "data_save['selected_features_lasso']=featuredict_lasso"
   ]
  },
  {
   "cell_type": "code",
   "execution_count": 13,
   "id": "58d51c8d-2d97-45b4-8b50-078272ba8b9e",
   "metadata": {},
   "outputs": [
    {
     "data": {
      "image/png": "[encoded data removed]",
      "text/plain": [
       "<Figure size 640x480 with 1 Axes>"
      ]
     },
     "metadata": {},
     "output_type": "display_data"
    }
   ],
   "source": [
    "\n",
    "sorted_dict = sorted(featuredict_lasso.items(), key=lambda x: x[1])\n",
    "# Get the 10 highest positive keys\n",
    "positive_keys = dict(sorted_dict[-8:])\n",
    "# Get the 10 lowest negative keys\n",
    "negative_keys = dict(sorted_dict[:8])\n",
    "# Create a new dictionary containing the selected keys\n",
    "new_dict = {**positive_keys, **negative_keys}\n",
    "featuredict=new_dict\n",
    "dr=0.1\n",
    "selected_features_plotter(featuredict,network_name,'lasso',20,dr)\n"
   ]
  },
  {
   "cell_type": "markdown",
   "id": "805c6bc6-1de9-4c26-93df-a4e601e3e0c4",
   "metadata": {},
   "source": [
    "## Now we train model using features selection from LASSO mothod"
   ]
  },
  {
   "cell_type": "code",
   "execution_count": 14,
   "id": "98701369-493e-4616-a6e0-94a382ed63e9",
   "metadata": {},
   "outputs": [
    {
     "name": "stdout",
     "output_type": "stream",
     "text": [
      "Processing cross validation for fold: 1\n",
      "Logistic Regression train_accuracy: 0.7650\n",
      "Logistic Regression test_accuracy: 0.7100\n",
      "Logistic Regression train_recall: 0.7650\n",
      "Logistic Regression test_recall: 0.7100\n",
      "Logistic Regression train_mcc: 0.5319\n",
      "Logistic Regression test_mcc: 0.4270\n",
      "Logistic Regression train_f1: 0.7746\n",
      "Logistic Regression test_f1: 0.7339\n",
      "\n",
      "\n",
      "SVC train_accuracy: 0.8400\n",
      "SVC test_accuracy: 0.7050\n",
      "SVC train_recall: 0.8400\n",
      "SVC test_recall: 0.7050\n",
      "SVC train_mcc: 0.6845\n",
      "SVC test_mcc: 0.4147\n",
      "SVC train_f1: 0.8487\n",
      "SVC test_f1: 0.7256\n",
      "\n",
      "\n",
      "Processing cross validation for fold: 2\n",
      "Logistic Regression train_accuracy: 0.7512\n",
      "Logistic Regression test_accuracy: 0.7300\n",
      "Logistic Regression train_recall: 0.7512\n",
      "Logistic Regression test_recall: 0.7300\n",
      "Logistic Regression train_mcc: 0.5060\n",
      "Logistic Regression test_mcc: 0.4676\n",
      "Logistic Regression train_f1: 0.7651\n",
      "Logistic Regression test_f1: 0.7523\n",
      "\n",
      "\n",
      "SVC train_accuracy: 0.8363\n",
      "SVC test_accuracy: 0.7150\n",
      "SVC train_recall: 0.8362\n",
      "SVC test_recall: 0.7150\n",
      "SVC train_mcc: 0.6776\n",
      "SVC test_mcc: 0.4349\n",
      "SVC train_f1: 0.8457\n",
      "SVC test_f1: 0.7349\n",
      "\n",
      "\n",
      "Processing cross validation for fold: 3\n",
      "Logistic Regression train_accuracy: 0.7588\n",
      "Logistic Regression test_accuracy: 0.7150\n",
      "Logistic Regression train_recall: 0.7588\n",
      "Logistic Regression test_recall: 0.7150\n",
      "Logistic Regression train_mcc: 0.5193\n",
      "Logistic Regression test_mcc: 0.4523\n",
      "Logistic Regression train_f1: 0.7683\n",
      "Logistic Regression test_f1: 0.7532\n",
      "\n",
      "\n",
      "SVC train_accuracy: 0.8500\n",
      "SVC test_accuracy: 0.6750\n",
      "SVC train_recall: 0.8500\n",
      "SVC test_recall: 0.6750\n",
      "SVC train_mcc: 0.7065\n",
      "SVC test_mcc: 0.3615\n",
      "SVC train_f1: 0.8595\n",
      "SVC test_f1: 0.7111\n",
      "\n",
      "\n",
      "Processing cross validation for fold: 4\n",
      "Logistic Regression train_accuracy: 0.7575\n",
      "Logistic Regression test_accuracy: 0.7650\n",
      "Logistic Regression train_recall: 0.7575\n",
      "Logistic Regression test_recall: 0.7650\n",
      "Logistic Regression train_mcc: 0.5179\n",
      "Logistic Regression test_mcc: 0.5378\n",
      "Logistic Regression train_f1: 0.7696\n",
      "Logistic Regression test_f1: 0.7834\n",
      "\n",
      "\n",
      "SVC train_accuracy: 0.8313\n",
      "SVC test_accuracy: 0.7000\n",
      "SVC train_recall: 0.8313\n",
      "SVC test_recall: 0.7000\n",
      "SVC train_mcc: 0.6680\n",
      "SVC test_mcc: 0.4082\n",
      "SVC train_f1: 0.8414\n",
      "SVC test_f1: 0.7273\n",
      "\n",
      "\n",
      "Processing cross validation for fold: 5\n",
      "Logistic Regression train_accuracy: 0.7562\n",
      "Logistic Regression test_accuracy: 0.7300\n",
      "Logistic Regression train_recall: 0.7563\n",
      "Logistic Regression test_recall: 0.7300\n",
      "Logistic Regression train_mcc: 0.5145\n",
      "Logistic Regression test_mcc: 0.4764\n",
      "Logistic Regression train_f1: 0.7665\n",
      "Logistic Regression test_f1: 0.7611\n",
      "\n",
      "\n",
      "SVC train_accuracy: 0.8375\n",
      "SVC test_accuracy: 0.7400\n",
      "SVC train_recall: 0.8375\n",
      "SVC test_recall: 0.7400\n",
      "SVC train_mcc: 0.6803\n",
      "SVC test_mcc: 0.4863\n",
      "SVC train_f1: 0.8471\n",
      "SVC test_f1: 0.7593\n",
      "\n",
      "\n",
      "Processing cross validation for fold: 6\n",
      "Logistic Regression train_accuracy: 0.7700\n",
      "Logistic Regression test_accuracy: 0.7050\n",
      "Logistic Regression train_recall: 0.7700\n",
      "Logistic Regression test_recall: 0.7050\n",
      "Logistic Regression train_mcc: 0.5430\n",
      "Logistic Regression test_mcc: 0.4258\n",
      "Logistic Regression train_f1: 0.7815\n",
      "Logistic Regression test_f1: 0.7401\n",
      "\n",
      "\n",
      "SVC train_accuracy: 0.8313\n",
      "SVC test_accuracy: 0.7450\n",
      "SVC train_recall: 0.8313\n",
      "SVC test_recall: 0.7450\n",
      "SVC train_mcc: 0.6667\n",
      "SVC test_mcc: 0.5120\n",
      "SVC train_f1: 0.8402\n",
      "SVC test_f1: 0.7773\n",
      "\n",
      "\n",
      "Processing cross validation for fold: 7\n",
      "Logistic Regression train_accuracy: 0.7425\n",
      "Logistic Regression test_accuracy: 0.7700\n",
      "Logistic Regression train_recall: 0.7425\n",
      "Logistic Regression test_recall: 0.7700\n",
      "Logistic Regression train_mcc: 0.4880\n",
      "Logistic Regression test_mcc: 0.5470\n",
      "Logistic Regression train_f1: 0.7559\n",
      "Logistic Regression test_f1: 0.7870\n",
      "\n",
      "\n",
      "SVC train_accuracy: 0.8325\n",
      "SVC test_accuracy: 0.7300\n",
      "SVC train_recall: 0.8325\n",
      "SVC test_recall: 0.7300\n",
      "SVC train_mcc: 0.6691\n",
      "SVC test_mcc: 0.4660\n",
      "SVC train_f1: 0.8412\n",
      "SVC test_f1: 0.7500\n",
      "\n",
      "\n",
      "Processing cross validation for fold: 8\n",
      "Logistic Regression train_accuracy: 0.7625\n",
      "Logistic Regression test_accuracy: 0.7250\n",
      "Logistic Regression train_recall: 0.7625\n",
      "Logistic Regression test_recall: 0.7250\n",
      "Logistic Regression train_mcc: 0.5282\n",
      "Logistic Regression test_mcc: 0.4566\n",
      "Logistic Regression train_f1: 0.7749\n",
      "Logistic Regression test_f1: 0.7465\n",
      "\n",
      "\n",
      "SVC train_accuracy: 0.8287\n",
      "SVC test_accuracy: 0.7350\n",
      "SVC train_recall: 0.8288\n",
      "SVC test_recall: 0.7350\n",
      "SVC train_mcc: 0.6590\n",
      "SVC test_mcc: 0.4787\n",
      "SVC train_f1: 0.8343\n",
      "SVC test_f1: 0.7580\n",
      "\n",
      "\n",
      "Processing cross validation for fold: 9\n",
      "Logistic Regression train_accuracy: 0.7575\n",
      "Logistic Regression test_accuracy: 0.7300\n",
      "Logistic Regression train_recall: 0.7575\n",
      "Logistic Regression test_recall: 0.7300\n",
      "Logistic Regression train_mcc: 0.5165\n",
      "Logistic Regression test_mcc: 0.4623\n",
      "Logistic Regression train_f1: 0.7663\n",
      "Logistic Regression test_f1: 0.7429\n",
      "\n",
      "\n",
      "SVC train_accuracy: 0.8375\n",
      "SVC test_accuracy: 0.7050\n",
      "SVC train_recall: 0.8375\n",
      "SVC test_recall: 0.7050\n",
      "SVC train_mcc: 0.6767\n",
      "SVC test_mcc: 0.4105\n",
      "SVC train_f1: 0.8430\n",
      "SVC test_f1: 0.7122\n",
      "\n",
      "\n",
      "Processing cross validation for fold: 10\n",
      "Logistic Regression train_accuracy: 0.7575\n",
      "Logistic Regression test_accuracy: 0.7400\n",
      "Logistic Regression train_recall: 0.7575\n",
      "Logistic Regression test_recall: 0.7400\n",
      "Logistic Regression train_mcc: 0.5184\n",
      "Logistic Regression test_mcc: 0.4848\n",
      "Logistic Regression train_f1: 0.7707\n",
      "Logistic Regression test_f1: 0.7570\n",
      "\n",
      "\n",
      "SVC train_accuracy: 0.8250\n",
      "SVC test_accuracy: 0.7100\n",
      "SVC train_recall: 0.8250\n",
      "SVC test_recall: 0.7100\n",
      "SVC train_mcc: 0.6536\n",
      "SVC test_mcc: 0.4221\n",
      "SVC train_f1: 0.8337\n",
      "SVC test_f1: 0.7238\n",
      "\n",
      "\n",
      "mean accuracy for log regression is 0.732\n",
      "mean accuracy for svm is 0.716\n",
      "mean recall for log regression is 0.732\n",
      "mean recall for svm is 0.716\n",
      "mean mcc for log regression is 0.47377058907347813\n",
      "mean mcc for svm is 0.4394959445684985\n",
      "mean f1 for log regression is 0.7557492780725635\n",
      "mean f1 for svm is 0.7379396303682033\n"
     ]
    }
   ],
   "source": [
    "from sklearn.model_selection import StratifiedShuffleSplit\n",
    "# Your initial setup\n",
    "ns=10\n",
    "scaled_features_df=df3\n",
    "mean_accu_log=0\n",
    "mean_accu_svm=0\n",
    "mean_recall_log=0\n",
    "mean_recall_svm=0\n",
    "mean_mcc_log=0\n",
    "mean_mcc_svm=0\n",
    "mean_f1_log=0\n",
    "mean_f1_svm=0\n",
    "cols=list(featuredict_lasso.keys())\n",
    "XX=np.array(scaled_features_df[cols])\n",
    "cv = StratifiedShuffleSplit(n_splits=ns, test_size=0.2, random_state=999)\n",
    "fold_num=0\n",
    "# Splitting\n",
    "for train_index, test_index in cv.split(XX, y):\n",
    "    X_train, X_test = XX[train_index], XX[test_index]\n",
    "    Y_train, Y_test = y[train_index], y[test_index]\n",
    "    # Now you have a train-test split, you can proceed with your analysis\n",
    "    # For instance, \n",
    "    fold_num += 1  # Increment the fold counter\n",
    "    print('Processing cross validation for fold:', fold_num)\n",
    "    #results = models_overfitting2(X_train, Y_train, X_test, Y_test)\n",
    "    #... rest of your code\n",
    "    results = models_overfitting(X_train, Y_train, X_test, Y_test)\n",
    "    mean_accu_log = mean_accu_log + results['logistic_regression']['test_accuracy']\n",
    "    mean_accu_svm = mean_accu_svm + results['svc']['test_accuracy']\n",
    "    mean_recall_log = mean_recall_log + results['logistic_regression']['test_recall']\n",
    "    mean_recall_svm = mean_recall_svm + results['svc']['test_recall']\n",
    "    mean_mcc_log = mean_mcc_log + results['logistic_regression']['test_mcc']\n",
    "    mean_mcc_svm = mean_mcc_svm + results['svc']['test_mcc']\n",
    "    mean_f1_log = mean_f1_log + results['logistic_regression']['test_f1']\n",
    "    mean_f1_svm = mean_f1_svm + results['svc']['test_f1']\n",
    "    \n",
    "print('mean accuracy for log regression is' , mean_accu_log/ns)\n",
    "print('mean accuracy for svm is' , mean_accu_svm/ns)\n",
    "print('mean recall for log regression is' , mean_recall_log/ns)\n",
    "print('mean recall for svm is' , mean_recall_svm/ns)\n",
    "print('mean mcc for log regression is' , mean_mcc_log/ns)\n",
    "print('mean mcc for svm is' , mean_mcc_svm/ns)\n",
    "print('mean f1 for log regression is' , mean_f1_log/ns)\n",
    "print('mean f1 for svm is' , mean_f1_svm/ns)"
   ]
  },
  {
   "cell_type": "code",
   "execution_count": null,
   "id": "50bae75f-594a-43b2-a5b2-23ce98c7a071",
   "metadata": {},
   "outputs": [],
   "source": []
  },
  {
   "cell_type": "code",
   "execution_count": 15,
   "id": "d4ceeeb6-744a-4156-9b01-5b8e7bb99f17",
   "metadata": {},
   "outputs": [],
   "source": [
    "scaled_features_df=df3\n",
    "cols=list(featuredict_lasso.keys())\n",
    "XX=np.array(scaled_features_df[cols])\n",
    "i = 0\n",
    "from sklearn.model_selection import StratifiedShuffleSplit\n",
    "\n",
    "Xtrain_cv = list(range(ns))\n",
    "Xtest_cv = list(range(ns))\n",
    "Ytrain_cv = list(range(ns))\n",
    "Ytest_cv = list(range(ns))\n",
    "\n",
    "cv = StratifiedShuffleSplit(n_splits=ns, test_size=0.2, random_state=999)\n",
    "for train_index, test_index in cv.split(XX, y):\n",
    "    Xtrain_cv[i] = XX[train_index]\n",
    "    Xtest_cv[i] = XX[test_index]\n",
    "    Ytrain_cv[i] = y[train_index]\n",
    "    Ytest_cv[i] = y[test_index]\n",
    "    \n",
    "    i+=1\n",
    "    #print(i)\n",
    "    "
   ]
  },
  {
   "cell_type": "code",
   "execution_count": 16,
   "id": "80dbfaca-0ef8-405b-82c7-b6fbf891d54a",
   "metadata": {},
   "outputs": [
    {
     "data": {
      "text/plain": [
       "{'average logistic regression accuracy:': 0.7578750000000001,\n",
       " 'average SVM accuracy:': 0.835,\n",
       " 'average logistic regression recall:': 0.7578750000000001,\n",
       " 'average SVM recall:': 0.835,\n",
       " 'average logistic regression matthews_corrcoef:': 0.5183598539131498,\n",
       " 'average SVM matthews_corrcoef:': 0.6741968353438643,\n",
       " 'average logistic regression f1 score:': 0.5183598539131498,\n",
       " 'average SVM f1 score:': 0.6741968353438643}"
      ]
     },
     "execution_count": 16,
     "metadata": {},
     "output_type": "execute_result"
    }
   ],
   "source": [
    "# traning metrics\n",
    "lasso_results = models_crossval(Xtrain_cv,Ytrain_cv,ns)\n",
    "lasso_results"
   ]
  },
  {
   "cell_type": "code",
   "execution_count": 17,
   "id": "ac8ae4fc-c712-416b-92fe-d5c2cd73f557",
   "metadata": {},
   "outputs": [],
   "source": [
    "data_save['lasso_results']=lasso_results"
   ]
  },
  {
   "cell_type": "markdown",
   "id": "d8065cb4-e031-4b2b-baab-ecd3006d97ed",
   "metadata": {},
   "source": [
    "# Step 7: Feature Selection Using Support Vector Machine"
   ]
  },
  {
   "cell_type": "code",
   "execution_count": 18,
   "id": "196e33cb-4d9a-494d-9638-765b2ff34f2f",
   "metadata": {},
   "outputs": [],
   "source": [
    "ns = 18\n",
    "Xtrain_cv, Xtest_cv, Ytrain_cv, Ytest_cv=cross_val_split(X,y,ns)"
   ]
  },
  {
   "cell_type": "code",
   "execution_count": 19,
   "id": "d2519da6-737b-4c2f-bbd8-66a28c55e4eb",
   "metadata": {},
   "outputs": [
    {
     "name": "stderr",
     "output_type": "stream",
     "text": [
      "<frozen importlib._bootstrap>:228: RuntimeWarning: scipy._lib.messagestream.MessageStream size changed, may indicate binary incompatibility. Expected 56 from C header, got 64 from PyObject\n",
      "<frozen importlib._bootstrap>:228: RuntimeWarning: scipy._lib.messagestream.MessageStream size changed, may indicate binary incompatibility. Expected 56 from C header, got 64 from PyObject\n",
      "<frozen importlib._bootstrap>:228: RuntimeWarning: scipy._lib.messagestream.MessageStream size changed, may indicate binary incompatibility. Expected 56 from C header, got 64 from PyObject\n",
      "<frozen importlib._bootstrap>:228: RuntimeWarning: scipy._lib.messagestream.MessageStream size changed, may indicate binary incompatibility. Expected 56 from C header, got 64 from PyObject\n",
      "/Users/hamidteimouri/opt/anaconda3/lib/python3.9/site-packages/sklearn/svm/_base.py:1206: ConvergenceWarning: Liblinear failed to converge, increase the number of iterations.\n",
      "  warnings.warn(\n",
      "/Users/hamidteimouri/opt/anaconda3/lib/python3.9/site-packages/sklearn/svm/_base.py:1206: ConvergenceWarning: Liblinear failed to converge, increase the number of iterations.\n",
      "  warnings.warn(\n",
      "/Users/hamidteimouri/opt/anaconda3/lib/python3.9/site-packages/sklearn/svm/_base.py:1206: ConvergenceWarning: Liblinear failed to converge, increase the number of iterations.\n",
      "  warnings.warn(\n",
      "/Users/hamidteimouri/opt/anaconda3/lib/python3.9/site-packages/sklearn/svm/_base.py:1206: ConvergenceWarning: Liblinear failed to converge, increase the number of iterations.\n",
      "  warnings.warn(\n",
      "/Users/hamidteimouri/opt/anaconda3/lib/python3.9/site-packages/sklearn/svm/_base.py:1206: ConvergenceWarning: Liblinear failed to converge, increase the number of iterations.\n",
      "  warnings.warn(\n",
      "/Users/hamidteimouri/opt/anaconda3/lib/python3.9/site-packages/sklearn/svm/_base.py:1206: ConvergenceWarning: Liblinear failed to converge, increase the number of iterations.\n",
      "  warnings.warn(\n"
     ]
    },
    {
     "data": {
      "text/plain": [
       "0.1"
      ]
     },
     "execution_count": 19,
     "metadata": {},
     "output_type": "execute_result"
    }
   ],
   "source": [
    "\n",
    "CC = linear_SVM_grid_search(X,y,ns)\n",
    "#CC=0.2\n",
    "CC"
   ]
  },
  {
   "cell_type": "code",
   "execution_count": 20,
   "id": "431a7127-e039-4fee-9bd3-a85e1e6eeb2c",
   "metadata": {},
   "outputs": [
    {
     "name": "stdout",
     "output_type": "stream",
     "text": [
      "NR -0.40914883310047606\n",
      "NF -0.23564811604733205\n",
      "DG -0.23031327321049794\n",
      "ED 0.21801044580786078\n",
      "EI 0.4579061230137557\n",
      "GR -0.8514340057222455\n",
      "HI -0.1985923388797624\n",
      "IH -0.36903701492860264\n",
      "LF 0.24993541927996166\n",
      "KT -0.19015646135509312\n",
      "MF 0.17038750520890478\n",
      "TY 0.4734127945972111\n",
      "WG -0.24808325568710654\n",
      "WP -0.4083945804581669\n",
      "VH -0.2176315028330613\n",
      "VL -0.23711371797101594\n",
      "MoranAuto_FreeEnergy11 -0.17058045347273335\n",
      "_SolventAccessibilityC1 -0.548699510033175\n",
      "_ChargeC1 -1.1229305747604532\n",
      "PAAC2 -0.23687266989081554\n"
     ]
    },
    {
     "data": {
      "text/plain": [
       "{'NR': -0.40914883310047606,\n",
       " 'NF': -0.23564811604733205,\n",
       " 'DG': -0.23031327321049794,\n",
       " 'ED': 0.21801044580786078,\n",
       " 'EI': 0.4579061230137557,\n",
       " 'GR': -0.8514340057222455,\n",
       " 'HI': -0.1985923388797624,\n",
       " 'IH': -0.36903701492860264,\n",
       " 'LF': 0.24993541927996166,\n",
       " 'KT': -0.19015646135509312,\n",
       " 'MF': 0.17038750520890478,\n",
       " 'TY': 0.4734127945972111,\n",
       " 'WG': -0.24808325568710654,\n",
       " 'WP': -0.4083945804581669,\n",
       " 'VH': -0.2176315028330613,\n",
       " 'VL': -0.23711371797101594,\n",
       " 'MoranAuto_FreeEnergy11': -0.17058045347273335,\n",
       " '_SolventAccessibilityC1': -0.548699510033175,\n",
       " '_ChargeC1': -1.1229305747604532,\n",
       " 'PAAC2': -0.23687266989081554}"
      ]
     },
     "execution_count": 20,
     "metadata": {},
     "output_type": "execute_result"
    }
   ],
   "source": [
    "featuredict_svm = svm_feature_selection(Xtrain_cv,Ytrain_cv,CC,ns,klist)\n",
    "featuredict_svm"
   ]
  },
  {
   "cell_type": "code",
   "execution_count": 21,
   "id": "ce046d51-d8ee-4721-a9db-7fb084557a19",
   "metadata": {},
   "outputs": [],
   "source": [
    "data_save['selected_features_svm']=featuredict_svm"
   ]
  },
  {
   "cell_type": "code",
   "execution_count": 22,
   "id": "88901a30-046b-4925-86f7-51076b585031",
   "metadata": {},
   "outputs": [
    {
     "data": {
      "image/png": "[encoded data removed]",
      "text/plain": [
       "<Figure size 640x480 with 1 Axes>"
      ]
     },
     "metadata": {},
     "output_type": "display_data"
    }
   ],
   "source": [
    "\n",
    "sorted_dict = sorted(featuredict_svm.items(), key=lambda x: x[1])\n",
    "# Get the 10 highest positive keys\n",
    "positive_keys = dict(sorted_dict[-8:])\n",
    "# Get the 10 lowest negative keys\n",
    "negative_keys = dict(sorted_dict[:8])\n",
    "# Create a new dictionary containing the selected keys\n",
    "new_dict = {**positive_keys, **negative_keys}\n",
    "featuredict=new_dict\n",
    "dr=0.2\n",
    "selected_features_plotter(featuredict,network_name,'svm',20,dr)\n"
   ]
  },
  {
   "cell_type": "markdown",
   "id": "9166089b-e9db-4d20-87cc-5768cc05f86d",
   "metadata": {},
   "source": [
    "## Training models using selected features from SVM"
   ]
  },
  {
   "cell_type": "code",
   "execution_count": 23,
   "id": "578a746f-970f-4e77-b68e-0b5e03012a5a",
   "metadata": {},
   "outputs": [],
   "source": [
    "scaled_features_df=df3\n",
    "\n",
    "cols=list(featuredict_svm.keys())\n",
    "XX=np.array(scaled_features_df[cols])\n",
    "i = 0\n",
    "from sklearn.model_selection import StratifiedShuffleSplit\n",
    "\n",
    "Xtrain_cv = list(range(ns))\n",
    "Xtest_cv = list(range(ns))\n",
    "Ytrain_cv = list(range(ns))\n",
    "Ytest_cv = list(range(ns))\n",
    "\n",
    "cv = StratifiedShuffleSplit(n_splits=ns, test_size=0.2, random_state=999)\n",
    "for train_index, test_index in cv.split(XX, y):\n",
    "    Xtrain_cv[i] = XX[train_index]\n",
    "    Xtest_cv[i] = XX[test_index]\n",
    "    Ytrain_cv[i] = y[train_index]\n",
    "    Ytest_cv[i] = y[test_index]\n",
    "    i+=1"
   ]
  },
  {
   "cell_type": "code",
   "execution_count": 24,
   "id": "cdd318e7-ff6a-46cb-876c-2432a0b5680f",
   "metadata": {},
   "outputs": [
    {
     "data": {
      "text/plain": [
       "{'average logistic regression accuracy:': 0.77125,\n",
       " 'average SVM accuracy:': 0.8515277777777778,\n",
       " 'average logistic regression recall:': 0.77125,\n",
       " 'average SVM recall:': 0.8515277777777778,\n",
       " 'average logistic regression matthews_corrcoef:': 0.54534946176798,\n",
       " 'average SVM matthews_corrcoef:': 0.7065876595420189,\n",
       " 'average logistic regression f1 score:': 0.54534946176798,\n",
       " 'average SVM f1 score:': 0.7065876595420189}"
      ]
     },
     "execution_count": 24,
     "metadata": {},
     "output_type": "execute_result"
    }
   ],
   "source": [
    "results_svm = models_crossval(Xtrain_cv,Ytrain_cv,ns)\n",
    "results_svm"
   ]
  },
  {
   "cell_type": "code",
   "execution_count": 25,
   "id": "10d25152-e575-4a3c-b7a8-abbc3de8717e",
   "metadata": {},
   "outputs": [],
   "source": [
    "data_save['results_svm']=results_svm"
   ]
  },
  {
   "cell_type": "markdown",
   "id": "e473a4fc-884e-475d-8ba1-f7e6916eff3c",
   "metadata": {},
   "source": [
    "# check for overfitting"
   ]
  },
  {
   "cell_type": "code",
   "execution_count": 26,
   "id": "d88ddfa7-a9dd-41dd-abe0-2398e07781fe",
   "metadata": {},
   "outputs": [
    {
     "name": "stdout",
     "output_type": "stream",
     "text": [
      "Processing cross validation for fold: 1\n",
      "Logistic Regression train_accuracy: 0.7600\n",
      "Logistic Regression test_accuracy: 0.7600\n",
      "Logistic Regression train_recall: 0.7600\n",
      "Logistic Regression test_recall: 0.7600\n",
      "Logistic Regression train_mcc: 0.5217\n",
      "Logistic Regression test_mcc: 0.5252\n",
      "Logistic Regression train_f1: 0.7692\n",
      "Logistic Regression test_f1: 0.7757\n",
      "\n",
      "\n",
      "SVC train_accuracy: 0.8525\n",
      "SVC test_accuracy: 0.7300\n",
      "SVC train_recall: 0.8525\n",
      "SVC test_recall: 0.7300\n",
      "SVC train_mcc: 0.7079\n",
      "SVC test_mcc: 0.4660\n",
      "SVC train_f1: 0.8589\n",
      "SVC test_f1: 0.7500\n",
      "\n",
      "\n",
      "Processing cross validation for fold: 2\n",
      "Logistic Regression train_accuracy: 0.7612\n",
      "Logistic Regression test_accuracy: 0.7450\n",
      "Logistic Regression train_recall: 0.7612\n",
      "Logistic Regression test_recall: 0.7450\n",
      "Logistic Regression train_mcc: 0.5265\n",
      "Logistic Regression test_mcc: 0.4956\n",
      "Logistic Regression train_f1: 0.7750\n",
      "Logistic Regression test_f1: 0.7628\n",
      "\n",
      "\n",
      "SVC train_accuracy: 0.8575\n",
      "SVC test_accuracy: 0.7550\n",
      "SVC train_recall: 0.8575\n",
      "SVC test_recall: 0.7550\n",
      "SVC train_mcc: 0.7186\n",
      "SVC test_mcc: 0.5121\n",
      "SVC train_f1: 0.8643\n",
      "SVC test_f1: 0.7656\n",
      "\n",
      "\n",
      "Processing cross validation for fold: 3\n",
      "Logistic Regression train_accuracy: 0.7812\n",
      "Logistic Regression test_accuracy: 0.7150\n",
      "Logistic Regression train_recall: 0.7812\n",
      "Logistic Regression test_recall: 0.7150\n",
      "Logistic Regression train_mcc: 0.5655\n",
      "Logistic Regression test_mcc: 0.4398\n",
      "Logistic Regression train_f1: 0.7919\n",
      "Logistic Regression test_f1: 0.7421\n",
      "\n",
      "\n",
      "SVC train_accuracy: 0.8612\n",
      "SVC test_accuracy: 0.7250\n",
      "SVC train_recall: 0.8613\n",
      "SVC test_recall: 0.7250\n",
      "SVC train_mcc: 0.7271\n",
      "SVC test_mcc: 0.4603\n",
      "SVC train_f1: 0.8686\n",
      "SVC test_f1: 0.7511\n",
      "\n",
      "\n",
      "Processing cross validation for fold: 4\n",
      "Logistic Regression train_accuracy: 0.7600\n",
      "Logistic Regression test_accuracy: 0.7800\n",
      "Logistic Regression train_recall: 0.7600\n",
      "Logistic Regression test_recall: 0.7800\n",
      "Logistic Regression train_mcc: 0.5226\n",
      "Logistic Regression test_mcc: 0.5641\n",
      "Logistic Regression train_f1: 0.7714\n",
      "Logistic Regression test_f1: 0.7925\n",
      "\n",
      "\n",
      "SVC train_accuracy: 0.8488\n",
      "SVC test_accuracy: 0.7550\n",
      "SVC train_recall: 0.8488\n",
      "SVC test_recall: 0.7550\n",
      "SVC train_mcc: 0.7016\n",
      "SVC test_mcc: 0.5144\n",
      "SVC train_f1: 0.8565\n",
      "SVC test_f1: 0.7700\n",
      "\n",
      "\n",
      "Processing cross validation for fold: 5\n",
      "Logistic Regression train_accuracy: 0.7688\n",
      "Logistic Regression test_accuracy: 0.7750\n",
      "Logistic Regression train_recall: 0.7688\n",
      "Logistic Regression test_recall: 0.7750\n",
      "Logistic Regression train_mcc: 0.5409\n",
      "Logistic Regression test_mcc: 0.5547\n",
      "Logistic Regression train_f1: 0.7811\n",
      "Logistic Regression test_f1: 0.7887\n",
      "\n",
      "\n",
      "SVC train_accuracy: 0.8512\n",
      "SVC test_accuracy: 0.7650\n",
      "SVC train_recall: 0.8513\n",
      "SVC test_recall: 0.7650\n",
      "SVC train_mcc: 0.7062\n",
      "SVC test_mcc: 0.5302\n",
      "SVC train_f1: 0.8585\n",
      "SVC test_f1: 0.7685\n",
      "\n",
      "\n",
      "Processing cross validation for fold: 6\n",
      "Logistic Regression train_accuracy: 0.7800\n",
      "Logistic Regression test_accuracy: 0.7450\n",
      "Logistic Regression train_recall: 0.7800\n",
      "Logistic Regression test_recall: 0.7450\n",
      "Logistic Regression train_mcc: 0.5625\n",
      "Logistic Regression test_mcc: 0.5061\n",
      "Logistic Regression train_f1: 0.7900\n",
      "Logistic Regression test_f1: 0.7733\n",
      "\n",
      "\n",
      "SVC train_accuracy: 0.8512\n",
      "SVC test_accuracy: 0.7500\n",
      "SVC train_recall: 0.8513\n",
      "SVC test_recall: 0.7500\n",
      "SVC train_mcc: 0.7041\n",
      "SVC test_mcc: 0.5151\n",
      "SVC train_f1: 0.8561\n",
      "SVC test_f1: 0.7768\n",
      "\n",
      "\n",
      "Processing cross validation for fold: 7\n",
      "Logistic Regression train_accuracy: 0.7688\n",
      "Logistic Regression test_accuracy: 0.7700\n",
      "Logistic Regression train_recall: 0.7688\n",
      "Logistic Regression test_recall: 0.7700\n",
      "Logistic Regression train_mcc: 0.5416\n",
      "Logistic Regression test_mcc: 0.5470\n",
      "Logistic Regression train_f1: 0.7821\n",
      "Logistic Regression test_f1: 0.7870\n",
      "\n",
      "\n",
      "SVC train_accuracy: 0.8562\n",
      "SVC test_accuracy: 0.7800\n",
      "SVC train_recall: 0.8562\n",
      "SVC test_recall: 0.7800\n",
      "SVC train_mcc: 0.7179\n",
      "SVC test_mcc: 0.5641\n",
      "SVC train_f1: 0.8645\n",
      "SVC test_f1: 0.7925\n",
      "\n",
      "\n",
      "Processing cross validation for fold: 8\n",
      "Logistic Regression train_accuracy: 0.7762\n",
      "Logistic Regression test_accuracy: 0.7550\n",
      "Logistic Regression train_recall: 0.7762\n",
      "Logistic Regression test_recall: 0.7550\n",
      "Logistic Regression train_mcc: 0.5551\n",
      "Logistic Regression test_mcc: 0.5121\n",
      "Logistic Regression train_f1: 0.7867\n",
      "Logistic Regression test_f1: 0.7656\n",
      "\n",
      "\n",
      "SVC train_accuracy: 0.8462\n",
      "SVC test_accuracy: 0.7450\n",
      "SVC train_recall: 0.8462\n",
      "SVC test_recall: 0.7450\n",
      "SVC train_mcc: 0.6949\n",
      "SVC test_mcc: 0.4930\n",
      "SVC train_f1: 0.8523\n",
      "SVC test_f1: 0.7583\n",
      "\n",
      "\n",
      "Processing cross validation for fold: 9\n",
      "Logistic Regression train_accuracy: 0.7762\n",
      "Logistic Regression test_accuracy: 0.7550\n",
      "Logistic Regression train_recall: 0.7762\n",
      "Logistic Regression test_recall: 0.7550\n",
      "Logistic Regression train_mcc: 0.5549\n",
      "Logistic Regression test_mcc: 0.5106\n",
      "Logistic Regression train_f1: 0.7861\n",
      "Logistic Regression test_f1: 0.7610\n",
      "\n",
      "\n",
      "SVC train_accuracy: 0.8612\n",
      "SVC test_accuracy: 0.7450\n",
      "SVC train_recall: 0.8613\n",
      "SVC test_recall: 0.7450\n",
      "SVC train_mcc: 0.7247\n",
      "SVC test_mcc: 0.4902\n",
      "SVC train_f1: 0.8664\n",
      "SVC test_f1: 0.7488\n",
      "\n",
      "\n",
      "Processing cross validation for fold: 10\n",
      "Logistic Regression train_accuracy: 0.7837\n",
      "Logistic Regression test_accuracy: 0.7050\n",
      "Logistic Regression train_recall: 0.7837\n",
      "Logistic Regression test_recall: 0.7050\n",
      "Logistic Regression train_mcc: 0.5705\n",
      "Logistic Regression test_mcc: 0.4135\n",
      "Logistic Regression train_f1: 0.7943\n",
      "Logistic Regression test_f1: 0.7230\n",
      "\n",
      "\n",
      "SVC train_accuracy: 0.8588\n",
      "SVC test_accuracy: 0.7200\n",
      "SVC train_recall: 0.8588\n",
      "SVC test_recall: 0.7200\n",
      "SVC train_mcc: 0.7209\n",
      "SVC test_mcc: 0.4457\n",
      "SVC train_f1: 0.8653\n",
      "SVC test_f1: 0.7407\n",
      "\n",
      "\n",
      "mean accuracy for log regression is 0.7505\n",
      "mean accuracy for svm is 0.7470000000000001\n",
      "mean recall for log regression is 0.7505\n",
      "mean recall for svm is 0.7470000000000001\n",
      "mean mcc for log regression is 0.5068713172931715\n",
      "mean mcc for svm is 0.4991032868962179\n",
      "mean f1 for log regression is 0.7671659218969135\n",
      "mean f1 for svm is 0.7622149015985137\n"
     ]
    }
   ],
   "source": [
    "from sklearn.model_selection import StratifiedShuffleSplit\n",
    "# Your initial setup\n",
    "ns=10\n",
    "scaled_features_df=df3\n",
    "mean_accu_log=0\n",
    "mean_accu_svm=0\n",
    "mean_recall_log=0\n",
    "mean_recall_svm=0\n",
    "mean_mcc_log=0\n",
    "mean_mcc_svm=0\n",
    "mean_f1_log=0\n",
    "mean_f1_svm=0\n",
    "cols=list(featuredict_svm.keys())\n",
    "XX=np.array(scaled_features_df[cols])\n",
    "cv = StratifiedShuffleSplit(n_splits=ns, test_size=0.2, random_state=999)\n",
    "fold_num=0\n",
    "# Splitting\n",
    "for train_index, test_index in cv.split(XX, y):\n",
    "    X_train, X_test = XX[train_index], XX[test_index]\n",
    "    Y_train, Y_test = y[train_index], y[test_index]\n",
    "    # Now you have a train-test split, you can proceed with your analysis\n",
    "    # For instance, \n",
    "    fold_num += 1  # Increment the fold counter\n",
    "    print('Processing cross validation for fold:', fold_num)\n",
    "    #results = models_overfitting2(X_train, Y_train, X_test, Y_test)\n",
    "    #... rest of your code\n",
    "    results = models_overfitting(X_train, Y_train, X_test, Y_test)\n",
    "    mean_accu_log = mean_accu_log + results['logistic_regression']['test_accuracy']\n",
    "    mean_accu_svm = mean_accu_svm + results['svc']['test_accuracy']\n",
    "    mean_recall_log = mean_recall_log + results['logistic_regression']['test_recall']\n",
    "    mean_recall_svm = mean_recall_svm + results['svc']['test_recall']\n",
    "    mean_mcc_log = mean_mcc_log + results['logistic_regression']['test_mcc']\n",
    "    mean_mcc_svm = mean_mcc_svm + results['svc']['test_mcc']\n",
    "    mean_f1_log = mean_f1_log + results['logistic_regression']['test_f1']\n",
    "    mean_f1_svm = mean_f1_svm + results['svc']['test_f1']\n",
    "    \n",
    "print('mean accuracy for log regression is' , mean_accu_log/ns)\n",
    "print('mean accuracy for svm is' , mean_accu_svm/ns)\n",
    "print('mean recall for log regression is' , mean_recall_log/ns)\n",
    "print('mean recall for svm is' , mean_recall_svm/ns)\n",
    "print('mean mcc for log regression is' , mean_mcc_log/ns)\n",
    "print('mean mcc for svm is' , mean_mcc_svm/ns)\n",
    "print('mean f1 for log regression is' , mean_f1_log/ns)\n",
    "print('mean f1 for svm is' , mean_f1_svm/ns)"
   ]
  },
  {
   "cell_type": "code",
   "execution_count": 27,
   "id": "f4ab37d4-e35d-4aa6-a1b0-b59c50af854b",
   "metadata": {},
   "outputs": [],
   "source": [
    "with open(network_name+'_results.pkl' , 'wb') as file:\n",
    "    pickle.dump(data_save,file)"
   ]
  },
  {
   "cell_type": "code",
   "execution_count": 28,
   "id": "bc56ab98-05ac-4485-acdf-e7ce432f2dc6",
   "metadata": {},
   "outputs": [],
   "source": [
    "with open(network_name+'_results.pkl' , 'rb') as file:\n",
    "    load_data=pickle.load(file)\n",
    "    "
   ]
  },
  {
   "cell_type": "code",
   "execution_count": null,
   "id": "54ca7933-a60b-45b7-88e9-3e4d6bd9404e",
   "metadata": {},
   "outputs": [],
   "source": []
  },
  {
   "cell_type": "code",
   "execution_count": null,
   "id": "1ae3ec05-572e-4016-af9f-0fa2950cd813",
   "metadata": {},
   "outputs": [],
   "source": []
  }
 ],
 "metadata": {
  "kernelspec": {
   "display_name": "Python 3 (ipykernel)",
   "language": "python",
   "name": "python3"
  },
  "language_info": {
   "codemirror_mode": {
    "name": "ipython",
    "version": 3
   },
   "file_extension": ".py",
   "mimetype": "text/x-python",
   "name": "python",
   "nbconvert_exporter": "python",
   "pygments_lexer": "ipython3",
   "version": "3.9.15"
  }
 },
 "nbformat": 4,
 "nbformat_minor": 5
}
