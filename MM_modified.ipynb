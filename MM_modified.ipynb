{
 "cells": [
  {
   "cell_type": "markdown",
   "id": "025cee49-6b48-4b51-95ae-f863502128e4",
   "metadata": {},
   "source": [
    "# PPI prediction for MM network"
   ]
  },
  {
   "cell_type": "code",
   "execution_count": 1,
   "id": "ae0d0e09-6b50-4354-87f8-dae38cd5cbac",
   "metadata": {},
   "outputs": [
    {
     "name": "stderr",
     "output_type": "stream",
     "text": [
      "<frozen importlib._bootstrap>:228: RuntimeWarning: scipy._lib.messagestream.MessageStream size changed, may indicate binary incompatibility. Expected 56 from C header, got 64 from PyObject\n"
     ]
    },
    {
     "name": "stdout",
     "output_type": "stream",
     "text": [
      "1.25.2\n",
      "1.4.4\n",
      "3.9.15 (main, Nov 24 2022, 08:29:02) \n",
      "[Clang 14.0.6 ]\n",
      "importing Jupyter notebook from PPI_functions.ipynb\n",
      "1.25.2\n",
      "1.4.4\n",
      "3.9.15 (main, Nov 24 2022, 08:29:02) \n",
      "[Clang 14.0.6 ]\n"
     ]
    }
   ],
   "source": [
    "import numpy as np\n",
    "import pandas as pd\n",
    "import seaborn as sns\n",
    "from sklearn import datasets\n",
    "from sklearn import svm\n",
    "import matplotlib.pyplot as plt\n",
    "#%matplotlib inline\n",
    "from sklearn.preprocessing import MinMaxScaler\n",
    "import matplotlib.patches as mpatches\n",
    "from sklearn.preprocessing import StandardScaler\n",
    "from sklearn.manifold import TSNE\n",
    "from sklearn.model_selection import train_test_split\n",
    "from sklearn.linear_model import LogisticRegression\n",
    "from sklearn.svm import SVC\n",
    "from sklearn.metrics import recall_score, matthews_corrcoef, f1_score\n",
    "from sklearn.model_selection import cross_val_score\n",
    "import logging\n",
    "import matplotlib.pyplot as plt\n",
    "import seaborn as sns\n",
    "sns.set_style('whitegrid')\n",
    "print(np.__version__)\n",
    "print(pd.__version__)\n",
    "import sys\n",
    "print(sys.version)\n",
    "import sklearn\n",
    "from scipy.stats import ttest_ind\n",
    "import scipy.stats  as stats\n",
    "import networkx as nx\n",
    "from joblib import dump, load\n",
    "from sklearn.metrics import f1_score\n",
    "from sklearn.model_selection import StratifiedShuffleSplit\n",
    "import pickle\n",
    "import xgboost as xgb\n",
    "#print(sklearn.__version__)\n",
    "import import_ipynb\n",
    "from PPI_functions import *\n",
    "network_name='MM'\n"
   ]
  },
  {
   "cell_type": "markdown",
   "id": "48e00ddc-6d99-41a3-9280-ecf51dc90210",
   "metadata": {},
   "source": [
    "## source of data\n",
    "## https://github.com/mlbioinfolab/ppi-metago/blob/master/protein_pair/EC2/EC2_pair.txt\n",
    "\n",
    "## publication: https://bmcbioinformatics.biomedcentral.com/articles/10.1186/s12859-019-2907-1"
   ]
  },
  {
   "cell_type": "code",
   "execution_count": 2,
   "id": "c93b5d4b-fcb6-4978-ba6a-de247fa36838",
   "metadata": {},
   "outputs": [],
   "source": [
    "#path_h=\"/Users/temih/Dropbox/PPI_similarity_new/data/\"   # windows\n",
    "path_h=\"/Users/hamidteimouri/Dropbox/PPI_similarity_new/data/\" # mac\n"
   ]
  },
  {
   "cell_type": "markdown",
   "id": "c53bae78-afdd-4c29-ba4e-43ea2fbaa899",
   "metadata": {},
   "source": [
    "# Step0: Visualization of the network"
   ]
  },
  {
   "cell_type": "code",
   "execution_count": 3,
   "id": "3e42bd3d-dbd7-4c21-9185-ed704ab4b20b",
   "metadata": {},
   "outputs": [],
   "source": [
    "#G4=network_vis('EC2',path_h)\n",
    "#!pip install xgboost scikit-learn\n"
   ]
  },
  {
   "cell_type": "markdown",
   "id": "79f7c410-c080-41b0-b9cf-88e9a6111689",
   "metadata": {},
   "source": [
    "# Step 1: Feature extraction using propy\n"
   ]
  },
  {
   "cell_type": "markdown",
   "id": "bac48d5d-fc23-425b-9519-a3cbd99bf72d",
   "metadata": {},
   "source": [
    "#Descriptors_complete('EC2_sequence_fasta.txt','EC2_descriptors.csv')"
   ]
  },
  {
   "cell_type": "markdown",
   "id": "0202da57-fa8b-4f17-9dcd-958b5f95b502",
   "metadata": {},
   "source": [
    "# Step 2: Calculate PP distance"
   ]
  },
  {
   "cell_type": "code",
   "execution_count": 4,
   "id": "579b6533-d61f-4da5-80c9-8c32e96de410",
   "metadata": {},
   "outputs": [],
   "source": [
    "# distance_PP('EC2')"
   ]
  },
  {
   "cell_type": "markdown",
   "id": "63315621-60e8-48a2-9900-89b4becd1597",
   "metadata": {},
   "source": [
    "# Step 3: Upload data and train/test spilit"
   ]
  },
  {
   "cell_type": "code",
   "execution_count": 5,
   "id": "596f36e5-79fa-4471-ba1a-acdbedb19c71",
   "metadata": {},
   "outputs": [],
   "source": [
    "X,y,klist,df3=load_network_data(network_name, path_h)\n",
    "\n"
   ]
  },
  {
   "cell_type": "code",
   "execution_count": 6,
   "id": "d1580096-c6ff-433e-98f5-05df5233a896",
   "metadata": {},
   "outputs": [],
   "source": [
    "ns = 18\n",
    "Xtrain_cv, Xtest_cv, Ytrain_cv, Ytest_cv=cross_val_split(X,y,ns)"
   ]
  },
  {
   "cell_type": "markdown",
   "id": "d1b7b193-2a9a-4ac8-85a0-f2b1f714090a",
   "metadata": {},
   "source": [
    "# Step 4: Train logistic and SVM models using all features"
   ]
  },
  {
   "cell_type": "code",
   "execution_count": 7,
   "id": "a1410df6-514e-4724-815d-f4a005afd878",
   "metadata": {},
   "outputs": [],
   "source": [
    "all_features_traning_results = models_crossval(Xtrain_cv,Ytrain_cv,ns)\n"
   ]
  },
  {
   "cell_type": "code",
   "execution_count": 8,
   "id": "c142caa1-8503-4d17-a343-58909311dcba",
   "metadata": {},
   "outputs": [
    {
     "data": {
      "text/plain": [
       "{'average logistic regression accuracy:': 0.9565972222222222,\n",
       " 'average SVM accuracy:': 0.9457638888888888,\n",
       " 'average logistic regression recall:': 0.9565972222222222,\n",
       " 'average SVM recall:': 0.9457638888888888,\n",
       " 'average logistic regression matthews_corrcoef:': 0.9133433166487909,\n",
       " 'average SVM matthews_corrcoef:': 0.892358394883019,\n",
       " 'average logistic regression f1 score:': 0.9133433166487909,\n",
       " 'average SVM f1 score:': 0.892358394883019}"
      ]
     },
     "execution_count": 8,
     "metadata": {},
     "output_type": "execute_result"
    }
   ],
   "source": [
    "all_features_traning_results"
   ]
  },
  {
   "cell_type": "code",
   "execution_count": 9,
   "id": "85141936-9ebc-4e3c-ab6a-cacf380ba610",
   "metadata": {},
   "outputs": [],
   "source": [
    "\n",
    "## Save dat into pickle file\n",
    "data_save = {}\n",
    "data_save['all_features_traning_results']=all_features_traning_results"
   ]
  },
  {
   "cell_type": "markdown",
   "id": "cc1e9cc1-473a-45fa-8bb4-33d9f8abce0e",
   "metadata": {},
   "source": [
    "## now we check if model overfits"
   ]
  },
  {
   "cell_type": "code",
   "execution_count": 10,
   "id": "50e29563-c1fb-40c7-a234-7bc19776c5db",
   "metadata": {},
   "outputs": [
    {
     "name": "stdout",
     "output_type": "stream",
     "text": [
      "Processing cross validation for fold: 1\n",
      "Logistic Regression train_accuracy: 0.9513\n",
      "Logistic Regression test_accuracy: 0.6900\n",
      "Logistic Regression train_recall: 0.9512\n",
      "Logistic Regression test_recall: 0.6900\n",
      "Logistic Regression train_mcc: 0.9025\n",
      "Logistic Regression test_mcc: 0.3807\n",
      "Logistic Regression train_f1: 0.9513\n",
      "Logistic Regression test_f1: 0.6990\n",
      "\n",
      "\n",
      "SVC train_accuracy: 0.9500\n",
      "SVC test_accuracy: 0.7150\n",
      "SVC train_recall: 0.9500\n",
      "SVC test_recall: 0.7150\n",
      "SVC train_mcc: 0.9006\n",
      "SVC test_mcc: 0.4305\n",
      "SVC train_f1: 0.9509\n",
      "SVC test_f1: 0.7077\n",
      "\n",
      "\n",
      "Processing cross validation for fold: 2\n",
      "Logistic Regression train_accuracy: 0.9650\n",
      "Logistic Regression test_accuracy: 0.5950\n",
      "Logistic Regression train_recall: 0.9650\n",
      "Logistic Regression test_recall: 0.5950\n",
      "Logistic Regression train_mcc: 0.9300\n",
      "Logistic Regression test_mcc: 0.1905\n",
      "Logistic Regression train_f1: 0.9651\n",
      "Logistic Regression test_f1: 0.6087\n",
      "\n",
      "\n",
      "SVC train_accuracy: 0.9425\n",
      "SVC test_accuracy: 0.6050\n",
      "SVC train_recall: 0.9425\n",
      "SVC test_recall: 0.6050\n",
      "SVC train_mcc: 0.8866\n",
      "SVC test_mcc: 0.2103\n",
      "SVC train_f1: 0.9442\n",
      "SVC test_f1: 0.5949\n",
      "\n",
      "\n",
      "Processing cross validation for fold: 3\n",
      "Logistic Regression train_accuracy: 0.9575\n",
      "Logistic Regression test_accuracy: 0.6500\n",
      "Logistic Regression train_recall: 0.9575\n",
      "Logistic Regression test_recall: 0.6500\n",
      "Logistic Regression train_mcc: 0.9150\n",
      "Logistic Regression test_mcc: 0.3001\n",
      "Logistic Regression train_f1: 0.9577\n",
      "Logistic Regression test_f1: 0.6465\n",
      "\n",
      "\n",
      "SVC train_accuracy: 0.9450\n",
      "SVC test_accuracy: 0.6900\n",
      "SVC train_recall: 0.9450\n",
      "SVC test_recall: 0.6900\n",
      "SVC train_mcc: 0.8905\n",
      "SVC test_mcc: 0.3838\n",
      "SVC train_f1: 0.9459\n",
      "SVC test_f1: 0.6667\n",
      "\n",
      "\n",
      "Processing cross validation for fold: 4\n",
      "Logistic Regression train_accuracy: 0.9525\n",
      "Logistic Regression test_accuracy: 0.6350\n",
      "Logistic Regression train_recall: 0.9525\n",
      "Logistic Regression test_recall: 0.6350\n",
      "Logistic Regression train_mcc: 0.9052\n",
      "Logistic Regression test_mcc: 0.2716\n",
      "Logistic Regression train_f1: 0.9530\n",
      "Logistic Regression test_f1: 0.6540\n",
      "\n",
      "\n",
      "SVC train_accuracy: 0.9450\n",
      "SVC test_accuracy: 0.6400\n",
      "SVC train_recall: 0.9450\n",
      "SVC test_recall: 0.6400\n",
      "SVC train_mcc: 0.8909\n",
      "SVC test_mcc: 0.2801\n",
      "SVC train_f1: 0.9462\n",
      "SVC test_f1: 0.6436\n",
      "\n",
      "\n",
      "Processing cross validation for fold: 5\n",
      "Logistic Regression train_accuracy: 0.9688\n",
      "Logistic Regression test_accuracy: 0.5950\n",
      "Logistic Regression train_recall: 0.9688\n",
      "Logistic Regression test_recall: 0.5950\n",
      "Logistic Regression train_mcc: 0.9376\n",
      "Logistic Regression test_mcc: 0.1922\n",
      "Logistic Regression train_f1: 0.9690\n",
      "Logistic Regression test_f1: 0.6233\n",
      "\n",
      "\n",
      "SVC train_accuracy: 0.9513\n",
      "SVC test_accuracy: 0.6650\n",
      "SVC train_recall: 0.9512\n",
      "SVC test_recall: 0.6650\n",
      "SVC train_mcc: 0.9031\n",
      "SVC test_mcc: 0.3313\n",
      "SVC train_f1: 0.9521\n",
      "SVC test_f1: 0.6794\n",
      "\n",
      "\n"
     ]
    }
   ],
   "source": [
    "from sklearn.model_selection import StratifiedShuffleSplit\n",
    "# Your initial setup\n",
    "ns=5\n",
    "Y = y\n",
    "cv = StratifiedShuffleSplit(n_splits=ns, test_size=0.2, random_state=999)\n",
    "fold_num=0\n",
    "# Splitting\n",
    "for train_index, test_index in cv.split(X, y):\n",
    "    X_train, X_test = X[train_index], X[test_index]\n",
    "    Y_train, Y_test = Y[train_index], Y[test_index]\n",
    "    # Now you have a train-test split, you can proceed with your analysis\n",
    "    # For instance, \n",
    "    fold_num += 1  # Increment the fold counter\n",
    "    print('Processing cross validation for fold:', fold_num)\n",
    "    results = models_overfitting(X_train, Y_train, X_test, Y_test)\n"
   ]
  },
  {
   "cell_type": "markdown",
   "id": "3f891fd1-b92a-4841-a6f9-8613bc64d5ed",
   "metadata": {},
   "source": [
    "# Step 5: Feature Selection Using Lasso Regression"
   ]
  },
  {
   "cell_type": "code",
   "execution_count": 11,
   "id": "e740548d-d75b-4538-98ca-70e299bded77",
   "metadata": {},
   "outputs": [
    {
     "name": "stdout",
     "output_type": "stream",
     "text": [
      "C -0.35068269230776766\n",
      "CR 0.06972139978617092\n",
      "CP 0.09874982692755505\n",
      "GW -0.2664078456396544\n",
      "IN -0.19005939800834395\n",
      "KR -0.19155428052327717\n",
      "KQ -0.19035945499562157\n",
      "PI -0.15726980386675116\n",
      "GearyAuto_Hydrophobicity2 -0.14776613695338814\n",
      "_SolventAccessibilityT12 -0.12208281136308098\n",
      "APAAC4 -0.12462491260802608\n"
     ]
    },
    {
     "data": {
      "text/plain": [
       "{'C': -0.35068269230776766,\n",
       " 'CR': 0.06972139978617092,\n",
       " 'CP': 0.09874982692755505,\n",
       " 'GW': -0.2664078456396544,\n",
       " 'IN': -0.19005939800834395,\n",
       " 'KR': -0.19155428052327717,\n",
       " 'KQ': -0.19035945499562157,\n",
       " 'PI': -0.15726980386675116,\n",
       " 'GearyAuto_Hydrophobicity2': -0.14776613695338814,\n",
       " '_SolventAccessibilityT12': -0.12208281136308098,\n",
       " 'APAAC4': -0.12462491260802608}"
      ]
     },
     "execution_count": 11,
     "metadata": {},
     "output_type": "execute_result"
    }
   ],
   "source": [
    "AA=0.004\n",
    "ns = 15\n",
    "Xtrain_cv, Xtest_cv, Ytrain_cv, Ytest_cv=cross_val_split(X,y,ns)\n",
    "featuredict_lasso = lasso_feature_selection(Xtrain_cv,Ytrain_cv,AA,ns,klist)\n",
    "featuredict_lasso"
   ]
  },
  {
   "cell_type": "code",
   "execution_count": 12,
   "id": "5c2fc0ba-5602-4758-b315-70531cea5751",
   "metadata": {},
   "outputs": [],
   "source": [
    "data_save['selected_features_lasso']=featuredict_lasso"
   ]
  },
  {
   "cell_type": "code",
   "execution_count": 13,
   "id": "58d51c8d-2d97-45b4-8b50-078272ba8b9e",
   "metadata": {},
   "outputs": [
    {
     "data": {
      "image/png": "[encoded data removed]",
      "text/plain": [
       "<Figure size 640x480 with 1 Axes>"
      ]
     },
     "metadata": {},
     "output_type": "display_data"
    }
   ],
   "source": [
    "\n",
    "sorted_dict = sorted(featuredict_lasso.items(), key=lambda x: x[1])\n",
    "# Get the 10 highest positive keys\n",
    "positive_keys = dict(sorted_dict[-8:])\n",
    "# Get the 10 lowest negative keys\n",
    "negative_keys = dict(sorted_dict[:8])\n",
    "# Create a new dictionary containing the selected keys\n",
    "new_dict = {**positive_keys, **negative_keys}\n",
    "featuredict=new_dict\n",
    "dr=0.1\n",
    "selected_features_plotter(featuredict,network_name,'lasso',20,dr)\n"
   ]
  },
  {
   "cell_type": "markdown",
   "id": "805c6bc6-1de9-4c26-93df-a4e601e3e0c4",
   "metadata": {},
   "source": [
    "## Now we train model using features selection from LASSO mothod"
   ]
  },
  {
   "cell_type": "code",
   "execution_count": 14,
   "id": "98701369-493e-4616-a6e0-94a382ed63e9",
   "metadata": {},
   "outputs": [
    {
     "name": "stdout",
     "output_type": "stream",
     "text": [
      "Processing cross validation for fold: 1\n",
      "Logistic Regression train_accuracy: 0.6525\n",
      "Logistic Regression test_accuracy: 0.7250\n",
      "Logistic Regression train_recall: 0.6525\n",
      "Logistic Regression test_recall: 0.7250\n",
      "Logistic Regression train_mcc: 0.3059\n",
      "Logistic Regression test_mcc: 0.4500\n",
      "Logistic Regression train_f1: 0.6651\n",
      "Logistic Regression test_f1: 0.7236\n",
      "\n",
      "\n",
      "SVC train_accuracy: 0.7712\n",
      "SVC test_accuracy: 0.7200\n",
      "SVC train_recall: 0.7712\n",
      "SVC test_recall: 0.7200\n",
      "SVC train_mcc: 0.5425\n",
      "SVC test_mcc: 0.4408\n",
      "SVC train_f1: 0.7698\n",
      "SVC test_f1: 0.7113\n",
      "\n",
      "\n",
      "Processing cross validation for fold: 2\n",
      "Logistic Regression train_accuracy: 0.6637\n",
      "Logistic Regression test_accuracy: 0.6250\n",
      "Logistic Regression train_recall: 0.6638\n",
      "Logistic Regression test_recall: 0.6250\n",
      "Logistic Regression train_mcc: 0.3292\n",
      "Logistic Regression test_mcc: 0.2500\n",
      "Logistic Regression train_f1: 0.6801\n",
      "Logistic Regression test_f1: 0.6231\n",
      "\n",
      "\n",
      "SVC train_accuracy: 0.7662\n",
      "SVC test_accuracy: 0.6450\n",
      "SVC train_recall: 0.7663\n",
      "SVC test_recall: 0.6450\n",
      "SVC train_mcc: 0.5329\n",
      "SVC test_mcc: 0.2904\n",
      "SVC train_f1: 0.7706\n",
      "SVC test_f1: 0.6359\n",
      "\n",
      "\n",
      "Processing cross validation for fold: 3\n",
      "Logistic Regression train_accuracy: 0.6763\n",
      "Logistic Regression test_accuracy: 0.6550\n",
      "Logistic Regression train_recall: 0.6763\n",
      "Logistic Regression test_recall: 0.6550\n",
      "Logistic Regression train_mcc: 0.3532\n",
      "Logistic Regression test_mcc: 0.3100\n",
      "Logistic Regression train_f1: 0.6861\n",
      "Logistic Regression test_f1: 0.6533\n",
      "\n",
      "\n",
      "SVC train_accuracy: 0.7762\n",
      "SVC test_accuracy: 0.6650\n",
      "SVC train_recall: 0.7762\n",
      "SVC test_recall: 0.6650\n",
      "SVC train_mcc: 0.5528\n",
      "SVC test_mcc: 0.3313\n",
      "SVC train_f1: 0.7726\n",
      "SVC test_f1: 0.6492\n",
      "\n",
      "\n",
      "Processing cross validation for fold: 4\n",
      "Logistic Regression train_accuracy: 0.6763\n",
      "Logistic Regression test_accuracy: 0.6350\n",
      "Logistic Regression train_recall: 0.6763\n",
      "Logistic Regression test_recall: 0.6350\n",
      "Logistic Regression train_mcc: 0.3533\n",
      "Logistic Regression test_mcc: 0.2703\n",
      "Logistic Regression train_f1: 0.6868\n",
      "Logistic Regression test_f1: 0.6439\n",
      "\n",
      "\n",
      "SVC train_accuracy: 0.7688\n",
      "SVC test_accuracy: 0.6050\n",
      "SVC train_recall: 0.7688\n",
      "SVC test_recall: 0.6050\n",
      "SVC train_mcc: 0.5375\n",
      "SVC test_mcc: 0.2101\n",
      "SVC train_f1: 0.7673\n",
      "SVC test_f1: 0.5990\n",
      "\n",
      "\n",
      "Processing cross validation for fold: 5\n",
      "Logistic Regression train_accuracy: 0.6663\n",
      "Logistic Regression test_accuracy: 0.6550\n",
      "Logistic Regression train_recall: 0.6663\n",
      "Logistic Regression test_recall: 0.6550\n",
      "Logistic Regression train_mcc: 0.3330\n",
      "Logistic Regression test_mcc: 0.3113\n",
      "Logistic Regression train_f1: 0.6748\n",
      "Logistic Regression test_f1: 0.6699\n",
      "\n",
      "\n",
      "SVC train_accuracy: 0.7738\n",
      "SVC test_accuracy: 0.6450\n",
      "SVC train_recall: 0.7738\n",
      "SVC test_recall: 0.6450\n",
      "SVC train_mcc: 0.5483\n",
      "SVC test_mcc: 0.2918\n",
      "SVC train_f1: 0.7677\n",
      "SVC test_f1: 0.6243\n",
      "\n",
      "\n",
      "Processing cross validation for fold: 6\n",
      "Logistic Regression train_accuracy: 0.6625\n",
      "Logistic Regression test_accuracy: 0.6550\n",
      "Logistic Regression train_recall: 0.6625\n",
      "Logistic Regression test_recall: 0.6550\n",
      "Logistic Regression train_mcc: 0.3254\n",
      "Logistic Regression test_mcc: 0.3101\n",
      "Logistic Regression train_f1: 0.6707\n",
      "Logistic Regression test_f1: 0.6497\n",
      "\n",
      "\n",
      "SVC train_accuracy: 0.7712\n",
      "SVC test_accuracy: 0.6450\n",
      "SVC train_recall: 0.7712\n",
      "SVC test_recall: 0.6450\n",
      "SVC train_mcc: 0.5425\n",
      "SVC test_mcc: 0.2912\n",
      "SVC train_f1: 0.7721\n",
      "SVC test_f1: 0.6283\n",
      "\n",
      "\n",
      "Processing cross validation for fold: 7\n",
      "Logistic Regression train_accuracy: 0.6650\n",
      "Logistic Regression test_accuracy: 0.6250\n",
      "Logistic Regression train_recall: 0.6650\n",
      "Logistic Regression test_recall: 0.6250\n",
      "Logistic Regression train_mcc: 0.3306\n",
      "Logistic Regression test_mcc: 0.2503\n",
      "Logistic Regression train_f1: 0.6748\n",
      "Logistic Regression test_f1: 0.6341\n",
      "\n",
      "\n",
      "SVC train_accuracy: 0.7625\n",
      "SVC test_accuracy: 0.6450\n",
      "SVC train_recall: 0.7625\n",
      "SVC test_recall: 0.6450\n",
      "SVC train_mcc: 0.5252\n",
      "SVC test_mcc: 0.2912\n",
      "SVC train_f1: 0.7595\n",
      "SVC test_f1: 0.6283\n",
      "\n",
      "\n",
      "Processing cross validation for fold: 8\n",
      "Logistic Regression train_accuracy: 0.6687\n",
      "Logistic Regression test_accuracy: 0.6450\n",
      "Logistic Regression train_recall: 0.6687\n",
      "Logistic Regression test_recall: 0.6450\n",
      "Logistic Regression train_mcc: 0.3383\n",
      "Logistic Regression test_mcc: 0.2912\n",
      "Logistic Regression train_f1: 0.6796\n",
      "Logistic Regression test_f1: 0.6603\n",
      "\n",
      "\n",
      "SVC train_accuracy: 0.7688\n",
      "SVC test_accuracy: 0.6400\n",
      "SVC train_recall: 0.7688\n",
      "SVC test_recall: 0.6400\n",
      "SVC train_mcc: 0.5381\n",
      "SVC test_mcc: 0.2800\n",
      "SVC train_f1: 0.7631\n",
      "SVC test_f1: 0.6400\n",
      "\n",
      "\n",
      "Processing cross validation for fold: 9\n",
      "Logistic Regression train_accuracy: 0.6650\n",
      "Logistic Regression test_accuracy: 0.6700\n",
      "Logistic Regression train_recall: 0.6650\n",
      "Logistic Regression test_recall: 0.6700\n",
      "Logistic Regression train_mcc: 0.3309\n",
      "Logistic Regression test_mcc: 0.3406\n",
      "Logistic Regression train_f1: 0.6771\n",
      "Logistic Regression test_f1: 0.6598\n",
      "\n",
      "\n",
      "SVC train_accuracy: 0.7712\n",
      "SVC test_accuracy: 0.6900\n",
      "SVC train_recall: 0.7712\n",
      "SVC test_recall: 0.6900\n",
      "SVC train_mcc: 0.5425\n",
      "SVC test_mcc: 0.3838\n",
      "SVC train_f1: 0.7704\n",
      "SVC test_f1: 0.6667\n",
      "\n",
      "\n",
      "Processing cross validation for fold: 10\n",
      "Logistic Regression train_accuracy: 0.6725\n",
      "Logistic Regression test_accuracy: 0.6300\n",
      "Logistic Regression train_recall: 0.6725\n",
      "Logistic Regression test_recall: 0.6300\n",
      "Logistic Regression train_mcc: 0.3455\n",
      "Logistic Regression test_mcc: 0.2602\n",
      "Logistic Regression train_f1: 0.6813\n",
      "Logistic Regression test_f1: 0.6373\n",
      "\n",
      "\n",
      "SVC train_accuracy: 0.7650\n",
      "SVC test_accuracy: 0.6650\n",
      "SVC train_recall: 0.7650\n",
      "SVC test_recall: 0.6650\n",
      "SVC train_mcc: 0.5301\n",
      "SVC test_mcc: 0.3304\n",
      "SVC train_f1: 0.7632\n",
      "SVC test_f1: 0.6564\n",
      "\n",
      "\n",
      "mean accuracy for log regression is 0.652\n",
      "mean accuracy for svm is 0.6565000000000001\n",
      "mean recall for log regression is 0.652\n",
      "mean recall for svm is 0.6565000000000001\n",
      "mean mcc for log regression is 0.30441080892283645\n",
      "mean mcc for svm is 0.314092344334581\n",
      "mean f1 for log regression is 0.6554987230444838\n",
      "mean f1 for svm is 0.6439397123375821\n"
     ]
    }
   ],
   "source": [
    "from sklearn.model_selection import StratifiedShuffleSplit\n",
    "# Your initial setup\n",
    "ns=10\n",
    "scaled_features_df=df3\n",
    "mean_accu_log=0\n",
    "mean_accu_svm=0\n",
    "mean_recall_log=0\n",
    "mean_recall_svm=0\n",
    "mean_mcc_log=0\n",
    "mean_mcc_svm=0\n",
    "mean_f1_log=0\n",
    "mean_f1_svm=0\n",
    "cols=list(featuredict_lasso.keys())\n",
    "XX=np.array(scaled_features_df[cols])\n",
    "cv = StratifiedShuffleSplit(n_splits=ns, test_size=0.2, random_state=999)\n",
    "fold_num=0\n",
    "# Splitting\n",
    "for train_index, test_index in cv.split(XX, y):\n",
    "    X_train, X_test = XX[train_index], XX[test_index]\n",
    "    Y_train, Y_test = y[train_index], y[test_index]\n",
    "    # Now you have a train-test split, you can proceed with your analysis\n",
    "    # For instance, \n",
    "    fold_num += 1  # Increment the fold counter\n",
    "    print('Processing cross validation for fold:', fold_num)\n",
    "    #results = models_overfitting2(X_train, Y_train, X_test, Y_test)\n",
    "    #... rest of your code\n",
    "    results = models_overfitting(X_train, Y_train, X_test, Y_test)\n",
    "    mean_accu_log = mean_accu_log + results['logistic_regression']['test_accuracy']\n",
    "    mean_accu_svm = mean_accu_svm + results['svc']['test_accuracy']\n",
    "    mean_recall_log = mean_recall_log + results['logistic_regression']['test_recall']\n",
    "    mean_recall_svm = mean_recall_svm + results['svc']['test_recall']\n",
    "    mean_mcc_log = mean_mcc_log + results['logistic_regression']['test_mcc']\n",
    "    mean_mcc_svm = mean_mcc_svm + results['svc']['test_mcc']\n",
    "    mean_f1_log = mean_f1_log + results['logistic_regression']['test_f1']\n",
    "    mean_f1_svm = mean_f1_svm + results['svc']['test_f1']\n",
    "    \n",
    "print('mean accuracy for log regression is' , mean_accu_log/ns)\n",
    "print('mean accuracy for svm is' , mean_accu_svm/ns)\n",
    "print('mean recall for log regression is' , mean_recall_log/ns)\n",
    "print('mean recall for svm is' , mean_recall_svm/ns)\n",
    "print('mean mcc for log regression is' , mean_mcc_log/ns)\n",
    "print('mean mcc for svm is' , mean_mcc_svm/ns)\n",
    "print('mean f1 for log regression is' , mean_f1_log/ns)\n",
    "print('mean f1 for svm is' , mean_f1_svm/ns)"
   ]
  },
  {
   "cell_type": "code",
   "execution_count": null,
   "id": "50bae75f-594a-43b2-a5b2-23ce98c7a071",
   "metadata": {},
   "outputs": [],
   "source": []
  },
  {
   "cell_type": "code",
   "execution_count": 15,
   "id": "d4ceeeb6-744a-4156-9b01-5b8e7bb99f17",
   "metadata": {},
   "outputs": [],
   "source": [
    "scaled_features_df=df3\n",
    "cols=list(featuredict_lasso.keys())\n",
    "XX=np.array(scaled_features_df[cols])\n",
    "i = 0\n",
    "from sklearn.model_selection import StratifiedShuffleSplit\n",
    "\n",
    "Xtrain_cv = list(range(ns))\n",
    "Xtest_cv = list(range(ns))\n",
    "Ytrain_cv = list(range(ns))\n",
    "Ytest_cv = list(range(ns))\n",
    "\n",
    "cv = StratifiedShuffleSplit(n_splits=ns, test_size=0.2, random_state=999)\n",
    "for train_index, test_index in cv.split(XX, y):\n",
    "    Xtrain_cv[i] = XX[train_index]\n",
    "    Xtest_cv[i] = XX[test_index]\n",
    "    Ytrain_cv[i] = y[train_index]\n",
    "    Ytest_cv[i] = y[test_index]\n",
    "    \n",
    "    i+=1\n",
    "    #print(i)\n",
    "    "
   ]
  },
  {
   "cell_type": "code",
   "execution_count": 16,
   "id": "80dbfaca-0ef8-405b-82c7-b6fbf891d54a",
   "metadata": {},
   "outputs": [
    {
     "data": {
      "text/plain": [
       "{'average logistic regression accuracy:': 0.666875,\n",
       " 'average SVM accuracy:': 0.7695,\n",
       " 'average logistic regression recall:': 0.666875,\n",
       " 'average SVM recall:': 0.7695,\n",
       " 'average logistic regression matthews_corrcoef:': 0.3345280177515333,\n",
       " 'average SVM matthews_corrcoef:': 0.5392368988120522,\n",
       " 'average logistic regression f1 score:': 0.3345280177515333,\n",
       " 'average SVM f1 score:': 0.5392368988120522}"
      ]
     },
     "execution_count": 16,
     "metadata": {},
     "output_type": "execute_result"
    }
   ],
   "source": [
    "# traning metrics\n",
    "lasso_results = models_crossval(Xtrain_cv,Ytrain_cv,ns)\n",
    "lasso_results"
   ]
  },
  {
   "cell_type": "code",
   "execution_count": 17,
   "id": "ac8ae4fc-c712-416b-92fe-d5c2cd73f557",
   "metadata": {},
   "outputs": [],
   "source": [
    "data_save['lasso_results']=lasso_results"
   ]
  },
  {
   "cell_type": "markdown",
   "id": "d8065cb4-e031-4b2b-baab-ecd3006d97ed",
   "metadata": {},
   "source": [
    "# Step 7: Feature Selection Using Support Vector Machine"
   ]
  },
  {
   "cell_type": "code",
   "execution_count": 18,
   "id": "196e33cb-4d9a-494d-9638-765b2ff34f2f",
   "metadata": {},
   "outputs": [],
   "source": [
    "ns = 15\n",
    "Xtrain_cv, Xtest_cv, Ytrain_cv, Ytest_cv=cross_val_split(X,y,ns)"
   ]
  },
  {
   "cell_type": "code",
   "execution_count": 19,
   "id": "d2519da6-737b-4c2f-bbd8-66a28c55e4eb",
   "metadata": {},
   "outputs": [
    {
     "name": "stderr",
     "output_type": "stream",
     "text": [
      "<frozen importlib._bootstrap>:228: RuntimeWarning: scipy._lib.messagestream.MessageStream size changed, may indicate binary incompatibility. Expected 56 from C header, got 64 from PyObject\n",
      "<frozen importlib._bootstrap>:228: RuntimeWarning: scipy._lib.messagestream.MessageStream size changed, may indicate binary incompatibility. Expected 56 from C header, got 64 from PyObject\n",
      "<frozen importlib._bootstrap>:228: RuntimeWarning: scipy._lib.messagestream.MessageStream size changed, may indicate binary incompatibility. Expected 56 from C header, got 64 from PyObject\n",
      "<frozen importlib._bootstrap>:228: RuntimeWarning: scipy._lib.messagestream.MessageStream size changed, may indicate binary incompatibility. Expected 56 from C header, got 64 from PyObject\n"
     ]
    },
    {
     "data": {
      "text/plain": [
       "0.1"
      ]
     },
     "execution_count": 19,
     "metadata": {},
     "output_type": "execute_result"
    }
   ],
   "source": [
    "\n",
    "CC = linear_SVM_grid_search(X,y,ns)\n",
    "#CC=0.2\n",
    "CC"
   ]
  },
  {
   "cell_type": "code",
   "execution_count": 20,
   "id": "431a7127-e039-4fee-9bd3-a85e1e6eeb2c",
   "metadata": {},
   "outputs": [
    {
     "name": "stdout",
     "output_type": "stream",
     "text": [
      "C -0.8394624977940897\n",
      "CR 0.19179427336927482\n",
      "CP 0.31567405773901025\n",
      "GW -0.6077717696782419\n",
      "IN -0.4414985222984869\n",
      "KR -0.4493491776575234\n",
      "KQ -0.38073745807824566\n",
      "PI -0.3461385276178385\n",
      "GearyAuto_Hydrophobicity2 -0.41170684379057615\n",
      "GearyAuto_Steric10 0.39356378985970364\n",
      "_SecondaryStrC1 -0.35668070098439997\n",
      "_ChargeC2 -0.41113237596493085\n",
      "_SolventAccessibilityT12 -0.25867676179113813\n",
      "APAAC4 -0.3352400699646847\n",
      "PAAC34 0.2155490195293007\n"
     ]
    },
    {
     "data": {
      "text/plain": [
       "{'C': -0.8394624977940897,\n",
       " 'CR': 0.19179427336927482,\n",
       " 'CP': 0.31567405773901025,\n",
       " 'GW': -0.6077717696782419,\n",
       " 'IN': -0.4414985222984869,\n",
       " 'KR': -0.4493491776575234,\n",
       " 'KQ': -0.38073745807824566,\n",
       " 'PI': -0.3461385276178385,\n",
       " 'GearyAuto_Hydrophobicity2': -0.41170684379057615,\n",
       " 'GearyAuto_Steric10': 0.39356378985970364,\n",
       " '_SecondaryStrC1': -0.35668070098439997,\n",
       " '_ChargeC2': -0.41113237596493085,\n",
       " '_SolventAccessibilityT12': -0.25867676179113813,\n",
       " 'APAAC4': -0.3352400699646847,\n",
       " 'PAAC34': 0.2155490195293007}"
      ]
     },
     "execution_count": 20,
     "metadata": {},
     "output_type": "execute_result"
    }
   ],
   "source": [
    "featuredict_svm = svm_feature_selection(Xtrain_cv,Ytrain_cv,CC,ns,klist)\n",
    "featuredict_svm"
   ]
  },
  {
   "cell_type": "code",
   "execution_count": 21,
   "id": "ce046d51-d8ee-4721-a9db-7fb084557a19",
   "metadata": {},
   "outputs": [],
   "source": [
    "data_save['selected_features_svm']=featuredict_svm"
   ]
  },
  {
   "cell_type": "code",
   "execution_count": 29,
   "id": "88901a30-046b-4925-86f7-51076b585031",
   "metadata": {},
   "outputs": [
    {
     "data": {
      "image/png": "[encoded data removed]",
      "text/plain": [
       "<Figure size 640x480 with 1 Axes>"
      ]
     },
     "metadata": {},
     "output_type": "display_data"
    }
   ],
   "source": [
    "\n",
    "sorted_dict = sorted(featuredict_svm.items(), key=lambda x: x[1])\n",
    "# Get the 10 highest positive keys\n",
    "positive_keys = dict(sorted_dict[-8:])\n",
    "# Get the 10 lowest negative keys\n",
    "negative_keys = dict(sorted_dict[:8])\n",
    "# Create a new dictionary containing the selected keys\n",
    "new_dict = {**positive_keys, **negative_keys}\n",
    "featuredict=new_dict\n",
    "dr=0.2\n",
    "selected_features_plotter(featuredict,network_name,'svm',20,dr)\n"
   ]
  },
  {
   "cell_type": "markdown",
   "id": "9166089b-e9db-4d20-87cc-5768cc05f86d",
   "metadata": {},
   "source": [
    "## Training models using selected features from SVM"
   ]
  },
  {
   "cell_type": "code",
   "execution_count": 30,
   "id": "578a746f-970f-4e77-b68e-0b5e03012a5a",
   "metadata": {},
   "outputs": [],
   "source": [
    "scaled_features_df=df3\n",
    "\n",
    "cols=list(featuredict_svm.keys())\n",
    "XX=np.array(scaled_features_df[cols])\n",
    "i = 0\n",
    "from sklearn.model_selection import StratifiedShuffleSplit\n",
    "\n",
    "Xtrain_cv = list(range(ns))\n",
    "Xtest_cv = list(range(ns))\n",
    "Ytrain_cv = list(range(ns))\n",
    "Ytest_cv = list(range(ns))\n",
    "\n",
    "cv = StratifiedShuffleSplit(n_splits=ns, test_size=0.2, random_state=999)\n",
    "for train_index, test_index in cv.split(XX, y):\n",
    "    Xtrain_cv[i] = XX[train_index]\n",
    "    Xtest_cv[i] = XX[test_index]\n",
    "    Ytrain_cv[i] = y[train_index]\n",
    "    Ytest_cv[i] = y[test_index]\n",
    "    i+=1"
   ]
  },
  {
   "cell_type": "code",
   "execution_count": 31,
   "id": "cdd318e7-ff6a-46cb-876c-2432a0b5680f",
   "metadata": {},
   "outputs": [
    {
     "data": {
      "text/plain": [
       "{'average logistic regression accuracy:': 0.6980000000000001,\n",
       " 'average SVM accuracy:': 0.7983750000000001,\n",
       " 'average logistic regression recall:': 0.6980000000000001,\n",
       " 'average SVM recall:': 0.7983750000000001,\n",
       " 'average logistic regression matthews_corrcoef:': 0.397508208594403,\n",
       " 'average SVM matthews_corrcoef:': 0.5970414617546173,\n",
       " 'average logistic regression f1 score:': 0.397508208594403,\n",
       " 'average SVM f1 score:': 0.5970414617546173}"
      ]
     },
     "execution_count": 31,
     "metadata": {},
     "output_type": "execute_result"
    }
   ],
   "source": [
    "results_svm = models_crossval(Xtrain_cv,Ytrain_cv,ns)\n",
    "results_svm"
   ]
  },
  {
   "cell_type": "code",
   "execution_count": 32,
   "id": "10d25152-e575-4a3c-b7a8-abbc3de8717e",
   "metadata": {},
   "outputs": [],
   "source": [
    "data_save['results_svm']=results_svm"
   ]
  },
  {
   "cell_type": "markdown",
   "id": "e473a4fc-884e-475d-8ba1-f7e6916eff3c",
   "metadata": {},
   "source": [
    "# check for overfitting"
   ]
  },
  {
   "cell_type": "code",
   "execution_count": 33,
   "id": "d88ddfa7-a9dd-41dd-abe0-2398e07781fe",
   "metadata": {},
   "outputs": [
    {
     "name": "stdout",
     "output_type": "stream",
     "text": [
      "Processing cross validation for fold: 1\n",
      "Logistic Regression train_accuracy: 0.6863\n",
      "Logistic Regression test_accuracy: 0.7500\n",
      "Logistic Regression train_recall: 0.6863\n",
      "Logistic Regression test_recall: 0.7500\n",
      "Logistic Regression train_mcc: 0.3743\n",
      "Logistic Regression test_mcc: 0.5001\n",
      "Logistic Regression train_f1: 0.7008\n",
      "Logistic Regression test_f1: 0.7525\n",
      "\n",
      "\n",
      "SVC train_accuracy: 0.8037\n",
      "SVC test_accuracy: 0.7400\n",
      "SVC train_recall: 0.8037\n",
      "SVC test_recall: 0.7400\n",
      "SVC train_mcc: 0.6076\n",
      "SVC test_mcc: 0.4804\n",
      "SVC train_f1: 0.8055\n",
      "SVC test_f1: 0.7347\n",
      "\n",
      "\n",
      "Processing cross validation for fold: 2\n",
      "Logistic Regression train_accuracy: 0.7113\n",
      "Logistic Regression test_accuracy: 0.6800\n",
      "Logistic Regression train_recall: 0.7112\n",
      "Logistic Regression test_recall: 0.6800\n",
      "Logistic Regression train_mcc: 0.4243\n",
      "Logistic Regression test_mcc: 0.3603\n",
      "Logistic Regression train_f1: 0.7240\n",
      "Logistic Regression test_f1: 0.6863\n",
      "\n",
      "\n",
      "SVC train_accuracy: 0.7913\n",
      "SVC test_accuracy: 0.6650\n",
      "SVC train_recall: 0.7913\n",
      "SVC test_recall: 0.6650\n",
      "SVC train_mcc: 0.5832\n",
      "SVC test_mcc: 0.3320\n",
      "SVC train_f1: 0.7961\n",
      "SVC test_f1: 0.6455\n",
      "\n",
      "\n",
      "Processing cross validation for fold: 3\n",
      "Logistic Regression train_accuracy: 0.6937\n",
      "Logistic Regression test_accuracy: 0.6750\n",
      "Logistic Regression train_recall: 0.6937\n",
      "Logistic Regression test_recall: 0.6750\n",
      "Logistic Regression train_mcc: 0.3885\n",
      "Logistic Regression test_mcc: 0.3521\n",
      "Logistic Regression train_f1: 0.7045\n",
      "Logistic Regression test_f1: 0.6919\n",
      "\n",
      "\n",
      "SVC train_accuracy: 0.8013\n",
      "SVC test_accuracy: 0.6900\n",
      "SVC train_recall: 0.8013\n",
      "SVC test_recall: 0.6900\n",
      "SVC train_mcc: 0.6025\n",
      "SVC test_mcc: 0.3803\n",
      "SVC train_f1: 0.8025\n",
      "SVC test_f1: 0.6961\n",
      "\n",
      "\n",
      "Processing cross validation for fold: 4\n",
      "Logistic Regression train_accuracy: 0.7100\n",
      "Logistic Regression test_accuracy: 0.6500\n",
      "Logistic Regression train_recall: 0.7100\n",
      "Logistic Regression test_recall: 0.6500\n",
      "Logistic Regression train_mcc: 0.4231\n",
      "Logistic Regression test_mcc: 0.3010\n",
      "Logistic Regression train_f1: 0.7264\n",
      "Logistic Regression test_f1: 0.6635\n",
      "\n",
      "\n",
      "SVC train_accuracy: 0.8163\n",
      "SVC test_accuracy: 0.6500\n",
      "SVC train_recall: 0.8163\n",
      "SVC test_recall: 0.6500\n",
      "SVC train_mcc: 0.6328\n",
      "SVC test_mcc: 0.3000\n",
      "SVC train_f1: 0.8192\n",
      "SVC test_f1: 0.6500\n",
      "\n",
      "\n",
      "Processing cross validation for fold: 5\n",
      "Logistic Regression train_accuracy: 0.6975\n",
      "Logistic Regression test_accuracy: 0.6700\n",
      "Logistic Regression train_recall: 0.6975\n",
      "Logistic Regression test_recall: 0.6700\n",
      "Logistic Regression train_mcc: 0.3963\n",
      "Logistic Regression test_mcc: 0.3434\n",
      "Logistic Regression train_f1: 0.7091\n",
      "Logistic Regression test_f1: 0.6916\n",
      "\n",
      "\n",
      "SVC train_accuracy: 0.7950\n",
      "SVC test_accuracy: 0.6750\n",
      "SVC train_recall: 0.7950\n",
      "SVC test_recall: 0.6750\n",
      "SVC train_mcc: 0.5900\n",
      "SVC test_mcc: 0.3514\n",
      "SVC train_f1: 0.7960\n",
      "SVC test_f1: 0.6597\n",
      "\n",
      "\n",
      "Processing cross validation for fold: 6\n",
      "Logistic Regression train_accuracy: 0.6963\n",
      "Logistic Regression test_accuracy: 0.6950\n",
      "Logistic Regression train_recall: 0.6963\n",
      "Logistic Regression test_recall: 0.6950\n",
      "Logistic Regression train_mcc: 0.3935\n",
      "Logistic Regression test_mcc: 0.3900\n",
      "Logistic Regression train_f1: 0.7069\n",
      "Logistic Regression test_f1: 0.6935\n",
      "\n",
      "\n",
      "SVC train_accuracy: 0.7975\n",
      "SVC test_accuracy: 0.7000\n",
      "SVC train_recall: 0.7975\n",
      "SVC test_recall: 0.7000\n",
      "SVC train_mcc: 0.5953\n",
      "SVC test_mcc: 0.4040\n",
      "SVC train_f1: 0.8005\n",
      "SVC test_f1: 0.6774\n",
      "\n",
      "\n",
      "Processing cross validation for fold: 7\n",
      "Logistic Regression train_accuracy: 0.7013\n",
      "Logistic Regression test_accuracy: 0.6400\n",
      "Logistic Regression train_recall: 0.7013\n",
      "Logistic Regression test_recall: 0.6400\n",
      "Logistic Regression train_mcc: 0.4042\n",
      "Logistic Regression test_mcc: 0.2837\n",
      "Logistic Regression train_f1: 0.7145\n",
      "Logistic Regression test_f1: 0.6667\n",
      "\n",
      "\n",
      "SVC train_accuracy: 0.7887\n",
      "SVC test_accuracy: 0.6850\n",
      "SVC train_recall: 0.7888\n",
      "SVC test_recall: 0.6850\n",
      "SVC train_mcc: 0.5779\n",
      "SVC test_mcc: 0.3700\n",
      "SVC train_f1: 0.7926\n",
      "SVC test_f1: 0.6866\n",
      "\n",
      "\n",
      "Processing cross validation for fold: 8\n",
      "Logistic Regression train_accuracy: 0.7163\n",
      "Logistic Regression test_accuracy: 0.6400\n",
      "Logistic Regression train_recall: 0.7163\n",
      "Logistic Regression test_recall: 0.6400\n",
      "Logistic Regression train_mcc: 0.4333\n",
      "Logistic Regression test_mcc: 0.2837\n",
      "Logistic Regression train_f1: 0.7248\n",
      "Logistic Regression test_f1: 0.6667\n",
      "\n",
      "\n",
      "SVC train_accuracy: 0.7963\n",
      "SVC test_accuracy: 0.6900\n",
      "SVC train_recall: 0.7963\n",
      "SVC test_recall: 0.6900\n",
      "SVC train_mcc: 0.5925\n",
      "SVC test_mcc: 0.3807\n",
      "SVC train_f1: 0.7950\n",
      "SVC test_f1: 0.6990\n",
      "\n",
      "\n",
      "Processing cross validation for fold: 9\n",
      "Logistic Regression train_accuracy: 0.6837\n",
      "Logistic Regression test_accuracy: 0.7250\n",
      "Logistic Regression train_recall: 0.6837\n",
      "Logistic Regression test_recall: 0.7250\n",
      "Logistic Regression train_mcc: 0.3688\n",
      "Logistic Regression test_mcc: 0.4506\n",
      "Logistic Regression train_f1: 0.6963\n",
      "Logistic Regression test_f1: 0.7179\n",
      "\n",
      "\n",
      "SVC train_accuracy: 0.8000\n",
      "SVC test_accuracy: 0.7100\n",
      "SVC train_recall: 0.8000\n",
      "SVC test_recall: 0.7100\n",
      "SVC train_mcc: 0.6004\n",
      "SVC test_mcc: 0.4242\n",
      "SVC train_f1: 0.8034\n",
      "SVC test_f1: 0.6882\n",
      "\n",
      "\n",
      "Processing cross validation for fold: 10\n",
      "Logistic Regression train_accuracy: 0.6837\n",
      "Logistic Regression test_accuracy: 0.6800\n",
      "Logistic Regression train_recall: 0.6837\n",
      "Logistic Regression test_recall: 0.6800\n",
      "Logistic Regression train_mcc: 0.3688\n",
      "Logistic Regression test_mcc: 0.3606\n",
      "Logistic Regression train_f1: 0.6963\n",
      "Logistic Regression test_f1: 0.6893\n",
      "\n",
      "\n",
      "SVC train_accuracy: 0.7937\n",
      "SVC test_accuracy: 0.6950\n",
      "SVC train_recall: 0.7937\n",
      "SVC test_recall: 0.6950\n",
      "SVC train_mcc: 0.5882\n",
      "SVC test_mcc: 0.3916\n",
      "SVC train_f1: 0.7985\n",
      "SVC test_f1: 0.7081\n",
      "\n",
      "\n",
      "mean accuracy for log regression is 0.6804999999999999\n",
      "mean accuracy for svm is 0.69\n",
      "mean recall for log regression is 0.6804999999999999\n",
      "mean recall for svm is 0.69\n",
      "mean mcc for log regression is 0.36254131574655774\n",
      "mean mcc for svm is 0.38145794062092486\n",
      "mean f1 for log regression is 0.691981298511401\n",
      "mean f1 for svm is 0.6845282477834586\n"
     ]
    }
   ],
   "source": [
    "from sklearn.model_selection import StratifiedShuffleSplit\n",
    "# Your initial setup\n",
    "ns=10\n",
    "scaled_features_df=df3\n",
    "mean_accu_log=0\n",
    "mean_accu_svm=0\n",
    "mean_recall_log=0\n",
    "mean_recall_svm=0\n",
    "mean_mcc_log=0\n",
    "mean_mcc_svm=0\n",
    "mean_f1_log=0\n",
    "mean_f1_svm=0\n",
    "cols=list(featuredict_svm.keys())\n",
    "XX=np.array(scaled_features_df[cols])\n",
    "cv = StratifiedShuffleSplit(n_splits=ns, test_size=0.2, random_state=999)\n",
    "fold_num=0\n",
    "# Splitting\n",
    "for train_index, test_index in cv.split(XX, y):\n",
    "    X_train, X_test = XX[train_index], XX[test_index]\n",
    "    Y_train, Y_test = y[train_index], y[test_index]\n",
    "    # Now you have a train-test split, you can proceed with your analysis\n",
    "    # For instance, \n",
    "    fold_num += 1  # Increment the fold counter\n",
    "    print('Processing cross validation for fold:', fold_num)\n",
    "    #results = models_overfitting2(X_train, Y_train, X_test, Y_test)\n",
    "    #... rest of your code\n",
    "    results = models_overfitting(X_train, Y_train, X_test, Y_test)\n",
    "    mean_accu_log = mean_accu_log + results['logistic_regression']['test_accuracy']\n",
    "    mean_accu_svm = mean_accu_svm + results['svc']['test_accuracy']\n",
    "    mean_recall_log = mean_recall_log + results['logistic_regression']['test_recall']\n",
    "    mean_recall_svm = mean_recall_svm + results['svc']['test_recall']\n",
    "    mean_mcc_log = mean_mcc_log + results['logistic_regression']['test_mcc']\n",
    "    mean_mcc_svm = mean_mcc_svm + results['svc']['test_mcc']\n",
    "    mean_f1_log = mean_f1_log + results['logistic_regression']['test_f1']\n",
    "    mean_f1_svm = mean_f1_svm + results['svc']['test_f1']\n",
    "    \n",
    "print('mean accuracy for log regression is' , mean_accu_log/ns)\n",
    "print('mean accuracy for svm is' , mean_accu_svm/ns)\n",
    "print('mean recall for log regression is' , mean_recall_log/ns)\n",
    "print('mean recall for svm is' , mean_recall_svm/ns)\n",
    "print('mean mcc for log regression is' , mean_mcc_log/ns)\n",
    "print('mean mcc for svm is' , mean_mcc_svm/ns)\n",
    "print('mean f1 for log regression is' , mean_f1_log/ns)\n",
    "print('mean f1 for svm is' , mean_f1_svm/ns)"
   ]
  },
  {
   "cell_type": "code",
   "execution_count": 34,
   "id": "f4ab37d4-e35d-4aa6-a1b0-b59c50af854b",
   "metadata": {},
   "outputs": [],
   "source": [
    "with open(network_name+'_results.pkl' , 'wb') as file:\n",
    "    pickle.dump(data_save,file)"
   ]
  },
  {
   "cell_type": "code",
   "execution_count": 35,
   "id": "bc56ab98-05ac-4485-acdf-e7ce432f2dc6",
   "metadata": {},
   "outputs": [],
   "source": [
    "with open(network_name+'_results.pkl' , 'rb') as file:\n",
    "    load_data=pickle.load(file)\n",
    "    "
   ]
  },
  {
   "cell_type": "code",
   "execution_count": null,
   "id": "54ca7933-a60b-45b7-88e9-3e4d6bd9404e",
   "metadata": {},
   "outputs": [],
   "source": []
  },
  {
   "cell_type": "code",
   "execution_count": null,
   "id": "1ae3ec05-572e-4016-af9f-0fa2950cd813",
   "metadata": {},
   "outputs": [],
   "source": []
  }
 ],
 "metadata": {
  "kernelspec": {
   "display_name": "Python 3 (ipykernel)",
   "language": "python",
   "name": "python3"
  },
  "language_info": {
   "codemirror_mode": {
    "name": "ipython",
    "version": 3
   },
   "file_extension": ".py",
   "mimetype": "text/x-python",
   "name": "python",
   "nbconvert_exporter": "python",
   "pygments_lexer": "ipython3",
   "version": "3.9.15"
  }
 },
 "nbformat": 4,
 "nbformat_minor": 5
}
