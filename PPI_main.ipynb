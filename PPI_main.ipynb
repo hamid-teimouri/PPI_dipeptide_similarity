{
 "cells": [
  {
   "cell_type": "code",
   "execution_count": 1,
   "id": "ae0d0e09-6b50-4354-87f8-dae38cd5cbac",
   "metadata": {},
   "outputs": [
    {
     "name": "stdout",
     "output_type": "stream",
     "text": [
      "1.26.3\n",
      "2.1.4\n",
      "3.11.7 | packaged by Anaconda, Inc. | (main, Dec 15 2023, 18:05:47) [MSC v.1916 64 bit (AMD64)]\n",
      "importing Jupyter notebook from PPI_functions.ipynb\n",
      "1.26.3\n",
      "2.1.4\n",
      "3.11.7 | packaged by Anaconda, Inc. | (main, Dec 15 2023, 18:05:47) [MSC v.1916 64 bit (AMD64)]\n"
     ]
    }
   ],
   "source": [
    "import numpy as np\n",
    "import pandas as pd\n",
    "import seaborn as sns\n",
    "from sklearn import datasets\n",
    "from sklearn import svm\n",
    "import matplotlib.pyplot as plt\n",
    "#%matplotlib inline\n",
    "from sklearn.preprocessing import MinMaxScaler\n",
    "import matplotlib.patches as mpatches\n",
    "from sklearn.preprocessing import StandardScaler\n",
    "from sklearn.manifold import TSNE\n",
    "from sklearn.model_selection import train_test_split\n",
    "from sklearn.linear_model import LogisticRegression\n",
    "from sklearn.svm import SVC\n",
    "from sklearn.metrics import recall_score, matthews_corrcoef, f1_score\n",
    "from sklearn.model_selection import cross_val_score\n",
    "import logging\n",
    "import matplotlib.pyplot as plt\n",
    "import seaborn as sns\n",
    "sns.set_style('whitegrid')\n",
    "print(np.__version__)\n",
    "print(pd.__version__)\n",
    "import sys\n",
    "print(sys.version)\n",
    "import sklearn\n",
    "from scipy.stats import ttest_ind\n",
    "import scipy.stats  as stats\n",
    "import networkx as nx\n",
    "from joblib import dump, load\n",
    "from sklearn.metrics import f1_score\n",
    "from sklearn.model_selection import StratifiedShuffleSplit\n",
    "import pickle\n",
    "import xgboost as xgb\n",
    "#print(sklearn.__version__)\n",
    "import import_ipynb\n",
    "from PPI_functions import *\n"
   ]
  },
  {
   "cell_type": "markdown",
   "id": "48e00ddc-6d99-41a3-9280-ecf51dc90210",
   "metadata": {},
   "source": [
    "## source of data\n",
    "## https://github.com/mlbioinfolab/ppi-metago/blob/master/protein_pair/EC2/EC2_pair.txt\n",
    "\n",
    "## publication: https://bmcbioinformatics.biomedcentral.com/articles/10.1186/s12859-019-2907-1"
   ]
  },
  {
   "cell_type": "code",
   "execution_count": 7,
   "id": "c93b5d4b-fcb6-4978-ba6a-de247fa36838",
   "metadata": {},
   "outputs": [],
   "source": [
    "\n",
    "network_name='AT'\n"
   ]
  },
  {
   "cell_type": "markdown",
   "id": "c53bae78-afdd-4c29-ba4e-43ea2fbaa899",
   "metadata": {},
   "source": [
    "# Step0: Visualization of the network"
   ]
  },
  {
   "cell_type": "code",
   "execution_count": 8,
   "id": "3e42bd3d-dbd7-4c21-9185-ed704ab4b20b",
   "metadata": {},
   "outputs": [],
   "source": [
    "#G4=network_vis(network_name,path_h)\n",
    "#!pip install xgboost scikit-learn\n"
   ]
  },
  {
   "cell_type": "markdown",
   "id": "79f7c410-c080-41b0-b9cf-88e9a6111689",
   "metadata": {},
   "source": [
    "# Step 1: Feature extraction using propy\n"
   ]
  },
  {
   "cell_type": "code",
   "execution_count": 9,
   "id": "04575c88-4462-4cee-afe8-a713c4d78f34",
   "metadata": {},
   "outputs": [],
   "source": [
    "\n",
    "#Descriptors_complete(network_name+'_sequence_fasta.txt',network_name+'_descriptors.csv')"
   ]
  },
  {
   "cell_type": "markdown",
   "id": "0202da57-fa8b-4f17-9dcd-958b5f95b502",
   "metadata": {},
   "source": [
    "# Step 2: Calculate PP distance"
   ]
  },
  {
   "cell_type": "code",
   "execution_count": 10,
   "id": "579b6533-d61f-4da5-80c9-8c32e96de410",
   "metadata": {},
   "outputs": [],
   "source": [
    "# distance_PP(network_name)"
   ]
  },
  {
   "cell_type": "markdown",
   "id": "63315621-60e8-48a2-9900-89b4becd1597",
   "metadata": {},
   "source": [
    "# Step 3: Upload data and train/test spilit"
   ]
  },
  {
   "cell_type": "code",
   "execution_count": 13,
   "id": "596f36e5-79fa-4471-ba1a-acdbedb19c71",
   "metadata": {},
   "outputs": [
    {
     "data": {
      "text/plain": [
       "array([[0.05109489, 0.12140641, 0.0249217 , ..., 0.038976  , 0.10159541,\n",
       "        0.17447051],\n",
       "       [0.00729927, 0.14388142, 0.05199105, ..., 0.217856  , 0.08851308,\n",
       "        0.08492525],\n",
       "       [0.02919708, 0.18097208, 0.06402685, ..., 0.019968  , 0.10823229,\n",
       "        0.00399709],\n",
       "       ...,\n",
       "       [0.03649635, 0.24419166, 0.0242953 , ..., 0.144576  , 0.06598596,\n",
       "        0.24283638],\n",
       "       [0.08759124, 0.01640814, 0.12836689, ..., 0.068736  , 0.49349075,\n",
       "        0.26578073],\n",
       "       [0.0620438 , 0.08107549, 0.06451902, ..., 0.1792    , 0.09042757,\n",
       "        0.15438123]])"
      ]
     },
     "execution_count": 13,
     "metadata": {},
     "output_type": "execute_result"
    }
   ],
   "source": [
    "#X,y,klist,df3=load_network_data(network_name, path_h)\n",
    "    \n",
    "df0 = pd.read_csv( network_name + \"_distance.csv\")\n",
    "df = df0.drop(columns=['Unnamed: 0'])\n",
    "df2 = df.drop(columns=['PPI_names'])\n",
    "df3 = df.drop(columns=['PPI_names', 'PPI'])\n",
    "    \n",
    "XX = np.array(df3)\n",
    "yy = np.array(df2['PPI'])\n",
    "X=np.array(XX)\n",
    "y=np.array(yy)\n",
    "klist = np.array(df3.columns)\n",
    "    \n",
    "X"
   ]
  },
  {
   "cell_type": "code",
   "execution_count": 12,
   "id": "d1580096-c6ff-433e-98f5-05df5233a896",
   "metadata": {},
   "outputs": [
    {
     "ename": "NameError",
     "evalue": "name 'X' is not defined",
     "output_type": "error",
     "traceback": [
      "\u001b[1;31m---------------------------------------------------------------------------\u001b[0m",
      "\u001b[1;31mNameError\u001b[0m                                 Traceback (most recent call last)",
      "Cell \u001b[1;32mIn[12], line 2\u001b[0m\n\u001b[0;32m      1\u001b[0m ns \u001b[38;5;241m=\u001b[39m \u001b[38;5;241m18\u001b[39m\n\u001b[1;32m----> 2\u001b[0m Xtrain_cv, Xtest_cv, Ytrain_cv, Ytest_cv\u001b[38;5;241m=\u001b[39mcross_val_split(X,y,ns)\n",
      "\u001b[1;31mNameError\u001b[0m: name 'X' is not defined"
     ]
    }
   ],
   "source": [
    "ns = 18\n",
    "Xtrain_cv, Xtest_cv, Ytrain_cv, Ytest_cv=cross_val_split(X,y,ns)"
   ]
  },
  {
   "cell_type": "markdown",
   "id": "d1b7b193-2a9a-4ac8-85a0-f2b1f714090a",
   "metadata": {},
   "source": [
    "# Step 4: Train logistic and SVM models using all features"
   ]
  },
  {
   "cell_type": "code",
   "execution_count": 7,
   "id": "a1410df6-514e-4724-815d-f4a005afd878",
   "metadata": {},
   "outputs": [
    {
     "name": "stderr",
     "output_type": "stream",
     "text": [
      "/Users/hamidteimouri/opt/anaconda3/lib/python3.9/site-packages/sklearn/linear_model/_logistic.py:814: ConvergenceWarning: lbfgs failed to converge (status=1):\n",
      "STOP: TOTAL NO. of ITERATIONS REACHED LIMIT.\n",
      "\n",
      "Increase the number of iterations (max_iter) or scale the data as shown in:\n",
      "    https://scikit-learn.org/stable/modules/preprocessing.html\n",
      "Please also refer to the documentation for alternative solver options:\n",
      "    https://scikit-learn.org/stable/modules/linear_model.html#logistic-regression\n",
      "  n_iter_i = _check_optimize_result(\n",
      "/Users/hamidteimouri/opt/anaconda3/lib/python3.9/site-packages/sklearn/linear_model/_logistic.py:814: ConvergenceWarning: lbfgs failed to converge (status=1):\n",
      "STOP: TOTAL NO. of ITERATIONS REACHED LIMIT.\n",
      "\n",
      "Increase the number of iterations (max_iter) or scale the data as shown in:\n",
      "    https://scikit-learn.org/stable/modules/preprocessing.html\n",
      "Please also refer to the documentation for alternative solver options:\n",
      "    https://scikit-learn.org/stable/modules/linear_model.html#logistic-regression\n",
      "  n_iter_i = _check_optimize_result(\n",
      "/Users/hamidteimouri/opt/anaconda3/lib/python3.9/site-packages/sklearn/linear_model/_logistic.py:814: ConvergenceWarning: lbfgs failed to converge (status=1):\n",
      "STOP: TOTAL NO. of ITERATIONS REACHED LIMIT.\n",
      "\n",
      "Increase the number of iterations (max_iter) or scale the data as shown in:\n",
      "    https://scikit-learn.org/stable/modules/preprocessing.html\n",
      "Please also refer to the documentation for alternative solver options:\n",
      "    https://scikit-learn.org/stable/modules/linear_model.html#logistic-regression\n",
      "  n_iter_i = _check_optimize_result(\n",
      "/Users/hamidteimouri/opt/anaconda3/lib/python3.9/site-packages/sklearn/linear_model/_logistic.py:814: ConvergenceWarning: lbfgs failed to converge (status=1):\n",
      "STOP: TOTAL NO. of ITERATIONS REACHED LIMIT.\n",
      "\n",
      "Increase the number of iterations (max_iter) or scale the data as shown in:\n",
      "    https://scikit-learn.org/stable/modules/preprocessing.html\n",
      "Please also refer to the documentation for alternative solver options:\n",
      "    https://scikit-learn.org/stable/modules/linear_model.html#logistic-regression\n",
      "  n_iter_i = _check_optimize_result(\n",
      "/Users/hamidteimouri/opt/anaconda3/lib/python3.9/site-packages/sklearn/linear_model/_logistic.py:814: ConvergenceWarning: lbfgs failed to converge (status=1):\n",
      "STOP: TOTAL NO. of ITERATIONS REACHED LIMIT.\n",
      "\n",
      "Increase the number of iterations (max_iter) or scale the data as shown in:\n",
      "    https://scikit-learn.org/stable/modules/preprocessing.html\n",
      "Please also refer to the documentation for alternative solver options:\n",
      "    https://scikit-learn.org/stable/modules/linear_model.html#logistic-regression\n",
      "  n_iter_i = _check_optimize_result(\n"
     ]
    }
   ],
   "source": [
    "all_features_traning_results = models_crossval(Xtrain_cv,Ytrain_cv,ns)\n"
   ]
  },
  {
   "cell_type": "code",
   "execution_count": 8,
   "id": "c142caa1-8503-4d17-a343-58909311dcba",
   "metadata": {},
   "outputs": [
    {
     "data": {
      "text/plain": [
       "{'average logistic regression accuracy:': 0.9731535003211302,\n",
       " 'average SVM accuracy:': 0.9494540783558124,\n",
       " 'average logistic regression recall:': 0.9731470789496193,\n",
       " 'average SVM recall:': 0.9494340375787643,\n",
       " 'average logistic regression matthews_corrcoef:': 0.9465308042363796,\n",
       " 'average SVM matthews_corrcoef:': 0.9003747061640129,\n",
       " 'average logistic regression f1 score:': 0.9465308042363796,\n",
       " 'average SVM f1 score:': 0.9003747061640129}"
      ]
     },
     "execution_count": 8,
     "metadata": {},
     "output_type": "execute_result"
    }
   ],
   "source": [
    "all_features_traning_results"
   ]
  },
  {
   "cell_type": "code",
   "execution_count": 9,
   "id": "85141936-9ebc-4e3c-ab6a-cacf380ba610",
   "metadata": {},
   "outputs": [],
   "source": [
    "\n",
    "## Save dat into pickle file\n",
    "data_save = {}\n",
    "data_save['all_features_traning_results']=all_features_traning_results"
   ]
  },
  {
   "cell_type": "markdown",
   "id": "cc1e9cc1-473a-45fa-8bb4-33d9f8abce0e",
   "metadata": {},
   "source": [
    "## Evaluate the model's performance to determine if there is overfitting.\n"
   ]
  },
  {
   "cell_type": "code",
   "execution_count": 10,
   "id": "50e29563-c1fb-40c7-a234-7bc19776c5db",
   "metadata": {},
   "outputs": [
    {
     "name": "stdout",
     "output_type": "stream",
     "text": [
      "Processing cross validation for fold: 1\n",
      "Logistic Regression train_accuracy: 0.9723\n",
      "Logistic Regression test_accuracy: 0.7235\n",
      "Logistic Regression train_recall: 0.9722\n",
      "Logistic Regression test_recall: 0.7238\n",
      "Logistic Regression train_mcc: 0.9449\n",
      "Logistic Regression test_mcc: 0.4511\n",
      "Logistic Regression train_f1: 0.9727\n",
      "Logistic Regression test_f1: 0.7391\n",
      "\n",
      "\n",
      "SVC train_accuracy: 0.9480\n",
      "SVC test_accuracy: 0.7327\n",
      "SVC train_recall: 0.9479\n",
      "SVC test_recall: 0.7329\n",
      "SVC train_mcc: 0.8986\n",
      "SVC test_mcc: 0.4676\n",
      "SVC train_f1: 0.9499\n",
      "SVC test_f1: 0.7434\n",
      "\n",
      "\n",
      "Processing cross validation for fold: 2\n"
     ]
    },
    {
     "name": "stderr",
     "output_type": "stream",
     "text": [
      "/Users/hamidteimouri/opt/anaconda3/lib/python3.9/site-packages/sklearn/linear_model/_logistic.py:814: ConvergenceWarning: lbfgs failed to converge (status=1):\n",
      "STOP: TOTAL NO. of ITERATIONS REACHED LIMIT.\n",
      "\n",
      "Increase the number of iterations (max_iter) or scale the data as shown in:\n",
      "    https://scikit-learn.org/stable/modules/preprocessing.html\n",
      "Please also refer to the documentation for alternative solver options:\n",
      "    https://scikit-learn.org/stable/modules/linear_model.html#logistic-regression\n",
      "  n_iter_i = _check_optimize_result(\n"
     ]
    },
    {
     "name": "stdout",
     "output_type": "stream",
     "text": [
      "Logistic Regression train_accuracy: 0.9642\n",
      "Logistic Regression test_accuracy: 0.6959\n",
      "Logistic Regression train_recall: 0.9642\n",
      "Logistic Regression test_recall: 0.6956\n",
      "Logistic Regression train_mcc: 0.9286\n",
      "Logistic Regression test_mcc: 0.3938\n",
      "Logistic Regression train_f1: 0.9646\n",
      "Logistic Regression test_f1: 0.7130\n",
      "\n",
      "\n",
      "SVC train_accuracy: 0.9480\n",
      "SVC test_accuracy: 0.6820\n",
      "SVC train_recall: 0.9480\n",
      "SVC test_recall: 0.6817\n",
      "SVC train_mcc: 0.8983\n",
      "SVC test_mcc: 0.3663\n",
      "SVC train_f1: 0.9497\n",
      "SVC test_f1: 0.7013\n",
      "\n",
      "\n",
      "Processing cross validation for fold: 3\n",
      "Logistic Regression train_accuracy: 0.9792\n",
      "Logistic Regression test_accuracy: 0.7373\n",
      "Logistic Regression train_recall: 0.9792\n",
      "Logistic Regression test_recall: 0.7373\n",
      "Logistic Regression train_mcc: 0.9585\n",
      "Logistic Regression test_mcc: 0.4746\n",
      "Logistic Regression train_f1: 0.9794\n",
      "Logistic Regression test_f1: 0.7349\n",
      "\n",
      "\n",
      "SVC train_accuracy: 0.9642\n",
      "SVC test_accuracy: 0.7235\n",
      "SVC train_recall: 0.9641\n",
      "SVC test_recall: 0.7236\n",
      "SVC train_mcc: 0.9285\n",
      "SVC test_mcc: 0.4474\n",
      "SVC train_f1: 0.9646\n",
      "SVC test_f1: 0.7273\n",
      "\n",
      "\n",
      "Processing cross validation for fold: 4\n",
      "Logistic Regression train_accuracy: 0.9665\n",
      "Logistic Regression test_accuracy: 0.7235\n",
      "Logistic Regression train_recall: 0.9665\n",
      "Logistic Regression test_recall: 0.7234\n",
      "Logistic Regression train_mcc: 0.9331\n",
      "Logistic Regression test_mcc: 0.4472\n",
      "Logistic Regression train_f1: 0.9669\n",
      "Logistic Regression test_f1: 0.7170\n",
      "\n",
      "\n",
      "SVC train_accuracy: 0.9445\n",
      "SVC test_accuracy: 0.6959\n",
      "SVC train_recall: 0.9445\n",
      "SVC test_recall: 0.6957\n",
      "SVC train_mcc: 0.8895\n",
      "SVC test_mcc: 0.3926\n",
      "SVC train_f1: 0.9455\n",
      "SVC test_f1: 0.6827\n",
      "\n",
      "\n",
      "Processing cross validation for fold: 5\n",
      "Logistic Regression train_accuracy: 0.9688\n",
      "Logistic Regression test_accuracy: 0.7005\n",
      "Logistic Regression train_recall: 0.9688\n",
      "Logistic Regression test_recall: 0.7003\n",
      "Logistic Regression train_mcc: 0.9377\n",
      "Logistic Regression test_mcc: 0.4016\n",
      "Logistic Regression train_f1: 0.9690\n",
      "Logistic Regression test_f1: 0.7111\n",
      "\n",
      "\n",
      "SVC train_accuracy: 0.9549\n",
      "SVC test_accuracy: 0.7281\n",
      "SVC train_recall: 0.9549\n",
      "SVC test_recall: 0.7280\n",
      "SVC train_mcc: 0.9100\n",
      "SVC test_mcc: 0.4563\n",
      "SVC train_f1: 0.9553\n",
      "SVC test_f1: 0.7330\n",
      "\n",
      "\n"
     ]
    }
   ],
   "source": [
    "from sklearn.model_selection import StratifiedShuffleSplit\n",
    "# Your initial setup\n",
    "ns=5\n",
    "Y = y\n",
    "cv = StratifiedShuffleSplit(n_splits=ns, test_size=0.2, random_state=999)\n",
    "fold_num=0\n",
    "# Splitting\n",
    "for train_index, test_index in cv.split(X, y):\n",
    "    X_train, X_test = X[train_index], X[test_index]\n",
    "    Y_train, Y_test = Y[train_index], Y[test_index]\n",
    "    # Now you have a train-test split, you can proceed with your analysis\n",
    "    # For instance, \n",
    "    fold_num += 1  # Increment the fold counter\n",
    "    print('Processing cross validation for fold:', fold_num)\n",
    "    results = models_overfitting(X_train, Y_train, X_test, Y_test)\n"
   ]
  },
  {
   "cell_type": "markdown",
   "id": "3f891fd1-b92a-4841-a6f9-8613bc64d5ed",
   "metadata": {},
   "source": [
    "# Step 5: Feature Selection Using LASSO Regression"
   ]
  },
  {
   "cell_type": "code",
   "execution_count": 29,
   "id": "e740548d-d75b-4538-98ca-70e299bded77",
   "metadata": {},
   "outputs": [
    {
     "name": "stdout",
     "output_type": "stream",
     "text": [
      "AP -0.17864449295374396\n",
      "DI -0.24846536406857625\n",
      "QS 0.08145037021594484\n",
      "IN -0.08154314522530237\n",
      "LY -0.09457647787279311\n",
      "MV -0.10587959703844119\n",
      "PI -0.127847164489396\n",
      "SQ 0.09589148571247842\n",
      "YH 0.09429517474240802\n",
      "YP -0.08994548117159006\n",
      "VH 0.13344391697712613\n",
      "_ChargeC1 -0.5132609778718181\n",
      "tausw45 -0.2570181568385637\n"
     ]
    },
    {
     "data": {
      "text/plain": [
       "{'AP': -0.17864449295374396,\n",
       " 'DI': -0.24846536406857625,\n",
       " 'QS': 0.08145037021594484,\n",
       " 'IN': -0.08154314522530237,\n",
       " 'LY': -0.09457647787279311,\n",
       " 'MV': -0.10587959703844119,\n",
       " 'PI': -0.127847164489396,\n",
       " 'SQ': 0.09589148571247842,\n",
       " 'YH': 0.09429517474240802,\n",
       " 'YP': -0.08994548117159006,\n",
       " 'VH': 0.13344391697712613,\n",
       " '_ChargeC1': -0.5132609778718181,\n",
       " 'tausw45': -0.2570181568385637}"
      ]
     },
     "execution_count": 29,
     "metadata": {},
     "output_type": "execute_result"
    }
   ],
   "source": [
    "AA=0.004\n",
    "ns = 15\n",
    "Xtrain_cv, Xtest_cv, Ytrain_cv, Ytest_cv=cross_val_split(X,y,ns)\n",
    "featuredict_lasso = lasso_feature_selection(Xtrain_cv,Ytrain_cv,AA,ns,klist)\n",
    "featuredict_lasso"
   ]
  },
  {
   "cell_type": "code",
   "execution_count": 30,
   "id": "5c2fc0ba-5602-4758-b315-70531cea5751",
   "metadata": {},
   "outputs": [],
   "source": [
    "data_save['selected_features_lasso']=featuredict_lasso"
   ]
  },
  {
   "cell_type": "code",
   "execution_count": 31,
   "id": "58d51c8d-2d97-45b4-8b50-078272ba8b9e",
   "metadata": {},
   "outputs": [
    {
     "data": {
      "image/png": "[encoded data removed]",
      "text/plain": [
       "<Figure size 640x480 with 1 Axes>"
      ]
     },
     "metadata": {},
     "output_type": "display_data"
    }
   ],
   "source": [
    "\n",
    "sorted_dict = sorted(featuredict_lasso.items(), key=lambda x: x[1])\n",
    "# Get the 10 highest positive keys\n",
    "positive_keys = dict(sorted_dict[-8:])\n",
    "# Get the 10 lowest negative keys\n",
    "negative_keys = dict(sorted_dict[:8])\n",
    "# Create a new dictionary containing the selected keys\n",
    "new_dict = {**positive_keys, **negative_keys}\n",
    "featuredict=new_dict\n",
    "dr=0.1\n",
    "selected_features_plotter(featuredict,network_name,'lasso',20,dr)\n"
   ]
  },
  {
   "cell_type": "markdown",
   "id": "805c6bc6-1de9-4c26-93df-a4e601e3e0c4",
   "metadata": {},
   "source": [
    "## Now we train model using features selection from LASSO mothod"
   ]
  },
  {
   "cell_type": "code",
   "execution_count": 32,
   "id": "98701369-493e-4616-a6e0-94a382ed63e9",
   "metadata": {},
   "outputs": [
    {
     "name": "stdout",
     "output_type": "stream",
     "text": [
      "Processing cross validation for fold: 1\n",
      "Logistic Regression train_accuracy: 0.6740\n",
      "Logistic Regression test_accuracy: 0.7005\n",
      "Logistic Regression train_recall: 0.6740\n",
      "Logistic Regression test_recall: 0.7009\n",
      "Logistic Regression train_mcc: 0.3481\n",
      "Logistic Regression test_mcc: 0.4092\n",
      "Logistic Regression train_f1: 0.6795\n",
      "Logistic Regression test_f1: 0.7257\n",
      "\n",
      "\n",
      "SVC train_accuracy: 0.7757\n",
      "SVC test_accuracy: 0.6774\n",
      "SVC train_recall: 0.7757\n",
      "SVC test_recall: 0.6778\n",
      "SVC train_mcc: 0.5517\n",
      "SVC test_mcc: 0.3592\n",
      "SVC train_f1: 0.7795\n",
      "SVC test_f1: 0.6983\n",
      "\n",
      "\n",
      "Processing cross validation for fold: 2\n",
      "Logistic Regression train_accuracy: 0.6994\n",
      "Logistic Regression test_accuracy: 0.6452\n",
      "Logistic Regression train_recall: 0.6995\n",
      "Logistic Regression test_recall: 0.6450\n",
      "Logistic Regression train_mcc: 0.3996\n",
      "Logistic Regression test_mcc: 0.2905\n",
      "Logistic Regression train_f1: 0.7079\n",
      "Logistic Regression test_f1: 0.6547\n",
      "\n",
      "\n",
      "SVC train_accuracy: 0.7896\n",
      "SVC test_accuracy: 0.6313\n",
      "SVC train_recall: 0.7896\n",
      "SVC test_recall: 0.6312\n",
      "SVC train_mcc: 0.5793\n",
      "SVC test_mcc: 0.2629\n",
      "SVC train_f1: 0.7913\n",
      "SVC test_f1: 0.6429\n",
      "\n",
      "\n",
      "Processing cross validation for fold: 3\n",
      "Logistic Regression train_accuracy: 0.6786\n",
      "Logistic Regression test_accuracy: 0.7005\n",
      "Logistic Regression train_recall: 0.6786\n",
      "Logistic Regression test_recall: 0.7007\n",
      "Logistic Regression train_mcc: 0.3573\n",
      "Logistic Regression test_mcc: 0.4033\n",
      "Logistic Regression train_f1: 0.6834\n",
      "Logistic Regression test_f1: 0.7137\n",
      "\n",
      "\n",
      "SVC train_accuracy: 0.7780\n",
      "SVC test_accuracy: 0.6728\n",
      "SVC train_recall: 0.7780\n",
      "SVC test_recall: 0.6729\n",
      "SVC train_mcc: 0.5562\n",
      "SVC test_mcc: 0.3458\n",
      "SVC train_f1: 0.7762\n",
      "SVC test_f1: 0.6758\n",
      "\n",
      "\n",
      "Processing cross validation for fold: 4\n",
      "Logistic Regression train_accuracy: 0.6960\n",
      "Logistic Regression test_accuracy: 0.6544\n",
      "Logistic Regression train_recall: 0.6959\n",
      "Logistic Regression test_recall: 0.6542\n",
      "Logistic Regression train_mcc: 0.3925\n",
      "Logistic Regression test_mcc: 0.3095\n",
      "Logistic Regression train_f1: 0.7048\n",
      "Logistic Regression test_f1: 0.6377\n",
      "\n",
      "\n",
      "SVC train_accuracy: 0.7630\n",
      "SVC test_accuracy: 0.6866\n",
      "SVC train_recall: 0.7630\n",
      "SVC test_recall: 0.6866\n",
      "SVC train_mcc: 0.5269\n",
      "SVC test_mcc: 0.3733\n",
      "SVC train_f1: 0.7699\n",
      "SVC test_f1: 0.6822\n",
      "\n",
      "\n",
      "Processing cross validation for fold: 5\n",
      "Logistic Regression train_accuracy: 0.6821\n",
      "Logistic Regression test_accuracy: 0.6774\n",
      "Logistic Regression train_recall: 0.6821\n",
      "Logistic Regression test_recall: 0.6773\n",
      "Logistic Regression train_mcc: 0.3646\n",
      "Logistic Regression test_mcc: 0.3552\n",
      "Logistic Regression train_f1: 0.6893\n",
      "Logistic Regression test_f1: 0.6875\n",
      "\n",
      "\n",
      "SVC train_accuracy: 0.7642\n",
      "SVC test_accuracy: 0.7051\n",
      "SVC train_recall: 0.7642\n",
      "SVC test_recall: 0.7049\n",
      "SVC train_mcc: 0.5286\n",
      "SVC test_mcc: 0.4106\n",
      "SVC train_f1: 0.7677\n",
      "SVC test_f1: 0.7143\n",
      "\n",
      "\n",
      "Processing cross validation for fold: 6\n",
      "Logistic Regression train_accuracy: 0.7017\n",
      "Logistic Regression test_accuracy: 0.6267\n",
      "Logistic Regression train_recall: 0.7017\n",
      "Logistic Regression test_recall: 0.6269\n",
      "Logistic Regression train_mcc: 0.4043\n",
      "Logistic Regression test_mcc: 0.2546\n",
      "Logistic Regression train_f1: 0.7114\n",
      "Logistic Regression test_f1: 0.6400\n",
      "\n",
      "\n",
      "SVC train_accuracy: 0.8012\n",
      "SVC test_accuracy: 0.6359\n",
      "SVC train_recall: 0.8011\n",
      "SVC test_recall: 0.6359\n",
      "SVC train_mcc: 0.6025\n",
      "SVC test_mcc: 0.2719\n",
      "SVC train_f1: 0.8037\n",
      "SVC test_f1: 0.6326\n",
      "\n",
      "\n",
      "Processing cross validation for fold: 7\n",
      "Logistic Regression train_accuracy: 0.7040\n",
      "Logistic Regression test_accuracy: 0.6083\n",
      "Logistic Regression train_recall: 0.7040\n",
      "Logistic Regression test_recall: 0.6083\n",
      "Logistic Regression train_mcc: 0.4083\n",
      "Logistic Regression test_mcc: 0.2166\n",
      "Logistic Regression train_f1: 0.7098\n",
      "Logistic Regression test_f1: 0.6083\n",
      "\n",
      "\n",
      "SVC train_accuracy: 0.7861\n",
      "SVC test_accuracy: 0.6267\n",
      "SVC train_recall: 0.7861\n",
      "SVC test_recall: 0.6268\n",
      "SVC train_mcc: 0.5728\n",
      "SVC test_mcc: 0.2539\n",
      "SVC train_f1: 0.7910\n",
      "SVC test_f1: 0.6335\n",
      "\n",
      "\n",
      "Processing cross validation for fold: 8\n",
      "Logistic Regression train_accuracy: 0.6960\n",
      "Logistic Regression test_accuracy: 0.6406\n",
      "Logistic Regression train_recall: 0.6959\n",
      "Logistic Regression test_recall: 0.6407\n",
      "Logistic Regression train_mcc: 0.3922\n",
      "Logistic Regression test_mcc: 0.2821\n",
      "Logistic Regression train_f1: 0.7022\n",
      "Logistic Regression test_f1: 0.6518\n",
      "\n",
      "\n",
      "SVC train_accuracy: 0.7746\n",
      "SVC test_accuracy: 0.6498\n",
      "SVC train_recall: 0.7746\n",
      "SVC test_recall: 0.6499\n",
      "SVC train_mcc: 0.5491\n",
      "SVC test_mcc: 0.3002\n",
      "SVC train_f1: 0.7746\n",
      "SVC test_f1: 0.6577\n",
      "\n",
      "\n",
      "Processing cross validation for fold: 9\n",
      "Logistic Regression train_accuracy: 0.6925\n",
      "Logistic Regression test_accuracy: 0.6406\n",
      "Logistic Regression train_recall: 0.6925\n",
      "Logistic Regression test_recall: 0.6405\n",
      "Logistic Regression train_mcc: 0.3854\n",
      "Logistic Regression test_mcc: 0.2811\n",
      "Logistic Regression train_f1: 0.7005\n",
      "Logistic Regression test_f1: 0.6355\n",
      "\n",
      "\n",
      "SVC train_accuracy: 0.7838\n",
      "SVC test_accuracy: 0.6590\n",
      "SVC train_recall: 0.7838\n",
      "SVC test_recall: 0.6590\n",
      "SVC train_mcc: 0.5677\n",
      "SVC test_mcc: 0.3180\n",
      "SVC train_f1: 0.7853\n",
      "SVC test_f1: 0.6574\n",
      "\n",
      "\n",
      "Processing cross validation for fold: 10\n",
      "Logistic Regression train_accuracy: 0.6751\n",
      "Logistic Regression test_accuracy: 0.7097\n",
      "Logistic Regression train_recall: 0.6751\n",
      "Logistic Regression test_recall: 0.7099\n",
      "Logistic Regression train_mcc: 0.3513\n",
      "Logistic Regression test_mcc: 0.4210\n",
      "Logistic Regression train_f1: 0.6874\n",
      "Logistic Regression test_f1: 0.7200\n",
      "\n",
      "\n",
      "SVC train_accuracy: 0.7757\n",
      "SVC test_accuracy: 0.6820\n",
      "SVC train_recall: 0.7757\n",
      "SVC test_recall: 0.6822\n",
      "SVC train_mcc: 0.5543\n",
      "SVC test_mcc: 0.3655\n",
      "SVC train_f1: 0.7868\n",
      "SVC test_f1: 0.6933\n",
      "\n",
      "\n",
      "mean accuracy for log regression is 0.66036866359447\n",
      "mean accuracy for svm is 0.6626728110599078\n",
      "mean recall for log regression is 0.6604400271831464\n",
      "mean recall for svm is 0.6627166156982671\n",
      "mean mcc for log regression is 0.32230572531356827\n",
      "mean mcc for svm is 0.32611394835042606\n",
      "mean f1 for log regression is 0.6674879127742211\n",
      "mean f1 for svm is 0.6687901497453229\n"
     ]
    }
   ],
   "source": [
    "from sklearn.model_selection import StratifiedShuffleSplit\n",
    "# Your initial setup\n",
    "ns=10\n",
    "scaled_features_df=df3\n",
    "mean_accu_log=0\n",
    "mean_accu_svm=0\n",
    "mean_recall_log=0\n",
    "mean_recall_svm=0\n",
    "mean_mcc_log=0\n",
    "mean_mcc_svm=0\n",
    "mean_f1_log=0\n",
    "mean_f1_svm=0\n",
    "cols=list(featuredict_lasso.keys())\n",
    "XX=np.array(scaled_features_df[cols])\n",
    "cv = StratifiedShuffleSplit(n_splits=ns, test_size=0.2, random_state=999)\n",
    "fold_num=0\n",
    "# Splitting\n",
    "for train_index, test_index in cv.split(XX, y):\n",
    "    X_train, X_test = XX[train_index], XX[test_index]\n",
    "    Y_train, Y_test = y[train_index], y[test_index]\n",
    "    # Now you have a train-test split, you can proceed with your analysis\n",
    "    # For instance, \n",
    "    fold_num += 1  # Increment the fold counter\n",
    "    print('Processing cross validation for fold:', fold_num)\n",
    "    #results = models_overfitting2(X_train, Y_train, X_test, Y_test)\n",
    "    #... rest of your code\n",
    "    results = models_overfitting(X_train, Y_train, X_test, Y_test)\n",
    "    mean_accu_log = mean_accu_log + results['logistic_regression']['test_accuracy']\n",
    "    mean_accu_svm = mean_accu_svm + results['svc']['test_accuracy']\n",
    "    mean_recall_log = mean_recall_log + results['logistic_regression']['test_recall']\n",
    "    mean_recall_svm = mean_recall_svm + results['svc']['test_recall']\n",
    "    mean_mcc_log = mean_mcc_log + results['logistic_regression']['test_mcc']\n",
    "    mean_mcc_svm = mean_mcc_svm + results['svc']['test_mcc']\n",
    "    mean_f1_log = mean_f1_log + results['logistic_regression']['test_f1']\n",
    "    mean_f1_svm = mean_f1_svm + results['svc']['test_f1']\n",
    "    \n",
    "print('mean accuracy for log regression is' , mean_accu_log/ns)\n",
    "print('mean accuracy for svm is' , mean_accu_svm/ns)\n",
    "print('mean recall for log regression is' , mean_recall_log/ns)\n",
    "print('mean recall for svm is' , mean_recall_svm/ns)\n",
    "print('mean mcc for log regression is' , mean_mcc_log/ns)\n",
    "print('mean mcc for svm is' , mean_mcc_svm/ns)\n",
    "print('mean f1 for log regression is' , mean_f1_log/ns)\n",
    "print('mean f1 for svm is' , mean_f1_svm/ns)"
   ]
  },
  {
   "cell_type": "code",
   "execution_count": null,
   "id": "50bae75f-594a-43b2-a5b2-23ce98c7a071",
   "metadata": {},
   "outputs": [],
   "source": []
  },
  {
   "cell_type": "code",
   "execution_count": 33,
   "id": "d4ceeeb6-744a-4156-9b01-5b8e7bb99f17",
   "metadata": {},
   "outputs": [],
   "source": [
    "scaled_features_df=df3\n",
    "cols=list(featuredict_lasso.keys())\n",
    "XX=np.array(scaled_features_df[cols])\n",
    "i = 0\n",
    "from sklearn.model_selection import StratifiedShuffleSplit\n",
    "\n",
    "Xtrain_cv = list(range(ns))\n",
    "Xtest_cv = list(range(ns))\n",
    "Ytrain_cv = list(range(ns))\n",
    "Ytest_cv = list(range(ns))\n",
    "\n",
    "cv = StratifiedShuffleSplit(n_splits=ns, test_size=0.2, random_state=999)\n",
    "for train_index, test_index in cv.split(XX, y):\n",
    "    Xtrain_cv[i] = XX[train_index]\n",
    "    Xtest_cv[i] = XX[test_index]\n",
    "    Ytrain_cv[i] = y[train_index]\n",
    "    Ytest_cv[i] = y[test_index]\n",
    "    \n",
    "    i+=1\n",
    "    #print(i)\n",
    "    "
   ]
  },
  {
   "cell_type": "code",
   "execution_count": 34,
   "id": "80dbfaca-0ef8-405b-82c7-b6fbf891d54a",
   "metadata": {},
   "outputs": [
    {
     "data": {
      "text/plain": [
       "{'average logistic regression accuracy:': 0.689942196531792,\n",
       " 'average SVM accuracy:': 0.7791907514450866,\n",
       " 'average logistic regression recall:': 0.6899257441621761,\n",
       " 'average SVM recall:': 0.7791789624497476,\n",
       " 'average logistic regression matthews_corrcoef:': 0.3803719479555286,\n",
       " 'average SVM matthews_corrcoef:': 0.5588978498317492,\n",
       " 'average logistic regression f1 score:': 0.3803719479555286,\n",
       " 'average SVM f1 score:': 0.5588978498317492}"
      ]
     },
     "execution_count": 34,
     "metadata": {},
     "output_type": "execute_result"
    }
   ],
   "source": [
    "# traning metrics\n",
    "lasso_results = models_crossval(Xtrain_cv,Ytrain_cv,ns)\n",
    "lasso_results"
   ]
  },
  {
   "cell_type": "code",
   "execution_count": 35,
   "id": "ac8ae4fc-c712-416b-92fe-d5c2cd73f557",
   "metadata": {},
   "outputs": [],
   "source": [
    "data_save['lasso_results']=lasso_results"
   ]
  },
  {
   "cell_type": "markdown",
   "id": "d8065cb4-e031-4b2b-baab-ecd3006d97ed",
   "metadata": {},
   "source": [
    "# Step 7: Feature Selection Using Support Vector Machine"
   ]
  },
  {
   "cell_type": "code",
   "execution_count": 36,
   "id": "196e33cb-4d9a-494d-9638-765b2ff34f2f",
   "metadata": {},
   "outputs": [],
   "source": [
    "ns = 15\n",
    "Xtrain_cv, Xtest_cv, Ytrain_cv, Ytest_cv=cross_val_split(X,y,ns)"
   ]
  },
  {
   "cell_type": "code",
   "execution_count": 37,
   "id": "d2519da6-737b-4c2f-bbd8-66a28c55e4eb",
   "metadata": {},
   "outputs": [
    {
     "name": "stderr",
     "output_type": "stream",
     "text": [
      "<frozen importlib._bootstrap>:228: RuntimeWarning: scipy._lib.messagestream.MessageStream size changed, may indicate binary incompatibility. Expected 56 from C header, got 64 from PyObject\n",
      "<frozen importlib._bootstrap>:228: RuntimeWarning: scipy._lib.messagestream.MessageStream size changed, may indicate binary incompatibility. Expected 56 from C header, got 64 from PyObject\n",
      "<frozen importlib._bootstrap>:228: RuntimeWarning: scipy._lib.messagestream.MessageStream size changed, may indicate binary incompatibility. Expected 56 from C header, got 64 from PyObject\n",
      "<frozen importlib._bootstrap>:228: RuntimeWarning: scipy._lib.messagestream.MessageStream size changed, may indicate binary incompatibility. Expected 56 from C header, got 64 from PyObject\n",
      "/Users/hamidteimouri/opt/anaconda3/lib/python3.9/site-packages/sklearn/svm/_base.py:1206: ConvergenceWarning: Liblinear failed to converge, increase the number of iterations.\n",
      "  warnings.warn(\n"
     ]
    },
    {
     "data": {
      "text/plain": [
       "0.1"
      ]
     },
     "execution_count": 37,
     "metadata": {},
     "output_type": "execute_result"
    }
   ],
   "source": [
    "\n",
    "CC = linear_SVM_grid_search(X,y,ns)\n",
    "#CC=0.2\n",
    "CC"
   ]
  },
  {
   "cell_type": "code",
   "execution_count": 38,
   "id": "431a7127-e039-4fee-9bd3-a85e1e6eeb2c",
   "metadata": {},
   "outputs": [
    {
     "name": "stdout",
     "output_type": "stream",
     "text": [
      "AP -0.4077629631805706\n",
      "NF 0.2823821798865562\n",
      "DI -0.54881520822793\n",
      "DS 0.2663728948109532\n",
      "QS 0.2544218268589569\n",
      "IN -0.20778233044991637\n",
      "LY -0.2439961038815683\n",
      "KN 0.14084354478138603\n",
      "MV -0.20066595173838292\n",
      "PI -0.23598730311142493\n",
      "SQ 0.33248350648249264\n",
      "TP 0.14368524658045917\n",
      "YH 0.3363594110512807\n",
      "YP -0.22676520751239668\n",
      "VH 0.21711731344973734\n",
      "VL -0.26428393563782276\n",
      "GearyAuto_Hydrophobicity5 -0.2851501292088007\n",
      "_SecondaryStrC2 -0.18599174561237117\n",
      "_ChargeC1 -1.021744156314833\n",
      "PAAC14 -0.2671936298132232\n",
      "taugrant45 -0.3136691065649092\n"
     ]
    },
    {
     "data": {
      "text/plain": [
       "{'AP': -0.4077629631805706,\n",
       " 'NF': 0.2823821798865562,\n",
       " 'DI': -0.54881520822793,\n",
       " 'DS': 0.2663728948109532,\n",
       " 'QS': 0.2544218268589569,\n",
       " 'IN': -0.20778233044991637,\n",
       " 'LY': -0.2439961038815683,\n",
       " 'KN': 0.14084354478138603,\n",
       " 'MV': -0.20066595173838292,\n",
       " 'PI': -0.23598730311142493,\n",
       " 'SQ': 0.33248350648249264,\n",
       " 'TP': 0.14368524658045917,\n",
       " 'YH': 0.3363594110512807,\n",
       " 'YP': -0.22676520751239668,\n",
       " 'VH': 0.21711731344973734,\n",
       " 'VL': -0.26428393563782276,\n",
       " 'GearyAuto_Hydrophobicity5': -0.2851501292088007,\n",
       " '_SecondaryStrC2': -0.18599174561237117,\n",
       " '_ChargeC1': -1.021744156314833,\n",
       " 'PAAC14': -0.2671936298132232,\n",
       " 'taugrant45': -0.3136691065649092}"
      ]
     },
     "execution_count": 38,
     "metadata": {},
     "output_type": "execute_result"
    }
   ],
   "source": [
    "featuredict_svm = svm_feature_selection(Xtrain_cv,Ytrain_cv,CC,ns,klist)\n",
    "featuredict_svm"
   ]
  },
  {
   "cell_type": "code",
   "execution_count": 39,
   "id": "ce046d51-d8ee-4721-a9db-7fb084557a19",
   "metadata": {},
   "outputs": [],
   "source": [
    "data_save['selected_features_svm']=featuredict_svm"
   ]
  },
  {
   "cell_type": "code",
   "execution_count": 46,
   "id": "88901a30-046b-4925-86f7-51076b585031",
   "metadata": {},
   "outputs": [
    {
     "data": {
      "image/png": "[encoded data removed]",
      "text/plain": [
       "<Figure size 640x480 with 1 Axes>"
      ]
     },
     "metadata": {},
     "output_type": "display_data"
    }
   ],
   "source": [
    "\n",
    "sorted_dict = sorted(featuredict_svm.items(), key=lambda x: x[1])\n",
    "# Get the 10 highest positive keys\n",
    "positive_keys = dict(sorted_dict[-8:])\n",
    "# Get the 10 lowest negative keys\n",
    "negative_keys = dict(sorted_dict[:8])\n",
    "# Create a new dictionary containing the selected keys\n",
    "new_dict = {**positive_keys, **negative_keys}\n",
    "featuredict=new_dict\n",
    "dr=0.2\n",
    "selected_features_plotter(featuredict,network_name,'svm',20,dr)\n"
   ]
  },
  {
   "cell_type": "markdown",
   "id": "9166089b-e9db-4d20-87cc-5768cc05f86d",
   "metadata": {},
   "source": [
    "## Training models using selected features from SVM"
   ]
  },
  {
   "cell_type": "code",
   "execution_count": 41,
   "id": "578a746f-970f-4e77-b68e-0b5e03012a5a",
   "metadata": {},
   "outputs": [],
   "source": [
    "scaled_features_df=df3\n",
    "\n",
    "cols=list(featuredict_svm.keys())\n",
    "XX=np.array(scaled_features_df[cols])\n",
    "i = 0\n",
    "from sklearn.model_selection import StratifiedShuffleSplit\n",
    "\n",
    "Xtrain_cv = list(range(ns))\n",
    "Xtest_cv = list(range(ns))\n",
    "Ytrain_cv = list(range(ns))\n",
    "Ytest_cv = list(range(ns))\n",
    "\n",
    "cv = StratifiedShuffleSplit(n_splits=ns, test_size=0.2, random_state=999)\n",
    "for train_index, test_index in cv.split(XX, y):\n",
    "    Xtrain_cv[i] = XX[train_index]\n",
    "    Xtest_cv[i] = XX[test_index]\n",
    "    Ytrain_cv[i] = y[train_index]\n",
    "    Ytest_cv[i] = y[test_index]\n",
    "    i+=1"
   ]
  },
  {
   "cell_type": "code",
   "execution_count": 42,
   "id": "cdd318e7-ff6a-46cb-876c-2432a0b5680f",
   "metadata": {},
   "outputs": [
    {
     "data": {
      "text/plain": [
       "{'average logistic regression accuracy:': 0.7205394990366087,\n",
       " 'average SVM accuracy:': 0.8339884393063584,\n",
       " 'average logistic regression recall:': 0.7205211273629287,\n",
       " 'average SVM recall:': 0.8339755652496222,\n",
       " 'average logistic regression matthews_corrcoef:': 0.44158706482631305,\n",
       " 'average SVM matthews_corrcoef:': 0.6683312119109491,\n",
       " 'average logistic regression f1 score:': 0.44158706482631305,\n",
       " 'average SVM f1 score:': 0.6683312119109491}"
      ]
     },
     "execution_count": 42,
     "metadata": {},
     "output_type": "execute_result"
    }
   ],
   "source": [
    "results_svm = models_crossval(Xtrain_cv,Ytrain_cv,ns)\n",
    "results_svm"
   ]
  },
  {
   "cell_type": "code",
   "execution_count": 43,
   "id": "10d25152-e575-4a3c-b7a8-abbc3de8717e",
   "metadata": {},
   "outputs": [],
   "source": [
    "data_save['results_svm']=results_svm"
   ]
  },
  {
   "cell_type": "markdown",
   "id": "e473a4fc-884e-475d-8ba1-f7e6916eff3c",
   "metadata": {},
   "source": [
    "## Evaluate the model's performance to determine if there is overfitting.\n"
   ]
  },
  {
   "cell_type": "code",
   "execution_count": 44,
   "id": "d88ddfa7-a9dd-41dd-abe0-2398e07781fe",
   "metadata": {},
   "outputs": [
    {
     "name": "stdout",
     "output_type": "stream",
     "text": [
      "Processing cross validation for fold: 1\n",
      "Logistic Regression train_accuracy: 0.7040\n",
      "Logistic Regression test_accuracy: 0.7235\n",
      "Logistic Regression train_recall: 0.7040\n",
      "Logistic Regression test_recall: 0.7239\n",
      "Logistic Regression train_mcc: 0.4084\n",
      "Logistic Regression test_mcc: 0.4553\n",
      "Logistic Regression train_f1: 0.7104\n",
      "Logistic Regression test_f1: 0.7458\n",
      "\n",
      "\n",
      "SVC train_accuracy: 0.8312\n",
      "SVC test_accuracy: 0.7097\n",
      "SVC train_recall: 0.8312\n",
      "SVC test_recall: 0.7099\n",
      "SVC train_mcc: 0.6628\n",
      "SVC test_mcc: 0.4227\n",
      "SVC train_f1: 0.8341\n",
      "SVC test_f1: 0.7249\n",
      "\n",
      "\n",
      "Processing cross validation for fold: 2\n",
      "Logistic Regression train_accuracy: 0.7272\n",
      "Logistic Regression test_accuracy: 0.6590\n",
      "Logistic Regression train_recall: 0.7272\n",
      "Logistic Regression test_recall: 0.6587\n",
      "Logistic Regression train_mcc: 0.4549\n",
      "Logistic Regression test_mcc: 0.3196\n",
      "Logistic Regression train_f1: 0.7330\n",
      "Logistic Regression test_f1: 0.6783\n",
      "\n",
      "\n",
      "SVC train_accuracy: 0.8382\n",
      "SVC test_accuracy: 0.6498\n",
      "SVC train_recall: 0.8382\n",
      "SVC test_recall: 0.6496\n",
      "SVC train_mcc: 0.6764\n",
      "SVC test_mcc: 0.2998\n",
      "SVC train_f1: 0.8391\n",
      "SVC test_f1: 0.6607\n",
      "\n",
      "\n",
      "Processing cross validation for fold: 3\n",
      "Logistic Regression train_accuracy: 0.7121\n",
      "Logistic Regression test_accuracy: 0.7512\n",
      "Logistic Regression train_recall: 0.7121\n",
      "Logistic Regression test_recall: 0.7514\n",
      "Logistic Regression train_mcc: 0.4244\n",
      "Logistic Regression test_mcc: 0.5047\n",
      "Logistic Regression train_f1: 0.7161\n",
      "Logistic Regression test_f1: 0.7611\n",
      "\n",
      "\n",
      "SVC train_accuracy: 0.8243\n",
      "SVC test_accuracy: 0.7051\n",
      "SVC train_recall: 0.8243\n",
      "SVC test_recall: 0.7051\n",
      "SVC train_mcc: 0.6489\n",
      "SVC test_mcc: 0.4105\n",
      "SVC train_f1: 0.8273\n",
      "SVC test_f1: 0.7091\n",
      "\n",
      "\n",
      "Processing cross validation for fold: 4\n",
      "Logistic Regression train_accuracy: 0.7179\n",
      "Logistic Regression test_accuracy: 0.6959\n",
      "Logistic Regression train_recall: 0.7179\n",
      "Logistic Regression test_recall: 0.6958\n",
      "Logistic Regression train_mcc: 0.4360\n",
      "Logistic Regression test_mcc: 0.3919\n",
      "Logistic Regression train_f1: 0.7227\n",
      "Logistic Regression test_f1: 0.6887\n",
      "\n",
      "\n",
      "SVC train_accuracy: 0.8289\n",
      "SVC test_accuracy: 0.6912\n",
      "SVC train_recall: 0.8289\n",
      "SVC test_recall: 0.6911\n",
      "SVC train_mcc: 0.6578\n",
      "SVC test_mcc: 0.3831\n",
      "SVC train_f1: 0.8295\n",
      "SVC test_f1: 0.6794\n",
      "\n",
      "\n",
      "Processing cross validation for fold: 5\n",
      "Logistic Regression train_accuracy: 0.7237\n",
      "Logistic Regression test_accuracy: 0.6728\n",
      "Logistic Regression train_recall: 0.7237\n",
      "Logistic Regression test_recall: 0.6727\n",
      "Logistic Regression train_mcc: 0.4477\n",
      "Logistic Regression test_mcc: 0.3458\n",
      "Logistic Regression train_f1: 0.7281\n",
      "Logistic Regression test_f1: 0.6816\n",
      "\n",
      "\n",
      "SVC train_accuracy: 0.8382\n",
      "SVC test_accuracy: 0.7235\n",
      "SVC train_recall: 0.8382\n",
      "SVC test_recall: 0.7236\n",
      "SVC train_mcc: 0.6768\n",
      "SVC test_mcc: 0.4478\n",
      "SVC train_f1: 0.8409\n",
      "SVC test_f1: 0.7170\n",
      "\n",
      "\n",
      "Processing cross validation for fold: 6\n",
      "Logistic Regression train_accuracy: 0.7376\n",
      "Logistic Regression test_accuracy: 0.6221\n",
      "Logistic Regression train_recall: 0.7375\n",
      "Logistic Regression test_recall: 0.6223\n",
      "Logistic Regression train_mcc: 0.4757\n",
      "Logistic Regression test_mcc: 0.2456\n",
      "Logistic Regression train_f1: 0.7441\n",
      "Logistic Regression test_f1: 0.6372\n",
      "\n",
      "\n",
      "SVC train_accuracy: 0.8474\n",
      "SVC test_accuracy: 0.6406\n",
      "SVC train_recall: 0.8474\n",
      "SVC test_recall: 0.6405\n",
      "SVC train_mcc: 0.6950\n",
      "SVC test_mcc: 0.2811\n",
      "SVC train_f1: 0.8493\n",
      "SVC test_f1: 0.6389\n",
      "\n",
      "\n",
      "Processing cross validation for fold: 7\n",
      "Logistic Regression train_accuracy: 0.7225\n",
      "Logistic Regression test_accuracy: 0.6959\n",
      "Logistic Regression train_recall: 0.7225\n",
      "Logistic Regression test_recall: 0.6958\n",
      "Logistic Regression train_mcc: 0.4452\n",
      "Logistic Regression test_mcc: 0.3919\n",
      "Logistic Regression train_f1: 0.7260\n",
      "Logistic Regression test_f1: 0.6887\n",
      "\n",
      "\n",
      "SVC train_accuracy: 0.8382\n",
      "SVC test_accuracy: 0.7097\n",
      "SVC train_recall: 0.8381\n",
      "SVC test_recall: 0.7097\n",
      "SVC train_mcc: 0.6766\n",
      "SVC test_mcc: 0.4193\n",
      "SVC train_f1: 0.8409\n",
      "SVC test_f1: 0.7070\n",
      "\n",
      "\n",
      "Processing cross validation for fold: 8\n",
      "Logistic Regression train_accuracy: 0.7145\n",
      "Logistic Regression test_accuracy: 0.7189\n",
      "Logistic Regression train_recall: 0.7144\n",
      "Logistic Regression test_recall: 0.7190\n",
      "Logistic Regression train_mcc: 0.4296\n",
      "Logistic Regression test_mcc: 0.4384\n",
      "Logistic Regression train_f1: 0.7228\n",
      "Logistic Regression test_f1: 0.7240\n",
      "\n",
      "\n",
      "SVC train_accuracy: 0.8370\n",
      "SVC test_accuracy: 0.7051\n",
      "SVC train_recall: 0.8370\n",
      "SVC test_recall: 0.7052\n",
      "SVC train_mcc: 0.6746\n",
      "SVC test_mcc: 0.4114\n",
      "SVC train_f1: 0.8407\n",
      "SVC test_f1: 0.7143\n",
      "\n",
      "\n",
      "Processing cross validation for fold: 9\n",
      "Logistic Regression train_accuracy: 0.7202\n",
      "Logistic Regression test_accuracy: 0.6728\n",
      "Logistic Regression train_recall: 0.7202\n",
      "Logistic Regression test_recall: 0.6730\n",
      "Logistic Regression train_mcc: 0.4408\n",
      "Logistic Regression test_mcc: 0.3465\n",
      "Logistic Regression train_f1: 0.7262\n",
      "Logistic Regression test_f1: 0.6816\n",
      "\n",
      "\n",
      "SVC train_accuracy: 0.8301\n",
      "SVC test_accuracy: 0.6912\n",
      "SVC train_recall: 0.8301\n",
      "SVC test_recall: 0.6913\n",
      "SVC train_mcc: 0.6602\n",
      "SVC test_mcc: 0.3825\n",
      "SVC train_f1: 0.8312\n",
      "SVC test_f1: 0.6912\n",
      "\n",
      "\n",
      "Processing cross validation for fold: 10\n",
      "Logistic Regression train_accuracy: 0.7237\n",
      "Logistic Regression test_accuracy: 0.6866\n",
      "Logistic Regression train_recall: 0.7237\n",
      "Logistic Regression test_recall: 0.6869\n",
      "Logistic Regression train_mcc: 0.4482\n",
      "Logistic Regression test_mcc: 0.3759\n",
      "Logistic Regression train_f1: 0.7324\n",
      "Logistic Regression test_f1: 0.7018\n",
      "\n",
      "\n",
      "SVC train_accuracy: 0.8347\n",
      "SVC test_accuracy: 0.6774\n",
      "SVC train_recall: 0.8347\n",
      "SVC test_recall: 0.6778\n",
      "SVC train_mcc: 0.6700\n",
      "SVC test_mcc: 0.3592\n",
      "SVC train_f1: 0.8384\n",
      "SVC test_f1: 0.6983\n",
      "\n",
      "\n",
      "mean accuracy for log regression is 0.6898617511520737\n",
      "mean accuracy for svm is 0.6903225806451614\n",
      "mean recall for log regression is 0.6899379884471628\n",
      "mean recall for svm is 0.6903882093102277\n",
      "mean mcc for log regression is 0.3815377241276112\n",
      "mean mcc for svm is 0.38174978501252865\n",
      "mean f1 for log regression is 0.6988577146460209\n",
      "mean f1 for svm is 0.6940774442956514\n"
     ]
    }
   ],
   "source": [
    "from sklearn.model_selection import StratifiedShuffleSplit\n",
    "# Your initial setup\n",
    "ns=10\n",
    "scaled_features_df=df3\n",
    "mean_accu_log=0\n",
    "mean_accu_svm=0\n",
    "mean_recall_log=0\n",
    "mean_recall_svm=0\n",
    "mean_mcc_log=0\n",
    "mean_mcc_svm=0\n",
    "mean_f1_log=0\n",
    "mean_f1_svm=0\n",
    "cols=list(featuredict_svm.keys())\n",
    "XX=np.array(scaled_features_df[cols])\n",
    "cv = StratifiedShuffleSplit(n_splits=ns, test_size=0.2, random_state=999)\n",
    "fold_num=0\n",
    "# Splitting\n",
    "for train_index, test_index in cv.split(XX, y):\n",
    "    X_train, X_test = XX[train_index], XX[test_index]\n",
    "    Y_train, Y_test = y[train_index], y[test_index]\n",
    "    # Now you have a train-test split, you can proceed with your analysis\n",
    "    # For instance, \n",
    "    fold_num += 1  # Increment the fold counter\n",
    "    print('Processing cross validation for fold:', fold_num)\n",
    "    #results = models_overfitting2(X_train, Y_train, X_test, Y_test)\n",
    "    #... rest of your code\n",
    "    results = models_overfitting(X_train, Y_train, X_test, Y_test)\n",
    "    mean_accu_log = mean_accu_log + results['logistic_regression']['test_accuracy']\n",
    "    mean_accu_svm = mean_accu_svm + results['svc']['test_accuracy']\n",
    "    mean_recall_log = mean_recall_log + results['logistic_regression']['test_recall']\n",
    "    mean_recall_svm = mean_recall_svm + results['svc']['test_recall']\n",
    "    mean_mcc_log = mean_mcc_log + results['logistic_regression']['test_mcc']\n",
    "    mean_mcc_svm = mean_mcc_svm + results['svc']['test_mcc']\n",
    "    mean_f1_log = mean_f1_log + results['logistic_regression']['test_f1']\n",
    "    mean_f1_svm = mean_f1_svm + results['svc']['test_f1']\n",
    "    \n",
    "print('mean accuracy for log regression is' , mean_accu_log/ns)\n",
    "print('mean accuracy for svm is' , mean_accu_svm/ns)\n",
    "print('mean recall for log regression is' , mean_recall_log/ns)\n",
    "print('mean recall for svm is' , mean_recall_svm/ns)\n",
    "print('mean mcc for log regression is' , mean_mcc_log/ns)\n",
    "print('mean mcc for svm is' , mean_mcc_svm/ns)\n",
    "print('mean f1 for log regression is' , mean_f1_log/ns)\n",
    "print('mean f1 for svm is' , mean_f1_svm/ns)"
   ]
  },
  {
   "cell_type": "code",
   "execution_count": 45,
   "id": "f4ab37d4-e35d-4aa6-a1b0-b59c50af854b",
   "metadata": {},
   "outputs": [],
   "source": [
    "with open(network_name+'_results.pkl' , 'wb') as file:\n",
    "    pickle.dump(data_save,file)"
   ]
  },
  {
   "cell_type": "code",
   "execution_count": 28,
   "id": "bc56ab98-05ac-4485-acdf-e7ce432f2dc6",
   "metadata": {},
   "outputs": [],
   "source": [
    "with open(network_name+'_results.pkl' , 'rb') as file:\n",
    "    load_data=pickle.load(file)\n",
    "    "
   ]
  },
  {
   "cell_type": "code",
   "execution_count": null,
   "id": "54ca7933-a60b-45b7-88e9-3e4d6bd9404e",
   "metadata": {},
   "outputs": [],
   "source": []
  },
  {
   "cell_type": "code",
   "execution_count": null,
   "id": "1ae3ec05-572e-4016-af9f-0fa2950cd813",
   "metadata": {},
   "outputs": [],
   "source": []
  }
 ],
 "metadata": {
  "kernelspec": {
   "display_name": "Python 3 (ipykernel)",
   "language": "python",
   "name": "python3"
  },
  "language_info": {
   "codemirror_mode": {
    "name": "ipython",
    "version": 3
   },
   "file_extension": ".py",
   "mimetype": "text/x-python",
   "name": "python",
   "nbconvert_exporter": "python",
   "pygments_lexer": "ipython3",
   "version": "3.11.7"
  }
 },
 "nbformat": 4,
 "nbformat_minor": 5
}
