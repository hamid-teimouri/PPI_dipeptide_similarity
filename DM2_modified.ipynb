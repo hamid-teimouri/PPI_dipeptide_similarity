{
 "cells": [
  {
   "cell_type": "markdown",
   "id": "025cee49-6b48-4b51-95ae-f863502128e4",
   "metadata": {},
   "source": [
    "# PPI prediction for DM2 network"
   ]
  },
  {
   "cell_type": "code",
   "execution_count": 1,
   "id": "ae0d0e09-6b50-4354-87f8-dae38cd5cbac",
   "metadata": {},
   "outputs": [
    {
     "name": "stderr",
     "output_type": "stream",
     "text": [
      "<frozen importlib._bootstrap>:228: RuntimeWarning: scipy._lib.messagestream.MessageStream size changed, may indicate binary incompatibility. Expected 56 from C header, got 64 from PyObject\n"
     ]
    },
    {
     "name": "stdout",
     "output_type": "stream",
     "text": [
      "1.25.2\n",
      "1.4.4\n",
      "3.9.15 (main, Nov 24 2022, 08:29:02) \n",
      "[Clang 14.0.6 ]\n",
      "importing Jupyter notebook from PPI_functions.ipynb\n",
      "1.25.2\n",
      "1.4.4\n",
      "3.9.15 (main, Nov 24 2022, 08:29:02) \n",
      "[Clang 14.0.6 ]\n"
     ]
    }
   ],
   "source": [
    "import numpy as np\n",
    "import pandas as pd\n",
    "import seaborn as sns\n",
    "from sklearn import datasets\n",
    "from sklearn import svm\n",
    "import matplotlib.pyplot as plt\n",
    "#%matplotlib inline\n",
    "from sklearn.preprocessing import MinMaxScaler\n",
    "import matplotlib.patches as mpatches\n",
    "from sklearn.preprocessing import StandardScaler\n",
    "from sklearn.manifold import TSNE\n",
    "from sklearn.model_selection import train_test_split\n",
    "from sklearn.linear_model import LogisticRegression\n",
    "from sklearn.svm import SVC\n",
    "from sklearn.metrics import recall_score, matthews_corrcoef, f1_score\n",
    "from sklearn.model_selection import cross_val_score\n",
    "import logging\n",
    "import matplotlib.pyplot as plt\n",
    "import seaborn as sns\n",
    "sns.set_style('whitegrid')\n",
    "print(np.__version__)\n",
    "print(pd.__version__)\n",
    "import sys\n",
    "print(sys.version)\n",
    "import sklearn\n",
    "from scipy.stats import ttest_ind\n",
    "import scipy.stats  as stats\n",
    "import networkx as nx\n",
    "from joblib import dump, load\n",
    "from sklearn.metrics import f1_score\n",
    "from sklearn.model_selection import StratifiedShuffleSplit\n",
    "import pickle\n",
    "import xgboost as xgb\n",
    "#print(sklearn.__version__)\n",
    "import import_ipynb\n",
    "from PPI_functions import *\n",
    "network_name='DM2'\n"
   ]
  },
  {
   "cell_type": "markdown",
   "id": "48e00ddc-6d99-41a3-9280-ecf51dc90210",
   "metadata": {},
   "source": [
    "## source of data\n",
    "## https://github.com/mlbioinfolab/ppi-metago/blob/master/protein_pair/EC2/EC2_pair.txt\n",
    "\n",
    "## publication: https://bmcbioinformatics.biomedcentral.com/articles/10.1186/s12859-019-2907-1"
   ]
  },
  {
   "cell_type": "code",
   "execution_count": 2,
   "id": "c93b5d4b-fcb6-4978-ba6a-de247fa36838",
   "metadata": {},
   "outputs": [],
   "source": [
    "#path_h=\"/Users/temih/Dropbox/PPI_similarity_new/data/\"   # windows\n",
    "path_h=\"/Users/hamidteimouri/Dropbox/PPI_similarity_new/data/\" # mac\n"
   ]
  },
  {
   "cell_type": "markdown",
   "id": "c53bae78-afdd-4c29-ba4e-43ea2fbaa899",
   "metadata": {},
   "source": [
    "# Step0: Visualization of the network"
   ]
  },
  {
   "cell_type": "code",
   "execution_count": 3,
   "id": "3e42bd3d-dbd7-4c21-9185-ed704ab4b20b",
   "metadata": {},
   "outputs": [],
   "source": [
    "#G4=network_vis('EC2',path_h)\n",
    "#!pip install xgboost scikit-learn\n"
   ]
  },
  {
   "cell_type": "markdown",
   "id": "79f7c410-c080-41b0-b9cf-88e9a6111689",
   "metadata": {},
   "source": [
    "# Step 1: Feature extraction using propy\n"
   ]
  },
  {
   "cell_type": "markdown",
   "id": "bac48d5d-fc23-425b-9519-a3cbd99bf72d",
   "metadata": {},
   "source": [
    "#Descriptors_complete('EC2_sequence_fasta.txt','EC2_descriptors.csv')"
   ]
  },
  {
   "cell_type": "markdown",
   "id": "0202da57-fa8b-4f17-9dcd-958b5f95b502",
   "metadata": {},
   "source": [
    "# Step 2: Calculate PP distance"
   ]
  },
  {
   "cell_type": "code",
   "execution_count": 4,
   "id": "579b6533-d61f-4da5-80c9-8c32e96de410",
   "metadata": {},
   "outputs": [],
   "source": [
    "# distance_PP('EC2')"
   ]
  },
  {
   "cell_type": "markdown",
   "id": "63315621-60e8-48a2-9900-89b4becd1597",
   "metadata": {},
   "source": [
    "# Step 3: Upload data and train/test spilit"
   ]
  },
  {
   "cell_type": "code",
   "execution_count": 5,
   "id": "596f36e5-79fa-4471-ba1a-acdbedb19c71",
   "metadata": {},
   "outputs": [],
   "source": [
    "X,y,klist,df3=load_network_data(network_name, path_h)\n",
    "\n"
   ]
  },
  {
   "cell_type": "code",
   "execution_count": 6,
   "id": "d1580096-c6ff-433e-98f5-05df5233a896",
   "metadata": {},
   "outputs": [],
   "source": [
    "ns = 15\n",
    "Xtrain_cv, Xtest_cv, Ytrain_cv, Ytest_cv=cross_val_split(X,y,ns)"
   ]
  },
  {
   "cell_type": "markdown",
   "id": "d1b7b193-2a9a-4ac8-85a0-f2b1f714090a",
   "metadata": {},
   "source": [
    "# Step 4: Train logistic and SVM models using all features"
   ]
  },
  {
   "cell_type": "code",
   "execution_count": 7,
   "id": "a1410df6-514e-4724-815d-f4a005afd878",
   "metadata": {},
   "outputs": [],
   "source": [
    "all_features_traning_results = models_crossval(Xtrain_cv,Ytrain_cv,ns)\n"
   ]
  },
  {
   "cell_type": "code",
   "execution_count": 8,
   "id": "c142caa1-8503-4d17-a343-58909311dcba",
   "metadata": {},
   "outputs": [
    {
     "data": {
      "text/plain": [
       "{'average logistic regression accuracy:': 0.9850552306692656,\n",
       " 'average SVM accuracy:': 0.9359324236517218,\n",
       " 'average logistic regression recall:': 0.9850544139105059,\n",
       " 'average SVM recall:': 0.9359248338197148,\n",
       " 'average logistic regression matthews_corrcoef:': 0.970158957248678,\n",
       " 'average SVM matthews_corrcoef:': 0.8724704378998573,\n",
       " 'average logistic regression f1 score:': 0.970158957248678,\n",
       " 'average SVM f1 score:': 0.8724704378998573}"
      ]
     },
     "execution_count": 8,
     "metadata": {},
     "output_type": "execute_result"
    }
   ],
   "source": [
    "all_features_traning_results"
   ]
  },
  {
   "cell_type": "code",
   "execution_count": 9,
   "id": "85141936-9ebc-4e3c-ab6a-cacf380ba610",
   "metadata": {},
   "outputs": [],
   "source": [
    "\n",
    "## Save dat into pickle file\n",
    "data_save = {}\n",
    "data_save['all_features_traning_results']=all_features_traning_results"
   ]
  },
  {
   "cell_type": "markdown",
   "id": "cc1e9cc1-473a-45fa-8bb4-33d9f8abce0e",
   "metadata": {},
   "source": [
    "## now we check if model overfits"
   ]
  },
  {
   "cell_type": "code",
   "execution_count": 10,
   "id": "50e29563-c1fb-40c7-a234-7bc19776c5db",
   "metadata": {},
   "outputs": [
    {
     "name": "stdout",
     "output_type": "stream",
     "text": [
      "Processing cross validation for fold: 1\n",
      "Logistic Regression train_accuracy: 0.9864\n",
      "Logistic Regression test_accuracy: 0.6744\n",
      "Logistic Regression train_recall: 0.9864\n",
      "Logistic Regression test_recall: 0.6745\n",
      "Logistic Regression train_mcc: 0.9727\n",
      "Logistic Regression test_mcc: 0.3491\n",
      "Logistic Regression train_f1: 0.9864\n",
      "Logistic Regression test_f1: 0.6769\n",
      "\n",
      "\n",
      "SVC train_accuracy: 0.9376\n",
      "SVC test_accuracy: 0.6822\n",
      "SVC train_recall: 0.9376\n",
      "SVC test_recall: 0.6822\n",
      "SVC train_mcc: 0.8757\n",
      "SVC test_mcc: 0.3644\n",
      "SVC train_f1: 0.9387\n",
      "SVC test_f1: 0.6822\n",
      "\n",
      "\n",
      "Processing cross validation for fold: 2\n",
      "Logistic Regression train_accuracy: 0.9883\n",
      "Logistic Regression test_accuracy: 0.7364\n",
      "Logistic Regression train_recall: 0.9883\n",
      "Logistic Regression test_recall: 0.7369\n",
      "Logistic Regression train_mcc: 0.9766\n",
      "Logistic Regression test_mcc: 0.4770\n",
      "Logistic Regression train_f1: 0.9883\n",
      "Logistic Regression test_f1: 0.7213\n",
      "\n",
      "\n",
      "SVC train_accuracy: 0.9357\n",
      "SVC test_accuracy: 0.7209\n",
      "SVC train_recall: 0.9357\n",
      "SVC test_recall: 0.7210\n",
      "SVC train_mcc: 0.8714\n",
      "SVC test_mcc: 0.4422\n",
      "SVC train_f1: 0.9359\n",
      "SVC test_f1: 0.7188\n",
      "\n",
      "\n",
      "Processing cross validation for fold: 3\n",
      "Logistic Regression train_accuracy: 0.9766\n",
      "Logistic Regression test_accuracy: 0.6899\n",
      "Logistic Regression train_recall: 0.9766\n",
      "Logistic Regression test_recall: 0.6894\n",
      "Logistic Regression train_mcc: 0.9532\n",
      "Logistic Regression test_mcc: 0.3822\n",
      "Logistic Regression train_f1: 0.9767\n",
      "Logistic Regression test_f1: 0.6667\n",
      "\n",
      "\n",
      "SVC train_accuracy: 0.9220\n",
      "SVC test_accuracy: 0.6977\n",
      "SVC train_recall: 0.9220\n",
      "SVC test_recall: 0.6975\n",
      "SVC train_mcc: 0.8457\n",
      "SVC test_mcc: 0.3955\n",
      "SVC train_f1: 0.9245\n",
      "SVC test_f1: 0.6880\n",
      "\n",
      "\n",
      "Processing cross validation for fold: 4\n",
      "Logistic Regression train_accuracy: 0.9825\n",
      "Logistic Regression test_accuracy: 0.6512\n",
      "Logistic Regression train_recall: 0.9825\n",
      "Logistic Regression test_recall: 0.6508\n",
      "Logistic Regression train_mcc: 0.9649\n",
      "Logistic Regression test_mcc: 0.3028\n",
      "Logistic Regression train_f1: 0.9824\n",
      "Logistic Regression test_f1: 0.6667\n",
      "\n",
      "\n",
      "SVC train_accuracy: 0.9337\n",
      "SVC test_accuracy: 0.6899\n",
      "SVC train_recall: 0.9338\n",
      "SVC test_recall: 0.6899\n",
      "SVC train_mcc: 0.8679\n",
      "SVC test_mcc: 0.3798\n",
      "SVC train_f1: 0.9346\n",
      "SVC test_f1: 0.6923\n",
      "\n",
      "\n",
      "Processing cross validation for fold: 5\n",
      "Logistic Regression train_accuracy: 0.9844\n",
      "Logistic Regression test_accuracy: 0.6667\n",
      "Logistic Regression train_recall: 0.9844\n",
      "Logistic Regression test_recall: 0.6668\n",
      "Logistic Regression train_mcc: 0.9688\n",
      "Logistic Regression test_mcc: 0.3339\n",
      "Logistic Regression train_f1: 0.9844\n",
      "Logistic Regression test_f1: 0.6614\n",
      "\n",
      "\n",
      "SVC train_accuracy: 0.9415\n",
      "SVC test_accuracy: 0.6744\n",
      "SVC train_recall: 0.9416\n",
      "SVC test_recall: 0.6748\n",
      "SVC train_mcc: 0.8837\n",
      "SVC test_mcc: 0.3508\n",
      "SVC train_f1: 0.9425\n",
      "SVC test_f1: 0.6613\n",
      "\n",
      "\n"
     ]
    }
   ],
   "source": [
    "from sklearn.model_selection import StratifiedShuffleSplit\n",
    "# Your initial setup\n",
    "ns=5\n",
    "Y = y\n",
    "cv = StratifiedShuffleSplit(n_splits=ns, test_size=0.2, random_state=999)\n",
    "fold_num=0\n",
    "# Splitting\n",
    "for train_index, test_index in cv.split(X, y):\n",
    "    X_train, X_test = X[train_index], X[test_index]\n",
    "    Y_train, Y_test = Y[train_index], Y[test_index]\n",
    "    # Now you have a train-test split, you can proceed with your analysis\n",
    "    # For instance, \n",
    "    fold_num += 1  # Increment the fold counter\n",
    "    print('Processing cross validation for fold:', fold_num)\n",
    "    results = models_overfitting(X_train, Y_train, X_test, Y_test)\n"
   ]
  },
  {
   "cell_type": "markdown",
   "id": "3f891fd1-b92a-4841-a6f9-8613bc64d5ed",
   "metadata": {},
   "source": [
    "# Step 5: Feature Selection Using Lasso Regression"
   ]
  },
  {
   "cell_type": "code",
   "execution_count": 11,
   "id": "e740548d-d75b-4538-98ca-70e299bded77",
   "metadata": {},
   "outputs": [
    {
     "name": "stdout",
     "output_type": "stream",
     "text": [
      "NS -0.10166505672048223\n",
      "QK -0.13934482925220634\n",
      "QP -0.14070762129700018\n",
      "HY -0.30712444578012565\n",
      "MV -0.11562115521871429\n",
      "WD -0.09444582277596651\n",
      "MoranAuto_Polarizability30 0.2636093984737008\n",
      "GearyAuto_Mutability20 0.07377700142878739\n",
      "_PolarizabilityD3001 -0.1366881799225751\n",
      "_PolarityD1001 -0.015259991281056996\n",
      "PAAC6 -0.3090853764059061\n",
      "PAAC22 -0.26973516791832985\n",
      "APAAC4 -0.27399710840535846\n",
      "APAAC13 -0.2110992428755867\n",
      "APAAC16 -0.16708668161794224\n",
      "tausw38 -0.1818695726760565\n"
     ]
    },
    {
     "data": {
      "text/plain": [
       "{'NS': -0.10166505672048223,\n",
       " 'QK': -0.13934482925220634,\n",
       " 'QP': -0.14070762129700018,\n",
       " 'HY': -0.30712444578012565,\n",
       " 'MV': -0.11562115521871429,\n",
       " 'WD': -0.09444582277596651,\n",
       " 'MoranAuto_Polarizability30': 0.2636093984737008,\n",
       " 'GearyAuto_Mutability20': 0.07377700142878739,\n",
       " '_PolarizabilityD3001': -0.1366881799225751,\n",
       " '_PolarityD1001': -0.015259991281056996,\n",
       " 'PAAC6': -0.3090853764059061,\n",
       " 'PAAC22': -0.26973516791832985,\n",
       " 'APAAC4': -0.27399710840535846,\n",
       " 'APAAC13': -0.2110992428755867,\n",
       " 'APAAC16': -0.16708668161794224,\n",
       " 'tausw38': -0.1818695726760565}"
      ]
     },
     "execution_count": 11,
     "metadata": {},
     "output_type": "execute_result"
    }
   ],
   "source": [
    "AA=0.004\n",
    "ns = 15\n",
    "Xtrain_cv, Xtest_cv, Ytrain_cv, Ytest_cv=cross_val_split(X,y,ns)\n",
    "featuredict_lasso = lasso_feature_selection(Xtrain_cv,Ytrain_cv,AA,ns,klist)\n",
    "featuredict_lasso"
   ]
  },
  {
   "cell_type": "code",
   "execution_count": 12,
   "id": "5c2fc0ba-5602-4758-b315-70531cea5751",
   "metadata": {},
   "outputs": [],
   "source": [
    "data_save['selected_features_lasso']=featuredict_lasso"
   ]
  },
  {
   "cell_type": "code",
   "execution_count": 13,
   "id": "58d51c8d-2d97-45b4-8b50-078272ba8b9e",
   "metadata": {},
   "outputs": [
    {
     "data": {
      "image/png": "[encoded data removed]",
      "text/plain": [
       "<Figure size 640x480 with 1 Axes>"
      ]
     },
     "metadata": {},
     "output_type": "display_data"
    }
   ],
   "source": [
    "\n",
    "sorted_dict = sorted(featuredict_lasso.items(), key=lambda x: x[1])\n",
    "# Get the 10 highest positive keys\n",
    "positive_keys = dict(sorted_dict[-8:])\n",
    "# Get the 10 lowest negative keys\n",
    "negative_keys = dict(sorted_dict[:8])\n",
    "# Create a new dictionary containing the selected keys\n",
    "new_dict = {**positive_keys, **negative_keys}\n",
    "featuredict=new_dict\n",
    "dr=0.1\n",
    "selected_features_plotter(featuredict,network_name,'lasso',20,dr)\n"
   ]
  },
  {
   "cell_type": "markdown",
   "id": "805c6bc6-1de9-4c26-93df-a4e601e3e0c4",
   "metadata": {},
   "source": [
    "## Now we train model using features selection from LASSO mothod"
   ]
  },
  {
   "cell_type": "code",
   "execution_count": 14,
   "id": "98701369-493e-4616-a6e0-94a382ed63e9",
   "metadata": {},
   "outputs": [
    {
     "name": "stdout",
     "output_type": "stream",
     "text": [
      "Processing cross validation for fold: 1\n",
      "Logistic Regression train_accuracy: 0.7368\n",
      "Logistic Regression test_accuracy: 0.7132\n",
      "Logistic Regression train_recall: 0.7368\n",
      "Logistic Regression test_recall: 0.7136\n",
      "Logistic Regression train_mcc: 0.4741\n",
      "Logistic Regression test_mcc: 0.4293\n",
      "Logistic Regression train_f1: 0.7429\n",
      "Logistic Regression test_f1: 0.7259\n",
      "\n",
      "\n",
      "SVC train_accuracy: 0.8382\n",
      "SVC test_accuracy: 0.7364\n",
      "SVC train_recall: 0.8382\n",
      "SVC test_recall: 0.7367\n",
      "SVC train_mcc: 0.6764\n",
      "SVC test_mcc: 0.4740\n",
      "SVC train_f1: 0.8382\n",
      "SVC test_f1: 0.7424\n",
      "\n",
      "\n",
      "Processing cross validation for fold: 2\n",
      "Logistic Regression train_accuracy: 0.7368\n",
      "Logistic Regression test_accuracy: 0.7054\n",
      "Logistic Regression train_recall: 0.7369\n",
      "Logistic Regression test_recall: 0.7053\n",
      "Logistic Regression train_mcc: 0.4742\n",
      "Logistic Regression test_mcc: 0.4109\n",
      "Logistic Regression train_f1: 0.7419\n",
      "Logistic Regression test_f1: 0.7121\n",
      "\n",
      "\n",
      "SVC train_accuracy: 0.8226\n",
      "SVC test_accuracy: 0.7287\n",
      "SVC train_recall: 0.8226\n",
      "SVC test_recall: 0.7290\n",
      "SVC train_mcc: 0.6452\n",
      "SVC test_mcc: 0.4590\n",
      "SVC train_f1: 0.8226\n",
      "SVC test_f1: 0.7200\n",
      "\n",
      "\n",
      "Processing cross validation for fold: 3\n",
      "Logistic Regression train_accuracy: 0.7407\n",
      "Logistic Regression test_accuracy: 0.7287\n",
      "Logistic Regression train_recall: 0.7407\n",
      "Logistic Regression test_recall: 0.7291\n",
      "Logistic Regression train_mcc: 0.4816\n",
      "Logistic Regression test_mcc: 0.4605\n",
      "Logistic Regression train_f1: 0.7437\n",
      "Logistic Regression test_f1: 0.7407\n",
      "\n",
      "\n",
      "SVC train_accuracy: 0.8246\n",
      "SVC test_accuracy: 0.7364\n",
      "SVC train_recall: 0.8245\n",
      "SVC test_recall: 0.7365\n",
      "SVC train_mcc: 0.6493\n",
      "SVC test_mcc: 0.4732\n",
      "SVC train_f1: 0.8269\n",
      "SVC test_f1: 0.7385\n",
      "\n",
      "\n",
      "Processing cross validation for fold: 4\n",
      "Logistic Regression train_accuracy: 0.7290\n",
      "Logistic Regression test_accuracy: 0.7519\n",
      "Logistic Regression train_recall: 0.7291\n",
      "Logistic Regression test_recall: 0.7516\n",
      "Logistic Regression train_mcc: 0.4587\n",
      "Logistic Regression test_mcc: 0.5057\n",
      "Logistic Regression train_f1: 0.7352\n",
      "Logistic Regression test_f1: 0.7647\n",
      "\n",
      "\n",
      "SVC train_accuracy: 0.8421\n",
      "SVC test_accuracy: 0.7132\n",
      "SVC train_recall: 0.8421\n",
      "SVC test_recall: 0.7131\n",
      "SVC train_mcc: 0.6842\n",
      "SVC test_mcc: 0.4263\n",
      "SVC train_f1: 0.8415\n",
      "SVC test_f1: 0.7176\n",
      "\n",
      "\n",
      "Processing cross validation for fold: 5\n",
      "Logistic Regression train_accuracy: 0.7466\n",
      "Logistic Regression test_accuracy: 0.7442\n",
      "Logistic Regression train_recall: 0.7466\n",
      "Logistic Regression test_recall: 0.7445\n",
      "Logistic Regression train_mcc: 0.4934\n",
      "Logistic Regression test_mcc: 0.4901\n",
      "Logistic Regression train_f1: 0.7500\n",
      "Logistic Regression test_f1: 0.7360\n",
      "\n",
      "\n",
      "SVC train_accuracy: 0.8109\n",
      "SVC test_accuracy: 0.7287\n",
      "SVC train_recall: 0.8109\n",
      "SVC test_recall: 0.7292\n",
      "SVC train_mcc: 0.6219\n",
      "SVC test_mcc: 0.4624\n",
      "SVC train_f1: 0.8117\n",
      "SVC test_f1: 0.7107\n",
      "\n",
      "\n",
      "Processing cross validation for fold: 6\n",
      "Logistic Regression train_accuracy: 0.7544\n",
      "Logistic Regression test_accuracy: 0.6899\n",
      "Logistic Regression train_recall: 0.7543\n",
      "Logistic Regression test_recall: 0.6897\n",
      "Logistic Regression train_mcc: 0.5102\n",
      "Logistic Regression test_mcc: 0.3802\n",
      "Logistic Regression train_f1: 0.7640\n",
      "Logistic Regression test_f1: 0.6774\n",
      "\n",
      "\n",
      "SVC train_accuracy: 0.8421\n",
      "SVC test_accuracy: 0.6822\n",
      "SVC train_recall: 0.8421\n",
      "SVC test_recall: 0.6817\n",
      "SVC train_mcc: 0.6844\n",
      "SVC test_mcc: 0.3659\n",
      "SVC train_f1: 0.8445\n",
      "SVC test_f1: 0.6612\n",
      "\n",
      "\n",
      "Processing cross validation for fold: 7\n",
      "Logistic Regression train_accuracy: 0.7154\n",
      "Logistic Regression test_accuracy: 0.7984\n",
      "Logistic Regression train_recall: 0.7155\n",
      "Logistic Regression test_recall: 0.7982\n",
      "Logistic Regression train_mcc: 0.4315\n",
      "Logistic Regression test_mcc: 0.5978\n",
      "Logistic Regression train_f1: 0.7224\n",
      "Logistic Regression test_f1: 0.8060\n",
      "\n",
      "\n",
      "SVC train_accuracy: 0.8187\n",
      "SVC test_accuracy: 0.7829\n",
      "SVC train_recall: 0.8187\n",
      "SVC test_recall: 0.7831\n",
      "SVC train_mcc: 0.6374\n",
      "SVC test_mcc: 0.5662\n",
      "SVC train_f1: 0.8180\n",
      "SVC test_f1: 0.7813\n",
      "\n",
      "\n",
      "Processing cross validation for fold: 8\n",
      "Logistic Regression train_accuracy: 0.7349\n",
      "Logistic Regression test_accuracy: 0.6977\n",
      "Logistic Regression train_recall: 0.7348\n",
      "Logistic Regression test_recall: 0.6981\n",
      "Logistic Regression train_mcc: 0.4703\n",
      "Logistic Regression test_mcc: 0.3982\n",
      "Logistic Regression train_f1: 0.7414\n",
      "Logistic Regression test_f1: 0.7111\n",
      "\n",
      "\n",
      "SVC train_accuracy: 0.8265\n",
      "SVC test_accuracy: 0.6589\n",
      "SVC train_recall: 0.8266\n",
      "SVC test_recall: 0.6587\n",
      "SVC train_mcc: 0.6537\n",
      "SVC test_mcc: 0.3181\n",
      "SVC train_f1: 0.8231\n",
      "SVC test_f1: 0.6452\n",
      "\n",
      "\n",
      "Processing cross validation for fold: 9\n",
      "Logistic Regression train_accuracy: 0.7329\n",
      "Logistic Regression test_accuracy: 0.7674\n",
      "Logistic Regression train_recall: 0.7330\n",
      "Logistic Regression test_recall: 0.7675\n",
      "Logistic Regression train_mcc: 0.4664\n",
      "Logistic Regression test_mcc: 0.5352\n",
      "Logistic Regression train_f1: 0.7380\n",
      "Logistic Regression test_f1: 0.7656\n",
      "\n",
      "\n",
      "SVC train_accuracy: 0.8304\n",
      "SVC test_accuracy: 0.7674\n",
      "SVC train_recall: 0.8304\n",
      "SVC test_recall: 0.7678\n",
      "SVC train_mcc: 0.6608\n",
      "SVC test_mcc: 0.5375\n",
      "SVC train_f1: 0.8304\n",
      "SVC test_f1: 0.7581\n",
      "\n",
      "\n",
      "Processing cross validation for fold: 10\n",
      "Logistic Regression train_accuracy: 0.7329\n",
      "Logistic Regression test_accuracy: 0.7287\n",
      "Logistic Regression train_recall: 0.7329\n",
      "Logistic Regression test_recall: 0.7290\n",
      "Logistic Regression train_mcc: 0.4663\n",
      "Logistic Regression test_mcc: 0.4590\n",
      "Logistic Regression train_f1: 0.7390\n",
      "Logistic Regression test_f1: 0.7368\n",
      "\n",
      "\n",
      "SVC train_accuracy: 0.8285\n",
      "SVC test_accuracy: 0.7209\n",
      "SVC train_recall: 0.8284\n",
      "SVC test_recall: 0.7210\n",
      "SVC train_mcc: 0.6574\n",
      "SVC test_mcc: 0.4422\n",
      "SVC train_f1: 0.8321\n",
      "SVC test_f1: 0.7231\n",
      "\n",
      "\n",
      "mean accuracy for log regression is 0.7325581395348838\n",
      "mean accuracy for svm is 0.725581395348837\n",
      "mean recall for log regression is 0.7326442307692307\n",
      "mean recall for svm is 0.7256730769230769\n",
      "mean mcc for log regression is 0.4667025728437394\n",
      "mean mcc for svm is 0.452490699986768\n",
      "mean f1 for log regression is 0.737646148160753\n",
      "mean f1 for svm is 0.7197896588768995\n"
     ]
    }
   ],
   "source": [
    "from sklearn.model_selection import StratifiedShuffleSplit\n",
    "# Your initial setup\n",
    "ns=10\n",
    "scaled_features_df=df3\n",
    "mean_accu_log=0\n",
    "mean_accu_svm=0\n",
    "mean_recall_log=0\n",
    "mean_recall_svm=0\n",
    "mean_mcc_log=0\n",
    "mean_mcc_svm=0\n",
    "mean_f1_log=0\n",
    "mean_f1_svm=0\n",
    "cols=list(featuredict_lasso.keys())\n",
    "XX=np.array(scaled_features_df[cols])\n",
    "cv = StratifiedShuffleSplit(n_splits=ns, test_size=0.2, random_state=999)\n",
    "fold_num=0\n",
    "# Splitting\n",
    "for train_index, test_index in cv.split(XX, y):\n",
    "    X_train, X_test = XX[train_index], XX[test_index]\n",
    "    Y_train, Y_test = y[train_index], y[test_index]\n",
    "    # Now you have a train-test split, you can proceed with your analysis\n",
    "    # For instance, \n",
    "    fold_num += 1  # Increment the fold counter\n",
    "    print('Processing cross validation for fold:', fold_num)\n",
    "    #results = models_overfitting2(X_train, Y_train, X_test, Y_test)\n",
    "    #... rest of your code\n",
    "    results = models_overfitting(X_train, Y_train, X_test, Y_test)\n",
    "    mean_accu_log = mean_accu_log + results['logistic_regression']['test_accuracy']\n",
    "    mean_accu_svm = mean_accu_svm + results['svc']['test_accuracy']\n",
    "    mean_recall_log = mean_recall_log + results['logistic_regression']['test_recall']\n",
    "    mean_recall_svm = mean_recall_svm + results['svc']['test_recall']\n",
    "    mean_mcc_log = mean_mcc_log + results['logistic_regression']['test_mcc']\n",
    "    mean_mcc_svm = mean_mcc_svm + results['svc']['test_mcc']\n",
    "    mean_f1_log = mean_f1_log + results['logistic_regression']['test_f1']\n",
    "    mean_f1_svm = mean_f1_svm + results['svc']['test_f1']\n",
    "    \n",
    "print('mean accuracy for log regression is' , mean_accu_log/ns)\n",
    "print('mean accuracy for svm is' , mean_accu_svm/ns)\n",
    "print('mean recall for log regression is' , mean_recall_log/ns)\n",
    "print('mean recall for svm is' , mean_recall_svm/ns)\n",
    "print('mean mcc for log regression is' , mean_mcc_log/ns)\n",
    "print('mean mcc for svm is' , mean_mcc_svm/ns)\n",
    "print('mean f1 for log regression is' , mean_f1_log/ns)\n",
    "print('mean f1 for svm is' , mean_f1_svm/ns)"
   ]
  },
  {
   "cell_type": "code",
   "execution_count": null,
   "id": "50bae75f-594a-43b2-a5b2-23ce98c7a071",
   "metadata": {},
   "outputs": [],
   "source": []
  },
  {
   "cell_type": "code",
   "execution_count": 15,
   "id": "d4ceeeb6-744a-4156-9b01-5b8e7bb99f17",
   "metadata": {},
   "outputs": [],
   "source": [
    "scaled_features_df=df3\n",
    "cols=list(featuredict_lasso.keys())\n",
    "XX=np.array(scaled_features_df[cols])\n",
    "i = 0\n",
    "from sklearn.model_selection import StratifiedShuffleSplit\n",
    "\n",
    "Xtrain_cv = list(range(ns))\n",
    "Xtest_cv = list(range(ns))\n",
    "Ytrain_cv = list(range(ns))\n",
    "Ytest_cv = list(range(ns))\n",
    "\n",
    "cv = StratifiedShuffleSplit(n_splits=ns, test_size=0.2, random_state=999)\n",
    "for train_index, test_index in cv.split(XX, y):\n",
    "    Xtrain_cv[i] = XX[train_index]\n",
    "    Xtest_cv[i] = XX[test_index]\n",
    "    Ytrain_cv[i] = y[train_index]\n",
    "    Ytest_cv[i] = y[test_index]\n",
    "    \n",
    "    i+=1\n",
    "    #print(i)\n",
    "    "
   ]
  },
  {
   "cell_type": "code",
   "execution_count": 16,
   "id": "80dbfaca-0ef8-405b-82c7-b6fbf891d54a",
   "metadata": {},
   "outputs": [
    {
     "data": {
      "text/plain": [
       "{'average logistic regression accuracy:': 0.7360623781676413,\n",
       " 'average SVM accuracy:': 0.8284600389863547,\n",
       " 'average logistic regression recall:': 0.7360606152723737,\n",
       " 'average SVM recall:': 0.8284563472762647,\n",
       " 'average logistic regression matthews_corrcoef:': 0.4726593033245948,\n",
       " 'average SVM matthews_corrcoef:': 0.6570770467499336,\n",
       " 'average logistic regression f1 score:': 0.4726593033245948,\n",
       " 'average SVM f1 score:': 0.6570770467499336}"
      ]
     },
     "execution_count": 16,
     "metadata": {},
     "output_type": "execute_result"
    }
   ],
   "source": [
    "# traning metrics\n",
    "lasso_results = models_crossval(Xtrain_cv,Ytrain_cv,ns)\n",
    "lasso_results"
   ]
  },
  {
   "cell_type": "code",
   "execution_count": 17,
   "id": "ac8ae4fc-c712-416b-92fe-d5c2cd73f557",
   "metadata": {},
   "outputs": [],
   "source": [
    "data_save['lasso_results']=lasso_results"
   ]
  },
  {
   "cell_type": "markdown",
   "id": "d8065cb4-e031-4b2b-baab-ecd3006d97ed",
   "metadata": {},
   "source": [
    "# Step 7: Feature Selection Using Support Vector Machine"
   ]
  },
  {
   "cell_type": "code",
   "execution_count": 29,
   "id": "196e33cb-4d9a-494d-9638-765b2ff34f2f",
   "metadata": {},
   "outputs": [],
   "source": [
    "ns = 15\n",
    "Xtrain_cv, Xtest_cv, Ytrain_cv, Ytest_cv=cross_val_split(X,y,ns)"
   ]
  },
  {
   "cell_type": "code",
   "execution_count": 30,
   "id": "d2519da6-737b-4c2f-bbd8-66a28c55e4eb",
   "metadata": {},
   "outputs": [
    {
     "name": "stderr",
     "output_type": "stream",
     "text": [
      "<frozen importlib._bootstrap>:228: RuntimeWarning: scipy._lib.messagestream.MessageStream size changed, may indicate binary incompatibility. Expected 56 from C header, got 64 from PyObject\n",
      "<frozen importlib._bootstrap>:228: RuntimeWarning: scipy._lib.messagestream.MessageStream size changed, may indicate binary incompatibility. Expected 56 from C header, got 64 from PyObject\n",
      "<frozen importlib._bootstrap>:228: RuntimeWarning: scipy._lib.messagestream.MessageStream size changed, may indicate binary incompatibility. Expected 56 from C header, got 64 from PyObject\n",
      "<frozen importlib._bootstrap>:228: RuntimeWarning: scipy._lib.messagestream.MessageStream size changed, may indicate binary incompatibility. Expected 56 from C header, got 64 from PyObject\n"
     ]
    },
    {
     "data": {
      "text/plain": [
       "0.1"
      ]
     },
     "execution_count": 30,
     "metadata": {},
     "output_type": "execute_result"
    }
   ],
   "source": [
    "\n",
    "CC = linear_SVM_grid_search(X,y,ns)\n",
    "#CC=0.2\n",
    "CC"
   ]
  },
  {
   "cell_type": "code",
   "execution_count": 31,
   "id": "431a7127-e039-4fee-9bd3-a85e1e6eeb2c",
   "metadata": {},
   "outputs": [
    {
     "name": "stdout",
     "output_type": "stream",
     "text": [
      "QP -0.238458391401155\n",
      "GH 0.0676246875917195\n",
      "HR 0.19691840046584294\n",
      "MV -0.18401185553324942\n",
      "MoranAuto_Polarizability30 0.48871524955950024\n",
      "_SolventAccessibilityD3001 -0.06329544104255319\n",
      "_HydrophobicityD3001 -0.06877550614150603\n",
      "PAAC6 -0.6111742068996351\n",
      "PAAC22 -0.419171728062442\n",
      "APAAC4 -0.60622743177149\n",
      "APAAC13 -0.38709182934145364\n",
      "APAAC16 -0.30496247078664557\n"
     ]
    },
    {
     "data": {
      "text/plain": [
       "{'QP': -0.238458391401155,\n",
       " 'GH': 0.0676246875917195,\n",
       " 'HR': 0.19691840046584294,\n",
       " 'MV': -0.18401185553324942,\n",
       " 'MoranAuto_Polarizability30': 0.48871524955950024,\n",
       " '_SolventAccessibilityD3001': -0.06329544104255319,\n",
       " '_HydrophobicityD3001': -0.06877550614150603,\n",
       " 'PAAC6': -0.6111742068996351,\n",
       " 'PAAC22': -0.419171728062442,\n",
       " 'APAAC4': -0.60622743177149,\n",
       " 'APAAC13': -0.38709182934145364,\n",
       " 'APAAC16': -0.30496247078664557}"
      ]
     },
     "execution_count": 31,
     "metadata": {},
     "output_type": "execute_result"
    }
   ],
   "source": [
    "featuredict_svm = svm_feature_selection(Xtrain_cv,Ytrain_cv,CC,ns,klist)\n",
    "featuredict_svm"
   ]
  },
  {
   "cell_type": "code",
   "execution_count": 32,
   "id": "ce046d51-d8ee-4721-a9db-7fb084557a19",
   "metadata": {},
   "outputs": [],
   "source": [
    "data_save['selected_features_svm']=featuredict_svm"
   ]
  },
  {
   "cell_type": "code",
   "execution_count": 33,
   "id": "88901a30-046b-4925-86f7-51076b585031",
   "metadata": {},
   "outputs": [
    {
     "data": {
      "image/png": "[encoded data removed]",
      "text/plain": [
       "<Figure size 640x480 with 1 Axes>"
      ]
     },
     "metadata": {},
     "output_type": "display_data"
    }
   ],
   "source": [
    "\n",
    "sorted_dict = sorted(featuredict_svm.items(), key=lambda x: x[1])\n",
    "# Get the 10 highest positive keys\n",
    "positive_keys = dict(sorted_dict[-8:])\n",
    "# Get the 10 lowest negative keys\n",
    "negative_keys = dict(sorted_dict[:8])\n",
    "# Create a new dictionary containing the selected keys\n",
    "new_dict = {**positive_keys, **negative_keys}\n",
    "featuredict=new_dict\n",
    "dr=0.1\n",
    "selected_features_plotter(featuredict,network_name,'svm',20,dr)\n"
   ]
  },
  {
   "cell_type": "markdown",
   "id": "9166089b-e9db-4d20-87cc-5768cc05f86d",
   "metadata": {},
   "source": [
    "## Training models using selected features from SVM"
   ]
  },
  {
   "cell_type": "code",
   "execution_count": 34,
   "id": "578a746f-970f-4e77-b68e-0b5e03012a5a",
   "metadata": {},
   "outputs": [],
   "source": [
    "scaled_features_df=df3\n",
    "\n",
    "cols=list(featuredict_svm.keys())\n",
    "XX=np.array(scaled_features_df[cols])\n",
    "i = 0\n",
    "from sklearn.model_selection import StratifiedShuffleSplit\n",
    "\n",
    "Xtrain_cv = list(range(ns))\n",
    "Xtest_cv = list(range(ns))\n",
    "Ytrain_cv = list(range(ns))\n",
    "Ytest_cv = list(range(ns))\n",
    "\n",
    "cv = StratifiedShuffleSplit(n_splits=ns, test_size=0.2, random_state=999)\n",
    "for train_index, test_index in cv.split(XX, y):\n",
    "    Xtrain_cv[i] = XX[train_index]\n",
    "    Xtest_cv[i] = XX[test_index]\n",
    "    Ytrain_cv[i] = y[train_index]\n",
    "    Ytest_cv[i] = y[test_index]\n",
    "    i+=1"
   ]
  },
  {
   "cell_type": "code",
   "execution_count": 35,
   "id": "cdd318e7-ff6a-46cb-876c-2432a0b5680f",
   "metadata": {},
   "outputs": [
    {
     "data": {
      "text/plain": [
       "{'average logistic regression accuracy:': 0.7215074723846654,\n",
       " 'average SVM accuracy:': 0.7966211825860948,\n",
       " 'average logistic regression recall:': 0.7215117339494165,\n",
       " 'average SVM recall:': 0.7966145833333335,\n",
       " 'average logistic regression matthews_corrcoef:': 0.4432704401551415,\n",
       " 'average SVM matthews_corrcoef:': 0.5933841100691969,\n",
       " 'average logistic regression f1 score:': 0.4432704401551415,\n",
       " 'average SVM f1 score:': 0.5933841100691969}"
      ]
     },
     "execution_count": 35,
     "metadata": {},
     "output_type": "execute_result"
    }
   ],
   "source": [
    "results_svm = models_crossval(Xtrain_cv,Ytrain_cv,ns)\n",
    "results_svm"
   ]
  },
  {
   "cell_type": "code",
   "execution_count": 36,
   "id": "10d25152-e575-4a3c-b7a8-abbc3de8717e",
   "metadata": {},
   "outputs": [],
   "source": [
    "data_save['results_svm']=results_svm"
   ]
  },
  {
   "cell_type": "markdown",
   "id": "e473a4fc-884e-475d-8ba1-f7e6916eff3c",
   "metadata": {},
   "source": [
    "# check for overfitting"
   ]
  },
  {
   "cell_type": "code",
   "execution_count": 37,
   "id": "d88ddfa7-a9dd-41dd-abe0-2398e07781fe",
   "metadata": {},
   "outputs": [
    {
     "name": "stdout",
     "output_type": "stream",
     "text": [
      "Processing cross validation for fold: 1\n",
      "Logistic Regression train_accuracy: 0.7349\n",
      "Logistic Regression test_accuracy: 0.6977\n",
      "Logistic Regression train_recall: 0.7349\n",
      "Logistic Regression test_recall: 0.6980\n",
      "Logistic Regression train_mcc: 0.4700\n",
      "Logistic Regression test_mcc: 0.3969\n",
      "Logistic Regression train_f1: 0.7395\n",
      "Logistic Regression test_f1: 0.7068\n",
      "\n",
      "\n",
      "SVC train_accuracy: 0.8090\n",
      "SVC test_accuracy: 0.7054\n",
      "SVC train_recall: 0.8090\n",
      "SVC test_recall: 0.7056\n",
      "SVC train_mcc: 0.6180\n",
      "SVC test_mcc: 0.4119\n",
      "SVC train_f1: 0.8108\n",
      "SVC test_f1: 0.7121\n",
      "\n",
      "\n",
      "Processing cross validation for fold: 2\n",
      "Logistic Regression train_accuracy: 0.7173\n",
      "Logistic Regression test_accuracy: 0.7287\n",
      "Logistic Regression train_recall: 0.7174\n",
      "Logistic Regression test_recall: 0.7286\n",
      "Logistic Regression train_mcc: 0.4350\n",
      "Logistic Regression test_mcc: 0.4573\n",
      "Logistic Regression train_f1: 0.7217\n",
      "Logistic Regression test_f1: 0.7328\n",
      "\n",
      "\n",
      "SVC train_accuracy: 0.7992\n",
      "SVC test_accuracy: 0.7209\n",
      "SVC train_recall: 0.7992\n",
      "SVC test_recall: 0.7210\n",
      "SVC train_mcc: 0.5984\n",
      "SVC test_mcc: 0.4422\n",
      "SVC train_f1: 0.7992\n",
      "SVC test_f1: 0.7188\n",
      "\n",
      "\n",
      "Processing cross validation for fold: 3\n",
      "Logistic Regression train_accuracy: 0.7173\n",
      "Logistic Regression test_accuracy: 0.7054\n",
      "Logistic Regression train_recall: 0.7173\n",
      "Logistic Regression test_recall: 0.7054\n",
      "Logistic Regression train_mcc: 0.4350\n",
      "Logistic Regression test_mcc: 0.4108\n",
      "Logistic Regression train_f1: 0.7238\n",
      "Logistic Regression test_f1: 0.7031\n",
      "\n",
      "\n",
      "SVC train_accuracy: 0.7992\n",
      "SVC test_accuracy: 0.6667\n",
      "SVC train_recall: 0.7992\n",
      "SVC test_recall: 0.6667\n",
      "SVC train_mcc: 0.5985\n",
      "SVC test_mcc: 0.3334\n",
      "SVC train_f1: 0.8015\n",
      "SVC test_f1: 0.6667\n",
      "\n",
      "\n",
      "Processing cross validation for fold: 4\n",
      "Logistic Regression train_accuracy: 0.7271\n",
      "Logistic Regression test_accuracy: 0.6822\n",
      "Logistic Regression train_recall: 0.7271\n",
      "Logistic Regression test_recall: 0.6820\n",
      "Logistic Regression train_mcc: 0.4543\n",
      "Logistic Regression test_mcc: 0.3645\n",
      "Logistic Regression train_f1: 0.7297\n",
      "Logistic Regression test_f1: 0.6917\n",
      "\n",
      "\n",
      "SVC train_accuracy: 0.8031\n",
      "SVC test_accuracy: 0.6822\n",
      "SVC train_recall: 0.8031\n",
      "SVC test_recall: 0.6819\n",
      "SVC train_mcc: 0.6064\n",
      "SVC test_mcc: 0.3650\n",
      "SVC train_f1: 0.8046\n",
      "SVC test_f1: 0.6963\n",
      "\n",
      "\n",
      "Processing cross validation for fold: 5\n",
      "Logistic Regression train_accuracy: 0.7310\n",
      "Logistic Regression test_accuracy: 0.6977\n",
      "Logistic Regression train_recall: 0.7310\n",
      "Logistic Regression test_recall: 0.6982\n",
      "Logistic Regression train_mcc: 0.4622\n",
      "Logistic Regression test_mcc: 0.3999\n",
      "Logistic Regression train_f1: 0.7346\n",
      "Logistic Regression test_f1: 0.6777\n",
      "\n",
      "\n",
      "SVC train_accuracy: 0.7856\n",
      "SVC test_accuracy: 0.7054\n",
      "SVC train_recall: 0.7856\n",
      "SVC test_recall: 0.7061\n",
      "SVC train_mcc: 0.5712\n",
      "SVC test_mcc: 0.4190\n",
      "SVC train_f1: 0.7860\n",
      "SVC test_f1: 0.6780\n",
      "\n",
      "\n",
      "Processing cross validation for fold: 6\n",
      "Logistic Regression train_accuracy: 0.7349\n",
      "Logistic Regression test_accuracy: 0.7132\n",
      "Logistic Regression train_recall: 0.7349\n",
      "Logistic Regression test_recall: 0.7126\n",
      "Logistic Regression train_mcc: 0.4701\n",
      "Logistic Regression test_mcc: 0.4299\n",
      "Logistic Regression train_f1: 0.7405\n",
      "Logistic Regression test_f1: 0.6891\n",
      "\n",
      "\n",
      "SVC train_accuracy: 0.8090\n",
      "SVC test_accuracy: 0.7209\n",
      "SVC train_recall: 0.8089\n",
      "SVC test_recall: 0.7207\n",
      "SVC train_mcc: 0.6186\n",
      "SVC test_mcc: 0.4424\n",
      "SVC train_f1: 0.8137\n",
      "SVC test_f1: 0.7097\n",
      "\n",
      "\n",
      "Processing cross validation for fold: 7\n",
      "Logistic Regression train_accuracy: 0.7271\n",
      "Logistic Regression test_accuracy: 0.7364\n",
      "Logistic Regression train_recall: 0.7271\n",
      "Logistic Regression test_recall: 0.7363\n",
      "Logistic Regression train_mcc: 0.4549\n",
      "Logistic Regression test_mcc: 0.4729\n",
      "Logistic Regression train_f1: 0.7338\n",
      "Logistic Regression test_f1: 0.7424\n",
      "\n",
      "\n",
      "SVC train_accuracy: 0.8090\n",
      "SVC test_accuracy: 0.7287\n",
      "SVC train_recall: 0.8090\n",
      "SVC test_recall: 0.7290\n",
      "SVC train_mcc: 0.6180\n",
      "SVC test_mcc: 0.4590\n",
      "SVC train_f1: 0.8093\n",
      "SVC test_f1: 0.7200\n",
      "\n",
      "\n",
      "Processing cross validation for fold: 8\n",
      "Logistic Regression train_accuracy: 0.7212\n",
      "Logistic Regression test_accuracy: 0.7209\n",
      "Logistic Regression train_recall: 0.7213\n",
      "Logistic Regression test_recall: 0.7216\n",
      "Logistic Regression train_mcc: 0.4425\n",
      "Logistic Regression test_mcc: 0.4505\n",
      "Logistic Regression train_f1: 0.7202\n",
      "Logistic Regression test_f1: 0.7429\n",
      "\n",
      "\n",
      "SVC train_accuracy: 0.7973\n",
      "SVC test_accuracy: 0.6822\n",
      "SVC train_recall: 0.7973\n",
      "SVC test_recall: 0.6827\n",
      "SVC train_mcc: 0.5946\n",
      "SVC test_mcc: 0.3686\n",
      "SVC train_f1: 0.7984\n",
      "SVC test_f1: 0.7007\n",
      "\n",
      "\n",
      "Processing cross validation for fold: 9\n",
      "Logistic Regression train_accuracy: 0.7096\n",
      "Logistic Regression test_accuracy: 0.7519\n",
      "Logistic Regression train_recall: 0.7096\n",
      "Logistic Regression test_recall: 0.7520\n",
      "Logistic Regression train_mcc: 0.4193\n",
      "Logistic Regression test_mcc: 0.5042\n",
      "Logistic Regression train_f1: 0.7129\n",
      "Logistic Regression test_f1: 0.7500\n",
      "\n",
      "\n",
      "SVC train_accuracy: 0.7914\n",
      "SVC test_accuracy: 0.7287\n",
      "SVC train_recall: 0.7914\n",
      "SVC test_recall: 0.7290\n",
      "SVC train_mcc: 0.5829\n",
      "SVC test_mcc: 0.4590\n",
      "SVC train_f1: 0.7898\n",
      "SVC test_f1: 0.7200\n",
      "\n",
      "\n",
      "Processing cross validation for fold: 10\n",
      "Logistic Regression train_accuracy: 0.7251\n",
      "Logistic Regression test_accuracy: 0.7287\n",
      "Logistic Regression train_recall: 0.7251\n",
      "Logistic Regression test_recall: 0.7288\n",
      "Logistic Regression train_mcc: 0.4504\n",
      "Logistic Regression test_mcc: 0.4580\n",
      "Logistic Regression train_f1: 0.7283\n",
      "Logistic Regression test_f1: 0.7328\n",
      "\n",
      "\n",
      "SVC train_accuracy: 0.8090\n",
      "SVC test_accuracy: 0.7597\n",
      "SVC train_recall: 0.8090\n",
      "SVC test_recall: 0.7599\n",
      "SVC train_mcc: 0.6179\n",
      "SVC test_mcc: 0.5201\n",
      "SVC train_f1: 0.8101\n",
      "SVC test_f1: 0.7634\n",
      "\n",
      "\n",
      "mean accuracy for log regression is 0.7162790697674417\n",
      "mean accuracy for svm is 0.710077519379845\n",
      "mean recall for log regression is 0.7163581730769231\n",
      "mean recall for svm is 0.7102524038461537\n",
      "mean mcc for log regression is 0.43449034831721534\n",
      "mean mcc for svm is 0.42206211585890385\n",
      "mean f1 for log regression is 0.7169313061510045\n",
      "mean f1 for svm is 0.7085566401767183\n"
     ]
    }
   ],
   "source": [
    "from sklearn.model_selection import StratifiedShuffleSplit\n",
    "# Your initial setup\n",
    "ns=10\n",
    "scaled_features_df=df3\n",
    "mean_accu_log=0\n",
    "mean_accu_svm=0\n",
    "mean_recall_log=0\n",
    "mean_recall_svm=0\n",
    "mean_mcc_log=0\n",
    "mean_mcc_svm=0\n",
    "mean_f1_log=0\n",
    "mean_f1_svm=0\n",
    "cols=list(featuredict_svm.keys())\n",
    "XX=np.array(scaled_features_df[cols])\n",
    "cv = StratifiedShuffleSplit(n_splits=ns, test_size=0.2, random_state=999)\n",
    "fold_num=0\n",
    "# Splitting\n",
    "for train_index, test_index in cv.split(XX, y):\n",
    "    X_train, X_test = XX[train_index], XX[test_index]\n",
    "    Y_train, Y_test = y[train_index], y[test_index]\n",
    "    # Now you have a train-test split, you can proceed with your analysis\n",
    "    # For instance, \n",
    "    fold_num += 1  # Increment the fold counter\n",
    "    print('Processing cross validation for fold:', fold_num)\n",
    "    #results = models_overfitting2(X_train, Y_train, X_test, Y_test)\n",
    "    #... rest of your code\n",
    "    results = models_overfitting(X_train, Y_train, X_test, Y_test)\n",
    "    mean_accu_log = mean_accu_log + results['logistic_regression']['test_accuracy']\n",
    "    mean_accu_svm = mean_accu_svm + results['svc']['test_accuracy']\n",
    "    mean_recall_log = mean_recall_log + results['logistic_regression']['test_recall']\n",
    "    mean_recall_svm = mean_recall_svm + results['svc']['test_recall']\n",
    "    mean_mcc_log = mean_mcc_log + results['logistic_regression']['test_mcc']\n",
    "    mean_mcc_svm = mean_mcc_svm + results['svc']['test_mcc']\n",
    "    mean_f1_log = mean_f1_log + results['logistic_regression']['test_f1']\n",
    "    mean_f1_svm = mean_f1_svm + results['svc']['test_f1']\n",
    "    \n",
    "print('mean accuracy for log regression is' , mean_accu_log/ns)\n",
    "print('mean accuracy for svm is' , mean_accu_svm/ns)\n",
    "print('mean recall for log regression is' , mean_recall_log/ns)\n",
    "print('mean recall for svm is' , mean_recall_svm/ns)\n",
    "print('mean mcc for log regression is' , mean_mcc_log/ns)\n",
    "print('mean mcc for svm is' , mean_mcc_svm/ns)\n",
    "print('mean f1 for log regression is' , mean_f1_log/ns)\n",
    "print('mean f1 for svm is' , mean_f1_svm/ns)"
   ]
  },
  {
   "cell_type": "code",
   "execution_count": 38,
   "id": "f4ab37d4-e35d-4aa6-a1b0-b59c50af854b",
   "metadata": {},
   "outputs": [],
   "source": [
    "with open(network_name+'_results.pkl' , 'wb') as file:\n",
    "    pickle.dump(data_save,file)"
   ]
  },
  {
   "cell_type": "code",
   "execution_count": 39,
   "id": "bc56ab98-05ac-4485-acdf-e7ce432f2dc6",
   "metadata": {},
   "outputs": [],
   "source": [
    "with open(network_name+'_results.pkl' , 'rb') as file:\n",
    "    load_data=pickle.load(file)\n",
    "    "
   ]
  },
  {
   "cell_type": "code",
   "execution_count": null,
   "id": "54ca7933-a60b-45b7-88e9-3e4d6bd9404e",
   "metadata": {},
   "outputs": [],
   "source": []
  },
  {
   "cell_type": "code",
   "execution_count": null,
   "id": "1ae3ec05-572e-4016-af9f-0fa2950cd813",
   "metadata": {},
   "outputs": [],
   "source": []
  }
 ],
 "metadata": {
  "kernelspec": {
   "display_name": "Python 3 (ipykernel)",
   "language": "python",
   "name": "python3"
  },
  "language_info": {
   "codemirror_mode": {
    "name": "ipython",
    "version": 3
   },
   "file_extension": ".py",
   "mimetype": "text/x-python",
   "name": "python",
   "nbconvert_exporter": "python",
   "pygments_lexer": "ipython3",
   "version": "3.9.15"
  }
 },
 "nbformat": 4,
 "nbformat_minor": 5
}
