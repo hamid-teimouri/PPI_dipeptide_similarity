{
 "cells": [
  {
   "cell_type": "markdown",
   "id": "5ea7467d-0211-412b-9907-56ce7b28efae",
   "metadata": {},
   "source": [
    "## An illustrative example of protein-protein interaction: Two-component PhoB-PhoR system in E. coli"
   ]
  },
  {
   "cell_type": "code",
   "execution_count": 2,
   "id": "c74dd3fc-9fbb-46b8-b143-c1528cc5cb29",
   "metadata": {},
   "outputs": [
    {
     "name": "stderr",
     "output_type": "stream",
     "text": [
      "<frozen importlib._bootstrap>:228: RuntimeWarning: scipy._lib.messagestream.MessageStream size changed, may indicate binary incompatibility. Expected 56 from C header, got 64 from PyObject\n"
     ]
    },
    {
     "name": "stdout",
     "output_type": "stream",
     "text": [
      "1.25.2\n",
      "1.4.4\n",
      "3.9.15 (main, Nov 24 2022, 08:29:02) \n",
      "[Clang 14.0.6 ]\n",
      "importing Jupyter notebook from PPI_functions.ipynb\n",
      "1.25.2\n",
      "1.4.4\n",
      "3.9.15 (main, Nov 24 2022, 08:29:02) \n",
      "[Clang 14.0.6 ]\n"
     ]
    }
   ],
   "source": [
    "import numpy as np\n",
    "import pandas as pd\n",
    "import seaborn as sns\n",
    "from sklearn import datasets\n",
    "from sklearn import svm\n",
    "import matplotlib.pyplot as plt\n",
    "#%matplotlib inline\n",
    "sns.set_style('whitegrid')\n",
    "print(np.__version__)\n",
    "print(pd.__version__)\n",
    "import sys\n",
    "print(sys.version)\n",
    "import sklearn\n",
    "import pingouin as pg\n",
    "\n",
    "#print(sklearn.__version__)\n",
    "import import_ipynb\n",
    "from PPI_functions import *\n",
    "from scipy.stats import ks_2samp\n",
    "\n",
    "from statsmodels.stats.weightstats import ztest as ztest"
   ]
  },
  {
   "cell_type": "code",
   "execution_count": 8,
   "id": "a59b80cf-065f-41b9-a284-158130ae1db0",
   "metadata": {},
   "outputs": [],
   "source": [
    "# Extract propy descriptors\n",
    "#Descriptors_complete('TCS_3proteins.txt','TCS_descriptors.csv')"
   ]
  },
  {
   "cell_type": "code",
   "execution_count": 9,
   "id": "2f97dab9-4e94-4f9e-9f7d-ac457ac351bb",
   "metadata": {},
   "outputs": [
    {
     "data": {
      "text/html": [
       "<div>\n",
       "<style scoped>\n",
       "    .dataframe tbody tr th:only-of-type {\n",
       "        vertical-align: middle;\n",
       "    }\n",
       "\n",
       "    .dataframe tbody tr th {\n",
       "        vertical-align: top;\n",
       "    }\n",
       "\n",
       "    .dataframe thead th {\n",
       "        text-align: right;\n",
       "    }\n",
       "</style>\n",
       "<table border=\"1\" class=\"dataframe\">\n",
       "  <thead>\n",
       "    <tr style=\"text-align: right;\">\n",
       "      <th></th>\n",
       "      <th>net_charge</th>\n",
       "      <th>AMP_Name</th>\n",
       "      <th>A</th>\n",
       "      <th>R</th>\n",
       "      <th>N</th>\n",
       "      <th>D</th>\n",
       "      <th>C</th>\n",
       "      <th>E</th>\n",
       "      <th>Q</th>\n",
       "      <th>G</th>\n",
       "      <th>...</th>\n",
       "      <th>QSOgrant41</th>\n",
       "      <th>QSOgrant42</th>\n",
       "      <th>QSOgrant43</th>\n",
       "      <th>QSOgrant44</th>\n",
       "      <th>QSOgrant45</th>\n",
       "      <th>QSOgrant46</th>\n",
       "      <th>QSOgrant47</th>\n",
       "      <th>QSOgrant48</th>\n",
       "      <th>QSOgrant49</th>\n",
       "      <th>QSOgrant50</th>\n",
       "    </tr>\n",
       "  </thead>\n",
       "  <tbody>\n",
       "    <tr>\n",
       "      <th>0</th>\n",
       "      <td>2</td>\n",
       "      <td>PhoR</td>\n",
       "      <td>5.000</td>\n",
       "      <td>5.000</td>\n",
       "      <td>1.667</td>\n",
       "      <td>1.667</td>\n",
       "      <td>3.333</td>\n",
       "      <td>3.333</td>\n",
       "      <td>0.000</td>\n",
       "      <td>5.000</td>\n",
       "      <td>...</td>\n",
       "      <td>0.027691</td>\n",
       "      <td>0.027704</td>\n",
       "      <td>0.024517</td>\n",
       "      <td>0.028898</td>\n",
       "      <td>0.026423</td>\n",
       "      <td>0.027024</td>\n",
       "      <td>0.029425</td>\n",
       "      <td>0.023882</td>\n",
       "      <td>0.024290</td>\n",
       "      <td>0.028707</td>\n",
       "    </tr>\n",
       "    <tr>\n",
       "      <th>1</th>\n",
       "      <td>6</td>\n",
       "      <td>PhoB</td>\n",
       "      <td>3.333</td>\n",
       "      <td>13.333</td>\n",
       "      <td>3.333</td>\n",
       "      <td>1.667</td>\n",
       "      <td>0.000</td>\n",
       "      <td>8.333</td>\n",
       "      <td>3.333</td>\n",
       "      <td>11.667</td>\n",
       "      <td>...</td>\n",
       "      <td>0.033213</td>\n",
       "      <td>0.035060</td>\n",
       "      <td>0.036064</td>\n",
       "      <td>0.029299</td>\n",
       "      <td>0.027465</td>\n",
       "      <td>0.027153</td>\n",
       "      <td>0.027941</td>\n",
       "      <td>0.022738</td>\n",
       "      <td>0.019890</td>\n",
       "      <td>0.020201</td>\n",
       "    </tr>\n",
       "    <tr>\n",
       "      <th>2</th>\n",
       "      <td>3</td>\n",
       "      <td>NarL</td>\n",
       "      <td>1.667</td>\n",
       "      <td>10.000</td>\n",
       "      <td>10.000</td>\n",
       "      <td>3.333</td>\n",
       "      <td>1.667</td>\n",
       "      <td>5.000</td>\n",
       "      <td>6.667</td>\n",
       "      <td>6.667</td>\n",
       "      <td>...</td>\n",
       "      <td>0.025952</td>\n",
       "      <td>0.023102</td>\n",
       "      <td>0.026654</td>\n",
       "      <td>0.030634</td>\n",
       "      <td>0.017533</td>\n",
       "      <td>0.020648</td>\n",
       "      <td>0.028682</td>\n",
       "      <td>0.023986</td>\n",
       "      <td>0.025309</td>\n",
       "      <td>0.021938</td>\n",
       "    </tr>\n",
       "  </tbody>\n",
       "</table>\n",
       "<p>3 rows × 1539 columns</p>\n",
       "</div>"
      ],
      "text/plain": [
       "   net_charge AMP_Name      A       R       N      D      C      E      Q  \\\n",
       "0           2     PhoR  5.000   5.000   1.667  1.667  3.333  3.333  0.000   \n",
       "1           6     PhoB  3.333  13.333   3.333  1.667  0.000  8.333  3.333   \n",
       "2           3     NarL  1.667  10.000  10.000  3.333  1.667  5.000  6.667   \n",
       "\n",
       "        G  ...  QSOgrant41  QSOgrant42  QSOgrant43  QSOgrant44  QSOgrant45  \\\n",
       "0   5.000  ...    0.027691    0.027704    0.024517    0.028898    0.026423   \n",
       "1  11.667  ...    0.033213    0.035060    0.036064    0.029299    0.027465   \n",
       "2   6.667  ...    0.025952    0.023102    0.026654    0.030634    0.017533   \n",
       "\n",
       "   QSOgrant46  QSOgrant47  QSOgrant48  QSOgrant49  QSOgrant50  \n",
       "0    0.027024    0.029425    0.023882    0.024290    0.028707  \n",
       "1    0.027153    0.027941    0.022738    0.019890    0.020201  \n",
       "2    0.020648    0.028682    0.023986    0.025309    0.021938  \n",
       "\n",
       "[3 rows x 1539 columns]"
      ]
     },
     "execution_count": 9,
     "metadata": {},
     "output_type": "execute_result"
    }
   ],
   "source": [
    "df=pd.read_csv('TCS_descriptors.csv')\n",
    "df1=df.drop(columns=['Unnamed: 0'])\n",
    "df1"
   ]
  },
  {
   "cell_type": "code",
   "execution_count": 41,
   "id": "1ebb0bef-bc54-4505-822f-c104c36aa8b2",
   "metadata": {},
   "outputs": [
    {
     "data": {
      "text/html": [
       "<div>\n",
       "<style scoped>\n",
       "    .dataframe tbody tr th:only-of-type {\n",
       "        vertical-align: middle;\n",
       "    }\n",
       "\n",
       "    .dataframe tbody tr th {\n",
       "        vertical-align: top;\n",
       "    }\n",
       "\n",
       "    .dataframe thead th {\n",
       "        text-align: right;\n",
       "    }\n",
       "</style>\n",
       "<table border=\"1\" class=\"dataframe\">\n",
       "  <thead>\n",
       "    <tr style=\"text-align: right;\">\n",
       "      <th></th>\n",
       "      <th>AMP_Name</th>\n",
       "      <th>AA</th>\n",
       "      <th>AR</th>\n",
       "      <th>AN</th>\n",
       "      <th>AD</th>\n",
       "      <th>AC</th>\n",
       "      <th>AE</th>\n",
       "      <th>AQ</th>\n",
       "      <th>AG</th>\n",
       "      <th>AH</th>\n",
       "      <th>...</th>\n",
       "      <th>VL</th>\n",
       "      <th>VK</th>\n",
       "      <th>VM</th>\n",
       "      <th>VF</th>\n",
       "      <th>VP</th>\n",
       "      <th>VS</th>\n",
       "      <th>VT</th>\n",
       "      <th>VW</th>\n",
       "      <th>VY</th>\n",
       "      <th>VV</th>\n",
       "    </tr>\n",
       "  </thead>\n",
       "  <tbody>\n",
       "    <tr>\n",
       "      <th>0</th>\n",
       "      <td>PhoR</td>\n",
       "      <td>0.0</td>\n",
       "      <td>0.0</td>\n",
       "      <td>0.0</td>\n",
       "      <td>0.0</td>\n",
       "      <td>0.0</td>\n",
       "      <td>0.00</td>\n",
       "      <td>0.00</td>\n",
       "      <td>0.0</td>\n",
       "      <td>0.0</td>\n",
       "      <td>...</td>\n",
       "      <td>1.69</td>\n",
       "      <td>0.0</td>\n",
       "      <td>0.00</td>\n",
       "      <td>0.0</td>\n",
       "      <td>0.0</td>\n",
       "      <td>0.0</td>\n",
       "      <td>1.69</td>\n",
       "      <td>0.0</td>\n",
       "      <td>0.0</td>\n",
       "      <td>0.00</td>\n",
       "    </tr>\n",
       "    <tr>\n",
       "      <th>1</th>\n",
       "      <td>PhoB</td>\n",
       "      <td>0.0</td>\n",
       "      <td>0.0</td>\n",
       "      <td>0.0</td>\n",
       "      <td>0.0</td>\n",
       "      <td>0.0</td>\n",
       "      <td>1.69</td>\n",
       "      <td>0.00</td>\n",
       "      <td>0.0</td>\n",
       "      <td>0.0</td>\n",
       "      <td>...</td>\n",
       "      <td>1.69</td>\n",
       "      <td>0.0</td>\n",
       "      <td>0.00</td>\n",
       "      <td>0.0</td>\n",
       "      <td>0.0</td>\n",
       "      <td>0.0</td>\n",
       "      <td>0.00</td>\n",
       "      <td>0.0</td>\n",
       "      <td>0.0</td>\n",
       "      <td>1.69</td>\n",
       "    </tr>\n",
       "    <tr>\n",
       "      <th>2</th>\n",
       "      <td>NarL</td>\n",
       "      <td>0.0</td>\n",
       "      <td>0.0</td>\n",
       "      <td>0.0</td>\n",
       "      <td>0.0</td>\n",
       "      <td>0.0</td>\n",
       "      <td>0.00</td>\n",
       "      <td>1.69</td>\n",
       "      <td>0.0</td>\n",
       "      <td>0.0</td>\n",
       "      <td>...</td>\n",
       "      <td>1.69</td>\n",
       "      <td>0.0</td>\n",
       "      <td>1.69</td>\n",
       "      <td>0.0</td>\n",
       "      <td>0.0</td>\n",
       "      <td>0.0</td>\n",
       "      <td>0.00</td>\n",
       "      <td>0.0</td>\n",
       "      <td>0.0</td>\n",
       "      <td>0.00</td>\n",
       "    </tr>\n",
       "  </tbody>\n",
       "</table>\n",
       "<p>3 rows × 401 columns</p>\n",
       "</div>"
      ],
      "text/plain": [
       "  AMP_Name   AA   AR   AN   AD   AC    AE    AQ   AG   AH  ...    VL   VK  \\\n",
       "0     PhoR  0.0  0.0  0.0  0.0  0.0  0.00  0.00  0.0  0.0  ...  1.69  0.0   \n",
       "1     PhoB  0.0  0.0  0.0  0.0  0.0  1.69  0.00  0.0  0.0  ...  1.69  0.0   \n",
       "2     NarL  0.0  0.0  0.0  0.0  0.0  0.00  1.69  0.0  0.0  ...  1.69  0.0   \n",
       "\n",
       "     VM   VF   VP   VS    VT   VW   VY    VV  \n",
       "0  0.00  0.0  0.0  0.0  1.69  0.0  0.0  0.00  \n",
       "1  0.00  0.0  0.0  0.0  0.00  0.0  0.0  1.69  \n",
       "2  1.69  0.0  0.0  0.0  0.00  0.0  0.0  0.00  \n",
       "\n",
       "[3 rows x 401 columns]"
      ]
     },
     "execution_count": 41,
     "metadata": {},
     "output_type": "execute_result"
    }
   ],
   "source": [
    "selected_columns = df1.loc[:,'AA':'VV']\n",
    "selected_columns = df1.loc[:, ['AMP_Name'] + list(df1.loc[:, 'AA':'VV'].columns) ]\n",
    "#selected_columns = selected_columns.loc[:, ~(selected_columns == 0).all()]\n",
    "selected_columns"
   ]
  },
  {
   "cell_type": "code",
   "execution_count": 70,
   "id": "27f1197c-6f6e-49fe-bb19-cb9f85e32edb",
   "metadata": {},
   "outputs": [
    {
     "name": "stdout",
     "output_type": "stream",
     "text": [
      "T-statistic: 0.09805916424615786\n",
      "P-value: 0.9219345543115403\n",
      "There is no significant difference in dipeptide compositions between PhoR-NarL and PhoR-PhoB.\n"
     ]
    }
   ],
   "source": [
    "df=selected_columns\n",
    "phor_values = df[df['AMP_Name'] == 'PhoR'].iloc[0, 1:].values\n",
    "narl_values = df[df['AMP_Name'] == 'NarL'].iloc[0, 1:].values\n",
    "phob_values = df[df['AMP_Name'] == 'PhoB'].iloc[0, 1:].values\n",
    "\n",
    "t_stat, p_value = stats.ttest_rel(phor_values, phob_values)\n",
    "\n",
    "print(f\"T-statistic: {t_stat}\")\n",
    "print(f\"P-value: {p_value}\")\n",
    "if p_value < 0.05:\n",
    "    print(\"The differences in dipeptide compositions between PhoR-NarL and PhoR-PhoB are statistically significant.\")\n",
    "else:\n",
    "    print(\"There is no significant difference in dipeptide compositions between PhoR-NarL and PhoR-PhoB.\")\n"
   ]
  },
  {
   "cell_type": "code",
   "execution_count": 55,
   "id": "8c0c331e-8b04-452b-ae86-cb8d8be569d8",
   "metadata": {},
   "outputs": [
    {
     "name": "stdout",
     "output_type": "stream",
     "text": [
      "Fraction of dipeptides in terms of which 'PhoR' and 'NarL' are not similar: 0.65\n"
     ]
    }
   ],
   "source": [
    "df=selected_columns\n",
    "# Extract the rows for 'PhoR' and 'PhoB'\n",
    "phor_values = df[df['AMP_Name'] == 'PhoR'].iloc[0, 1:].values\n",
    "NarL_values = df[df['AMP_Name'] == 'PhoB'].iloc[0, 1:].values\n",
    "\n",
    "# Compare the two rows\n",
    "similar_entries = (phor_values != NarL_values).sum()\n",
    "\n",
    "# Calculate the fraction of similar dipeptides\n",
    "fraction_similar = similar_entries / (df.shape[1] - 1)  # Subtract 1 for 'AMP_Name' column\n",
    "\n",
    "print(f\"Fraction of dipeptides in terms of which 'PhoR' and 'NarL' are not similar: {fraction_similar:.2f}\")"
   ]
  },
  {
   "cell_type": "code",
   "execution_count": 56,
   "id": "3af74f18-8e08-4958-a01c-0019ca71ee03",
   "metadata": {},
   "outputs": [
    {
     "data": {
      "text/html": [
       "<div>\n",
       "<style scoped>\n",
       "    .dataframe tbody tr th:only-of-type {\n",
       "        vertical-align: middle;\n",
       "    }\n",
       "\n",
       "    .dataframe tbody tr th {\n",
       "        vertical-align: top;\n",
       "    }\n",
       "\n",
       "    .dataframe thead th {\n",
       "        text-align: right;\n",
       "    }\n",
       "</style>\n",
       "<table border=\"1\" class=\"dataframe\">\n",
       "  <thead>\n",
       "    <tr style=\"text-align: right;\">\n",
       "      <th></th>\n",
       "      <th>AMP_Name</th>\n",
       "      <th>AE</th>\n",
       "      <th>AQ</th>\n",
       "      <th>AF</th>\n",
       "      <th>AS</th>\n",
       "      <th>AV</th>\n",
       "      <th>RR</th>\n",
       "      <th>RN</th>\n",
       "      <th>RD</th>\n",
       "      <th>RE</th>\n",
       "      <th>...</th>\n",
       "      <th>WW</th>\n",
       "      <th>WV</th>\n",
       "      <th>YG</th>\n",
       "      <th>YL</th>\n",
       "      <th>YP</th>\n",
       "      <th>VD</th>\n",
       "      <th>VL</th>\n",
       "      <th>VM</th>\n",
       "      <th>VT</th>\n",
       "      <th>VV</th>\n",
       "    </tr>\n",
       "  </thead>\n",
       "  <tbody>\n",
       "    <tr>\n",
       "      <th>0</th>\n",
       "      <td>PhoR-NarL</td>\n",
       "      <td>0.00</td>\n",
       "      <td>1.69</td>\n",
       "      <td>3.39</td>\n",
       "      <td>1.69</td>\n",
       "      <td>0.00</td>\n",
       "      <td>0.00</td>\n",
       "      <td>0.00</td>\n",
       "      <td>1.69</td>\n",
       "      <td>0.00</td>\n",
       "      <td>...</td>\n",
       "      <td>1.69</td>\n",
       "      <td>1.69</td>\n",
       "      <td>0.00</td>\n",
       "      <td>0.00</td>\n",
       "      <td>1.69</td>\n",
       "      <td>1.69</td>\n",
       "      <td>0.0</td>\n",
       "      <td>1.69</td>\n",
       "      <td>1.69</td>\n",
       "      <td>0.00</td>\n",
       "    </tr>\n",
       "    <tr>\n",
       "      <th>1</th>\n",
       "      <td>PhoRB</td>\n",
       "      <td>1.69</td>\n",
       "      <td>0.00</td>\n",
       "      <td>3.39</td>\n",
       "      <td>1.69</td>\n",
       "      <td>1.69</td>\n",
       "      <td>1.69</td>\n",
       "      <td>1.69</td>\n",
       "      <td>0.00</td>\n",
       "      <td>1.69</td>\n",
       "      <td>...</td>\n",
       "      <td>1.69</td>\n",
       "      <td>1.69</td>\n",
       "      <td>1.69</td>\n",
       "      <td>1.69</td>\n",
       "      <td>0.00</td>\n",
       "      <td>1.69</td>\n",
       "      <td>0.0</td>\n",
       "      <td>0.00</td>\n",
       "      <td>1.69</td>\n",
       "      <td>1.69</td>\n",
       "    </tr>\n",
       "  </tbody>\n",
       "</table>\n",
       "<p>2 rows × 128 columns</p>\n",
       "</div>"
      ],
      "text/plain": [
       "    AMP_Name    AE    AQ    AF    AS    AV    RR    RN    RD    RE  ...    WW  \\\n",
       "0  PhoR-NarL  0.00  1.69  3.39  1.69  0.00  0.00  0.00  1.69  0.00  ...  1.69   \n",
       "1      PhoRB  1.69  0.00  3.39  1.69  1.69  1.69  1.69  0.00  1.69  ...  1.69   \n",
       "\n",
       "     WV    YG    YL    YP    VD   VL    VM    VT    VV  \n",
       "0  1.69  0.00  0.00  1.69  1.69  0.0  1.69  1.69  0.00  \n",
       "1  1.69  1.69  1.69  0.00  1.69  0.0  0.00  1.69  1.69  \n",
       "\n",
       "[2 rows x 128 columns]"
      ]
     },
     "execution_count": 56,
     "metadata": {},
     "output_type": "execute_result"
    }
   ],
   "source": [
    "import pandas as pd\n",
    "\n",
    "\n",
    "\n",
    "# Compute differences for 'PhoR-NarL' and 'PhoRB'\n",
    "phor_values = df[df['AMP_Name'] == 'PhoR'].iloc[0, 1:].values\n",
    "narl_values = df[df['AMP_Name'] == 'NarL'].iloc[0, 1:].values\n",
    "phob_values = df[df['AMP_Name'] == 'PhoB'].iloc[0, 1:].values\n",
    "\n",
    "phor_narl_diff = np.abs(phor_values - narl_values)\n",
    "\n",
    "phorb_diff = np.abs(phor_values - phob_values)\n",
    "\n",
    "# Construct the resulting dataframe\n",
    "result_df = pd.DataFrame([phor_narl_diff, phorb_diff], columns=df.columns[1:])\n",
    "result_df['AMP_Name'] = ['PhoR-NarL', 'PhoRB']\n",
    "result_df = result_df[['AMP_Name'] + [col for col in result_df if col != 'AMP_Name']]  # Reorder columns\n",
    "\n",
    "result_df\n"
   ]
  },
  {
   "cell_type": "code",
   "execution_count": 59,
   "id": "e7fa98a5-02d2-4a95-9341-df5c889484c2",
   "metadata": {},
   "outputs": [
    {
     "name": "stdout",
     "output_type": "stream",
     "text": [
      "T-statistic: 0.002833797876437059\n",
      "P-value: 0.9977434411730247\n",
      "There is no significant difference in dipeptide compositions between PhoR-NarL and PhoR-PhoB.\n"
     ]
    }
   ],
   "source": [
    "import scipy.stats as stats\n",
    "df=result_df\n",
    "df_diff = df.set_index('AMP_Name').transpose()\n",
    "\n",
    "# Assuming df_diff has been created as previously shown\n",
    "phor_narl_diffs = df_diff['PhoR-NarL'].values\n",
    "phor_phob_diffs = df_diff['PhoRB'].values\n",
    "\n",
    "t_stat, p_value = stats.ttest_rel(phor_narl_diffs, phor_phob_diffs)\n",
    "\n",
    "print(f\"T-statistic: {t_stat}\")\n",
    "print(f\"P-value: {p_value}\")\n",
    "\n",
    "if p_value < 0.05:\n",
    "    print(\"The differences in dipeptide compositions between PhoR-NarL and PhoR-PhoB are statistically significant.\")\n",
    "else:\n",
    "    print(\"There is no significant difference in dipeptide compositions between PhoR-NarL and PhoR-PhoB.\")\n"
   ]
  },
  {
   "cell_type": "code",
   "execution_count": 61,
   "id": "ec667094-2fae-48ce-b9ba-1e3ad6716b06",
   "metadata": {},
   "outputs": [
    {
     "data": {
      "text/plain": [
       "array([1.69, 0.  , 3.39, 1.69, 1.69, 1.69, 1.69, 0.  , 1.69, 1.69, 0.  ,\n",
       "       5.08, 1.69, 0.  , 3.39, 0.  , 0.  , 0.  , 0.  , 0.  , 0.  , 1.69,\n",
       "       0.  , 1.69, 0.  , 0.  , 0.  , 1.69, 1.69, 1.69, 0.  , 1.69, 1.69,\n",
       "       0.  , 0.  , 0.  , 1.69, 1.69, 0.  , 0.  , 0.  , 1.69, 1.69, 0.  ,\n",
       "       0.  , 1.69, 1.69, 0.  , 1.69, 1.69, 0.  , 1.69, 1.69, 1.69, 0.  ,\n",
       "       1.69, 0.  , 1.69, 1.69, 1.69, 1.69, 0.  , 0.  , 1.69, 3.39, 0.  ,\n",
       "       1.69, 0.  , 5.09, 0.  , 1.7 , 3.39, 1.69, 1.69, 1.69, 1.69, 1.7 ,\n",
       "       1.69, 0.  , 1.69, 1.69, 1.69, 1.69, 1.69, 1.69, 1.69, 1.69, 0.  ,\n",
       "       0.  , 1.69, 1.69, 1.69, 0.  , 1.69, 1.69, 1.69, 1.69, 0.  , 1.69,\n",
       "       1.69, 1.69, 1.7 , 1.69, 0.  , 1.69, 0.  , 1.69, 1.69, 1.69, 1.69,\n",
       "       0.  , 1.69, 1.69, 1.69, 1.69, 1.69, 0.  , 1.69, 1.69, 1.69, 1.69,\n",
       "       0.  , 1.69, 0.  , 0.  , 1.69, 1.69])"
      ]
     },
     "execution_count": 61,
     "metadata": {},
     "output_type": "execute_result"
    }
   ],
   "source": [
    "phor_phob_diffs"
   ]
  },
  {
   "cell_type": "code",
   "execution_count": 53,
   "id": "b5b4a1b5-86eb-4ba0-a193-133337d691eb",
   "metadata": {},
   "outputs": [
    {
     "data": {
      "image/png": "[encoded data removed]",
      "text/plain": [
       "<Figure size 640x480 with 1 Axes>"
      ]
     },
     "metadata": {},
     "output_type": "display_data"
    }
   ],
   "source": [
    "import pandas as pd\n",
    "import matplotlib.pyplot as plt\n",
    "\n",
    "# Plotting the bar plot\n",
    "plt.bar(df1['AMP_Name'], df1['IK'], color='green')\n",
    "#plt.xlabel('AMP Names')\n",
    "plt.ylabel('Dipeptide IK Composition', fontsize=15)\n",
    "plt.grid(False)  # Turn off the grid\n",
    "plt.tick_params(labelsize=15)\n",
    "plt.savefig('IK.pdf', bbox_inches = 'tight',pad_inches = 0)\n",
    "plt.show()\n"
   ]
  },
  {
   "cell_type": "code",
   "execution_count": 54,
   "id": "365133be-9cd9-4ced-8677-89e458dab4bf",
   "metadata": {},
   "outputs": [
    {
     "data": {
      "image/png": "[encoded data removed]",
      "text/plain": [
       "<Figure size 640x480 with 1 Axes>"
      ]
     },
     "metadata": {},
     "output_type": "display_data"
    }
   ],
   "source": [
    "\n",
    "\n",
    "# Plotting the bar plot\n",
    "plt.bar(df1['AMP_Name'], df1['MoranAuto_Mutability27'], color='green')\n",
    "#plt.xlabel('AMP Names')\n",
    "plt.ylabel('MoranAuto_Mutability27', fontsize=15)\n",
    "plt.grid(False)  # Turn off the grid\n",
    "plt.tick_params(labelsize=15)\n",
    "plt.savefig('MoranAuto_Mutability27.pdf', bbox_inches = 'tight',pad_inches = 0)\n",
    "plt.show()\n"
   ]
  },
  {
   "cell_type": "code",
   "execution_count": 71,
   "id": "72b85b73-4ab6-4352-9825-beab96702ee5",
   "metadata": {},
   "outputs": [
    {
     "data": {
      "image/png": "[encoded data removed]",
      "text/plain": [
       "<Figure size 640x480 with 1 Axes>"
      ]
     },
     "metadata": {},
     "output_type": "display_data"
    }
   ],
   "source": [
    "\n",
    "\n",
    "\n",
    "# Plotting the bar plot\n",
    "plt.bar(df1['AMP_Name'], df1['VV'], color='green')\n",
    "#plt.xlabel('AMP Names')\n",
    "plt.ylabel('Dipeptide VV Composition', fontsize=15)\n",
    "plt.grid(False)  # Turn off the grid\n",
    "plt.tick_params(labelsize=15)\n",
    "plt.savefig('VV.pdf', bbox_inches = 'tight',pad_inches = 0)\n",
    "plt.show()\n"
   ]
  },
  {
   "cell_type": "code",
   "execution_count": 78,
   "id": "a9a79792-a494-471e-9308-d50b7355ec93",
   "metadata": {},
   "outputs": [
    {
     "data": {
      "image/png": "[encoded data removed]",
      "text/plain": [
       "<Figure size 640x480 with 1 Axes>"
      ]
     },
     "metadata": {},
     "output_type": "display_data"
    }
   ],
   "source": [
    "\n",
    "\n",
    "# Plotting the bar plot\n",
    "plt.bar(df1['AMP_Name'], df1['EE'], color='green')\n",
    "#plt.xlabel('AMP Names')\n",
    "plt.ylabel('Dipeptide EE Composition', fontsize=15)\n",
    "plt.grid(False)  # Turn off the grid\n",
    "plt.tick_params(labelsize=15)\n",
    "plt.savefig('EE.pdf', bbox_inches = 'tight',pad_inches = 0)\n",
    "plt.show()\n"
   ]
  },
  {
   "cell_type": "code",
   "execution_count": null,
   "id": "a942632d-e8dd-4767-aafa-c6d8773b9158",
   "metadata": {},
   "outputs": [],
   "source": [
    "PAAC11"
   ]
  },
  {
   "cell_type": "code",
   "execution_count": null,
   "id": "503a71e4-858b-4be9-b384-762baa62890d",
   "metadata": {},
   "outputs": [],
   "source": []
  },
  {
   "cell_type": "code",
   "execution_count": 21,
   "id": "72f52bc3-30f6-41f3-aa75-f63db6d997e8",
   "metadata": {},
   "outputs": [
    {
     "data": {
      "image/png": "[encoded data removed]",
      "text/plain": [
       "<Figure size 640x480 with 1 Axes>"
      ]
     },
     "metadata": {},
     "output_type": "display_data"
    }
   ],
   "source": [
    "import pandas as pd\n",
    "import matplotlib.pyplot as plt\n",
    "import numpy as np\n",
    "feature1='IK'\n",
    "feature2='KQ'\n",
    "feature3='KV'\n",
    "\n",
    "\n",
    "\n",
    "# Bar width and positions\n",
    "bar_width = 0.25\n",
    "r1 = np.arange(len(df1[feature1]))\n",
    "r2 = [x + bar_width for x in r1]\n",
    "r3 = [x + bar_width for x in r2]\n",
    "\n",
    "# Plotting the bars\n",
    "plt.bar(r1, df1[feature1], width=bar_width, label=df1['AMP_Name'][0])\n",
    "plt.bar(r2, df1[feature2], width=bar_width, label=df1['AMP_Name'][1])\n",
    "plt.bar(r3, df1[feature3], width=bar_width, label=df1['AMP_Name'][2])\n",
    "\n",
    "# Adjusting the x-axis\n",
    "#plt.xlabel('Feature Names', fontweight='bold')\n",
    "feature_labels = [feature1, feature2, feature3]\n",
    "plt.xticks([r + bar_width for r in range(len(df1[feature1]))], feature_labels)\n",
    "\n",
    "plt.ylabel('Value')\n",
    "plt.title('Bar plot of YL Features for each AMP Name')\n",
    "plt.grid(False)  # Turn off the grid\n",
    "plt.legend()\n",
    "plt.show()\n"
   ]
  },
  {
   "cell_type": "code",
   "execution_count": null,
   "id": "ef1a19b8-146d-4702-9edd-4d6fc667063e",
   "metadata": {},
   "outputs": [],
   "source": []
  }
 ],
 "metadata": {
  "kernelspec": {
   "display_name": "Python 3 (ipykernel)",
   "language": "python",
   "name": "python3"
  },
  "language_info": {
   "codemirror_mode": {
    "name": "ipython",
    "version": 3
   },
   "file_extension": ".py",
   "mimetype": "text/x-python",
   "name": "python",
   "nbconvert_exporter": "python",
   "pygments_lexer": "ipython3",
   "version": "3.9.7"
  }
 },
 "nbformat": 4,
 "nbformat_minor": 5
}
